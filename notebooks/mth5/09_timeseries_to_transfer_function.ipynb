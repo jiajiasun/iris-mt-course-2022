{
 "cells": [
  {
   "cell_type": "markdown",
   "metadata": {},
   "source": [
    "# Example 10: Full workflow\n",
    "\n",
    "This example contains the full workflow\n",
    "1. Request data from IRIS to make an MTH5\n",
    "2. Compute a transfer function using Aurora\n",
    "3. Adding the transfer function to MHT5\n",
    "4. Visualize using MTpy\n",
    "\n",
    "**Note:** this example assumes that data availability (Network, Station, Channel, Start, End) are all previously known.  If you do not know the data that you want to download use [IRIS tools](https://ds.iris.edu/ds/nodes/dmc/tools/##) to get data availability.   "
   ]
  },
  {
   "cell_type": "markdown",
   "metadata": {},
   "source": [
    "## 1. Create MTH5 from IRIS"
   ]
  },
  {
   "cell_type": "code",
   "execution_count": 2,
   "metadata": {},
   "outputs": [
    {
     "name": "stderr",
     "output_type": "stream",
     "text": [
      "2022-10-19 19:18:17,370 [line 135] mth5.setup_logger - INFO: Logging file can be found C:\\Users\\jpeacock\\OneDrive - DOI\\Documents\\GitHub\\mth5\\logs\\mth5_debug.log\n"
     ]
    }
   ],
   "source": [
    "from pathlib import Path\n",
    "\n",
    "import numpy as np\n",
    "import pandas as pd\n",
    "from mth5.mth5 import MTH5\n",
    "from mth5.clients.make_mth5 import MakeMTH5\n",
    "\n",
    "from matplotlib import pyplot as plt\n",
    "%matplotlib inline"
   ]
  },
  {
   "cell_type": "markdown",
   "metadata": {},
   "source": [
    "### Set the path to save files to as the current working directory"
   ]
  },
  {
   "cell_type": "code",
   "execution_count": 3,
   "metadata": {},
   "outputs": [
    {
     "name": "stdout",
     "output_type": "stream",
     "text": [
      "C:\\Users\\jpeacock\\OneDrive - DOI\\Documents\\GitHub\\iris-mt-course-2022\\notebooks\\mth5\n"
     ]
    }
   ],
   "source": [
    "default_path = Path().cwd()\n",
    "print(default_path)"
   ]
  },
  {
   "cell_type": "markdown",
   "metadata": {},
   "source": [
    "### Initialize a MakeMTH5 object\n",
    "\n",
    "Here, we are setting the MTH5 file version to 0.2.0 so that we can have multiple surveys in a single file.  Also, setting the client to \"IRIS\".  Here, we are using `obspy.clients` tools for the request.  Here are the available [FDSN clients](https://docs.obspy.org/packages/obspy.clients.fdsn.html). \n",
    "\n",
    "**Note:** Only the \"IRIS\" client has been tested."
   ]
  },
  {
   "cell_type": "code",
   "execution_count": 7,
   "metadata": {},
   "outputs": [],
   "source": [
    "make_mth5_object = MakeMTH5(mth5_version='0.2.0')\n",
    "make_mth5_object.client = \"IRIS\""
   ]
  },
  {
   "cell_type": "markdown",
   "metadata": {},
   "source": [
    "### Make the data inquiry as a DataFrame\n",
    "\n",
    "There are a few ways to make the inquiry to request data.  \n",
    "\n",
    "1. Make a DataFrame by hand.  Here we will make a list of entries and then create a DataFrame with the proper column names\n",
    "2. You can create a CSV file with a row for each entry. There are some formatting that you need to be aware of.  That is the column names and making sure that date-times are YYYY-MM-DDThh:mm:ss\n",
    "\n",
    "\n",
    "| Column Name         |   Description                                                                                                 |\n",
    "| ------------------- | --------------------------------------------------------------------------------------------------------------|\n",
    "| **network**         | [FDSN Network code (2 letters)](http://www.fdsn.org/networks/)                                                |\n",
    "| **station**         | [FDSN Station code (usually 5 characters)](https://ds.iris.edu/ds/nodes/dmc/data/formats/seed-channel-naming/)|\n",
    "| **location**        | [FDSN Location code (typically not used for MT)](http://docs.fdsn.org/projects/source-identifiers/en/v1.0/location-codes.html) |\n",
    "| **channel**         | [FDSN Channel code (3 characters)](http://docs.fdsn.org/projects/source-identifiers/en/v1.0/channel-codes.html)|\n",
    "| **start**           | Start time (YYYY-MM-DDThh:mm:ss) UTC |\n",
    "| **end**             | End time (YYYY-MM-DDThh:mm:ss) UTC  |\n",
    "\n",
    "To create the request you can use any of the [IRIS Data Services tools](https://ds.iris.edu/ds/nodes/dmc/tools/##), a nice map view request [GMAP](http://ds.iris.edu/gmap/).  Be sure to identify 2 stations that recorded at the same time for at least a week.  Network codes for MT that have correct metadata are `ZU` and `8P`, other network codes like `EM` still need work on making sure calibrations are correct.\n"
   ]
  },
  {
   "cell_type": "code",
   "execution_count": 13,
   "metadata": {},
   "outputs": [
    {
     "data": {
      "text/html": [
       "<div>\n",
       "<style scoped>\n",
       "    .dataframe tbody tr th:only-of-type {\n",
       "        vertical-align: middle;\n",
       "    }\n",
       "\n",
       "    .dataframe tbody tr th {\n",
       "        vertical-align: top;\n",
       "    }\n",
       "\n",
       "    .dataframe thead th {\n",
       "        text-align: right;\n",
       "    }\n",
       "</style>\n",
       "<table border=\"1\" class=\"dataframe\">\n",
       "  <thead>\n",
       "    <tr style=\"text-align: right;\">\n",
       "      <th></th>\n",
       "      <th>network</th>\n",
       "      <th>station</th>\n",
       "      <th>location</th>\n",
       "      <th>channel</th>\n",
       "      <th>start</th>\n",
       "      <th>end</th>\n",
       "    </tr>\n",
       "  </thead>\n",
       "  <tbody>\n",
       "    <tr>\n",
       "      <th>0</th>\n",
       "      <td>EM</td>\n",
       "      <td>WYYS2</td>\n",
       "      <td></td>\n",
       "      <td>LFE</td>\n",
       "      <td>2009-07-15T00:00:00</td>\n",
       "      <td>2009-08-21T00:00:00</td>\n",
       "    </tr>\n",
       "    <tr>\n",
       "      <th>1</th>\n",
       "      <td>EM</td>\n",
       "      <td>WYYS2</td>\n",
       "      <td></td>\n",
       "      <td>LFN</td>\n",
       "      <td>2009-07-15T00:00:00</td>\n",
       "      <td>2009-08-21T00:00:00</td>\n",
       "    </tr>\n",
       "    <tr>\n",
       "      <th>2</th>\n",
       "      <td>EM</td>\n",
       "      <td>WYYS2</td>\n",
       "      <td></td>\n",
       "      <td>LFZ</td>\n",
       "      <td>2009-07-15T00:00:00</td>\n",
       "      <td>2009-08-21T00:00:00</td>\n",
       "    </tr>\n",
       "    <tr>\n",
       "      <th>3</th>\n",
       "      <td>EM</td>\n",
       "      <td>WYYS2</td>\n",
       "      <td></td>\n",
       "      <td>LQE</td>\n",
       "      <td>2009-07-15T00:00:00</td>\n",
       "      <td>2009-08-21T00:00:00</td>\n",
       "    </tr>\n",
       "    <tr>\n",
       "      <th>4</th>\n",
       "      <td>EM</td>\n",
       "      <td>WYYS2</td>\n",
       "      <td></td>\n",
       "      <td>LQN</td>\n",
       "      <td>2009-07-15T00:00:00</td>\n",
       "      <td>2009-08-21T00:00:00</td>\n",
       "    </tr>\n",
       "    <tr>\n",
       "      <th>5</th>\n",
       "      <td>EM</td>\n",
       "      <td>MTF20</td>\n",
       "      <td></td>\n",
       "      <td>LFE</td>\n",
       "      <td>2009-07-03T00:00:00</td>\n",
       "      <td>2009-08-13T00:00:00</td>\n",
       "    </tr>\n",
       "    <tr>\n",
       "      <th>6</th>\n",
       "      <td>EM</td>\n",
       "      <td>MTF20</td>\n",
       "      <td></td>\n",
       "      <td>LFN</td>\n",
       "      <td>2009-07-03T00:00:00</td>\n",
       "      <td>2009-08-13T00:00:00</td>\n",
       "    </tr>\n",
       "    <tr>\n",
       "      <th>7</th>\n",
       "      <td>EM</td>\n",
       "      <td>MTF20</td>\n",
       "      <td></td>\n",
       "      <td>LFZ</td>\n",
       "      <td>2009-07-03T00:00:00</td>\n",
       "      <td>2009-08-13T00:00:00</td>\n",
       "    </tr>\n",
       "    <tr>\n",
       "      <th>8</th>\n",
       "      <td>EM</td>\n",
       "      <td>MTF20</td>\n",
       "      <td></td>\n",
       "      <td>LQE</td>\n",
       "      <td>2009-07-03T00:00:00</td>\n",
       "      <td>2009-08-13T00:00:00</td>\n",
       "    </tr>\n",
       "    <tr>\n",
       "      <th>9</th>\n",
       "      <td>EM</td>\n",
       "      <td>MTF20</td>\n",
       "      <td></td>\n",
       "      <td>LQN</td>\n",
       "      <td>2009-07-03T00:00:00</td>\n",
       "      <td>2009-08-13T00:00:00</td>\n",
       "    </tr>\n",
       "  </tbody>\n",
       "</table>\n",
       "</div>"
      ],
      "text/plain": [
       "  network station location channel                start                  end\n",
       "0      EM   WYYS2              LFE  2009-07-15T00:00:00  2009-08-21T00:00:00\n",
       "1      EM   WYYS2              LFN  2009-07-15T00:00:00  2009-08-21T00:00:00\n",
       "2      EM   WYYS2              LFZ  2009-07-15T00:00:00  2009-08-21T00:00:00\n",
       "3      EM   WYYS2              LQE  2009-07-15T00:00:00  2009-08-21T00:00:00\n",
       "4      EM   WYYS2              LQN  2009-07-15T00:00:00  2009-08-21T00:00:00\n",
       "5      EM   MTF20              LFE  2009-07-03T00:00:00  2009-08-13T00:00:00\n",
       "6      EM   MTF20              LFN  2009-07-03T00:00:00  2009-08-13T00:00:00\n",
       "7      EM   MTF20              LFZ  2009-07-03T00:00:00  2009-08-13T00:00:00\n",
       "8      EM   MTF20              LQE  2009-07-03T00:00:00  2009-08-13T00:00:00\n",
       "9      EM   MTF20              LQN  2009-07-03T00:00:00  2009-08-13T00:00:00"
      ]
     },
     "execution_count": 13,
     "metadata": {},
     "output_type": "execute_result"
    }
   ],
   "source": [
    "channels = [\"LFE\", \"LFN\", \"LFZ\", \"LQE\", \"LQN\"]\n",
    " \n",
    "WYYS2 = [\"EM\", \"WYYS2\", \"2009-07-15T00:00:00\", \"2009-08-21T00:00:00\"]\n",
    "MTF20 = [\"EM\", \"MTF20\", \"2009-07-03T00:00:00\", \"2009-08-13T00:00:00\"]\n",
    "\n",
    "request_list = []\n",
    "for entry in [WYYS2, MTF20]:\n",
    "    for channel in channels:\n",
    "        request_list.append(\n",
    "            [entry[0], entry[1], \"\", channel, entry[2], entry[3]]\n",
    "        )\n",
    "\n",
    "# Turn list into dataframe\n",
    "request_df =  pd.DataFrame(request_list, columns=make_mth5_object.column_names) \n",
    "request_df.to_csv(default_path.joinpath(\"fdsn_request.csv\"))\n",
    "request_df"
   ]
  },
  {
   "cell_type": "markdown",
   "metadata": {},
   "source": [
    "### Get only the metadata from IRIS\n",
    "\n",
    "It can be helpful to make sure that your request is what you would expect.  For that you can request only the metadata from IRIS.  The request is quick and light so shouldn't need to worry about the speed.  This returns a StationXML file and is loaded into an `obspy.Inventory` object."
   ]
  },
  {
   "cell_type": "code",
   "execution_count": 14,
   "metadata": {},
   "outputs": [
    {
     "name": "stdout",
     "output_type": "stream",
     "text": [
      "Inventory created at 2022-10-20T02:31:42.910975Z\n",
      "\tCreated by: ObsPy 1.3.0\n",
      "\t\t    https://www.obspy.org\n",
      "\tSending institution: MTH5\n",
      "\tContains:\n",
      "\t\tNetworks (2):\n",
      "\t\t\tEM (2x)\n",
      "\t\tStations (2):\n",
      "\t\t\tEM.MTF20 (Billings, MT, USA)\n",
      "\t\t\tEM.WYYS2 (Grant Village, WY, USA)\n",
      "\t\tChannels (10):\n",
      "\t\t\tEM.MTF20..LFZ, EM.MTF20..LFN, EM.MTF20..LFE, EM.MTF20..LQN, \n",
      "\t\t\tEM.MTF20..LQE, EM.WYYS2..LFZ, EM.WYYS2..LFN, EM.WYYS2..LFE, \n",
      "\t\t\tEM.WYYS2..LQN, EM.WYYS2..LQE\n"
     ]
    }
   ],
   "source": [
    "inventory, data = make_mth5_object.get_inventory_from_df(request_df, data=False)\n",
    "inventory.write(default_path.joinpath(\"example_processing.xml\").as_posix(), format=\"stationxml\")\n",
    "print(inventory)"
   ]
  },
  {
   "cell_type": "markdown",
   "metadata": {},
   "source": [
    "### Make an MTH5\n",
    "\n",
    "Now that we've created a request, and made sure that its what we expect, we can make an MTH5 file.  The input can be either the DataFrame or the CSV file.  We are going to time it just to get an indication how long it might take.  Should take about 4 minutes.\n",
    "\n",
    "**Note:** we are setting `interact=False`.  If you want to just to keep the file open to interogat it set `interact=True`. "
   ]
  },
  {
   "cell_type": "code",
   "execution_count": 15,
   "metadata": {
    "tags": []
   },
   "outputs": [
    {
     "name": "stderr",
     "output_type": "stream",
     "text": [
      "2022-10-19 19:32:20,762 [line 672] mth5.mth5.MTH5._initialize_file - INFO: Initialized MTH5 0.2.0 file C:\\Users\\jpeacock\\OneDrive - DOI\\Documents\\GitHub\\iris-mt-course-2022\\notebooks\\mth5\\EM_WYYS2_MTF20.h5 in mode w\n",
      "2022-10-19 19:35:01,570 [line 498] mt_metadata.timeseries.stationxml.utils.XMLChannelMTChannel._xml_response_to_mt - INFO: Found an unnamed filter, named it: 'zpk_00'\n"
     ]
    },
    {
     "name": "stdout",
     "output_type": "stream",
     "text": [
      "2022-10-19T19:35:01 [line 134] obspy_stages.create_filter_from_stage - INFO: Converting PoleZerosResponseStage None to a CoefficientFilter\n"
     ]
    },
    {
     "name": "stderr",
     "output_type": "stream",
     "text": [
      "2022-10-19 19:35:01,687 [line 498] mt_metadata.timeseries.stationxml.utils.XMLChannelMTChannel._xml_response_to_mt - INFO: Found an unnamed filter, named it: 'coefficient_00'\n",
      "2022-10-19 19:35:01,705 [line 498] mt_metadata.timeseries.stationxml.utils.XMLChannelMTChannel._xml_response_to_mt - INFO: Found an unnamed filter, named it: 'zpk_01'\n"
     ]
    },
    {
     "name": "stdout",
     "output_type": "stream",
     "text": [
      "2022-10-19T19:35:01 [line 134] obspy_stages.create_filter_from_stage - INFO: Converting PoleZerosResponseStage None to a CoefficientFilter\n"
     ]
    },
    {
     "name": "stderr",
     "output_type": "stream",
     "text": [
      "2022-10-19 19:35:01,783 [line 498] mt_metadata.timeseries.stationxml.utils.XMLChannelMTChannel._xml_response_to_mt - INFO: Found an unnamed filter, named it: 'zpk_00'\n"
     ]
    },
    {
     "name": "stdout",
     "output_type": "stream",
     "text": [
      "2022-10-19T19:35:01 [line 134] obspy_stages.create_filter_from_stage - INFO: Converting PoleZerosResponseStage None to a CoefficientFilter\n"
     ]
    },
    {
     "name": "stderr",
     "output_type": "stream",
     "text": [
      "2022-10-19 19:35:01,860 [line 498] mt_metadata.timeseries.stationxml.utils.XMLChannelMTChannel._xml_response_to_mt - INFO: Found an unnamed filter, named it: 'coefficient_00'\n",
      "2022-10-19 19:35:01,880 [line 498] mt_metadata.timeseries.stationxml.utils.XMLChannelMTChannel._xml_response_to_mt - INFO: Found an unnamed filter, named it: 'zpk_01'\n"
     ]
    },
    {
     "name": "stdout",
     "output_type": "stream",
     "text": [
      "2022-10-19T19:35:01 [line 134] obspy_stages.create_filter_from_stage - INFO: Converting PoleZerosResponseStage None to a CoefficientFilter\n"
     ]
    },
    {
     "name": "stderr",
     "output_type": "stream",
     "text": [
      "2022-10-19 19:35:02,477 [line 285] mth5.groups.base.MasterSurvey.add_survey - INFO: survey Kansas_2017_Long_Period already exists, returning existing group.\n",
      "2022-10-19 19:35:02,597 [line 271] mt_metadata.base.metadata.survey.get_station - WARNING: Could not find station WYYS2\n",
      "2022-10-19 19:35:03,059 [line 794] mth5.groups.base.Station.add_run - INFO: run 001 already exists, returning existing group.\n",
      "2022-10-19 19:35:03,404 [line 292] mth5.timeseries.run_ts.RunTS.validate_metadata - WARNING: end time of dataset 2009-07-15T23:30:42+00:00 does not match metadata end 2009-08-20T00:17:06+00:00 updating metatdata value to 2009-07-15T23:30:42+00:00\n",
      "2022-10-19 19:35:07,940 [line 278] mth5.timeseries.run_ts.RunTS.validate_metadata - WARNING: start time of dataset 2009-07-15T23:39:07+00:00 does not match metadata start 2009-07-15T22:43:28+00:00 updating metatdata value to 2009-07-15T23:39:07+00:00\n",
      "2022-10-19 19:35:07,946 [line 292] mth5.timeseries.run_ts.RunTS.validate_metadata - WARNING: end time of dataset 2009-08-05T19:09:40+00:00 does not match metadata end 2009-08-20T00:17:06+00:00 updating metatdata value to 2009-08-05T19:09:40+00:00\n",
      "2022-10-19 19:35:12,929 [line 278] mth5.timeseries.run_ts.RunTS.validate_metadata - WARNING: start time of dataset 2009-08-05T19:49:51+00:00 does not match metadata start 2009-07-15T22:43:28+00:00 updating metatdata value to 2009-08-05T19:49:51+00:00\n",
      "2022-10-19 19:35:12,936 [line 292] mth5.timeseries.run_ts.RunTS.validate_metadata - WARNING: end time of dataset 2009-08-20T00:17:07+00:00 does not match metadata end 2009-08-20T00:17:06+00:00 updating metatdata value to 2009-08-20T00:17:07+00:00\n",
      "2022-10-19 19:35:20,477 [line 794] mth5.groups.base.Station.add_run - INFO: run 001 already exists, returning existing group.\n",
      "2022-10-19 19:35:20,822 [line 292] mth5.timeseries.run_ts.RunTS.validate_metadata - WARNING: end time of dataset 2009-07-04T00:43:53+00:00 does not match metadata end 2009-08-13T17:15:39+00:00 updating metatdata value to 2009-07-04T00:43:53+00:00\n",
      "2022-10-19 19:35:25,722 [line 278] mth5.timeseries.run_ts.RunTS.validate_metadata - WARNING: start time of dataset 2009-07-04T00:48:01+00:00 does not match metadata start 2009-07-03T22:38:13+00:00 updating metatdata value to 2009-07-04T00:48:01+00:00\n",
      "2022-10-19 19:35:25,730 [line 292] mth5.timeseries.run_ts.RunTS.validate_metadata - WARNING: end time of dataset 2009-07-31T19:39:02+00:00 does not match metadata end 2009-08-13T17:15:39+00:00 updating metatdata value to 2009-07-31T19:39:02+00:00\n",
      "2022-10-19 19:35:31,535 [line 278] mth5.timeseries.run_ts.RunTS.validate_metadata - WARNING: start time of dataset 2009-07-31T20:47:27+00:00 does not match metadata start 2009-07-03T22:38:13+00:00 updating metatdata value to 2009-07-31T20:47:27+00:00\n",
      "2022-10-19 19:35:31,541 [line 292] mth5.timeseries.run_ts.RunTS.validate_metadata - WARNING: end time of dataset 2009-08-13T00:00:01+00:00 does not match metadata end 2009-08-13T17:15:39+00:00 updating metatdata value to 2009-08-13T00:00:01+00:00\n",
      "2022-10-19 19:35:38,897 [line 753] mth5.mth5.MTH5.close_mth5 - INFO: Flushing and closing C:\\Users\\jpeacock\\OneDrive - DOI\\Documents\\GitHub\\iris-mt-course-2022\\notebooks\\mth5\\EM_WYYS2_MTF20.h5\n"
     ]
    },
    {
     "name": "stdout",
     "output_type": "stream",
     "text": [
      "Created C:\\Users\\jpeacock\\OneDrive - DOI\\Documents\\GitHub\\iris-mt-course-2022\\notebooks\\mth5\\EM_WYYS2_MTF20.h5\n",
      "Wall time: 3min 18s\n"
     ]
    }
   ],
   "source": [
    "%%time\n",
    "\n",
    "mth5_object = make_mth5_object.make_mth5_from_fdsnclient(request_df, interact=False)\n",
    "\n",
    "print(f\"Created {mth5_object}\")"
   ]
  },
  {
   "cell_type": "code",
   "execution_count": 18,
   "metadata": {},
   "outputs": [],
   "source": [
    "mth5_path = mth5_object"
   ]
  },
  {
   "cell_type": "markdown",
   "metadata": {},
   "source": [
    "## 2. Estimate Transfer Function\n",
    "\n",
    "Now that an MTH5 has been created we can estimate a transfer function using Aurora.  "
   ]
  },
  {
   "cell_type": "code",
   "execution_count": 20,
   "metadata": {},
   "outputs": [],
   "source": [
    "import warnings\n",
    "\n",
    "from aurora.config.config_creator import ConfigCreator\n",
    "from aurora.pipelines.run_summary import RunSummary\n",
    "from aurora.transfer_function.kernel_dataset import KernelDataset\n",
    "from aurora.pipelines.process_mth5 import process_mth5\n",
    "\n",
    "warnings.filterwarnings('ignore')"
   ]
  },
  {
   "cell_type": "markdown",
   "metadata": {
    "tags": []
   },
   "source": [
    "### Get a Run Summary\n",
    "Get a run summary from the create mth5. We are going to provide the path to `RunSummary`.     "
   ]
  },
  {
   "cell_type": "code",
   "execution_count": 22,
   "metadata": {},
   "outputs": [
    {
     "name": "stderr",
     "output_type": "stream",
     "text": [
      "2022-10-19 19:43:40,195 [line 753] mth5.mth5.MTH5.close_mth5 - INFO: Flushing and closing C:\\Users\\jpeacock\\OneDrive - DOI\\Documents\\GitHub\\iris-mt-course-2022\\notebooks\\mth5\\EM_WYYS2_MTF20.h5\n"
     ]
    },
    {
     "data": {
      "text/html": [
       "<div>\n",
       "<style scoped>\n",
       "    .dataframe tbody tr th:only-of-type {\n",
       "        vertical-align: middle;\n",
       "    }\n",
       "\n",
       "    .dataframe tbody tr th {\n",
       "        vertical-align: top;\n",
       "    }\n",
       "\n",
       "    .dataframe thead th {\n",
       "        text-align: right;\n",
       "    }\n",
       "</style>\n",
       "<table border=\"1\" class=\"dataframe\">\n",
       "  <thead>\n",
       "    <tr style=\"text-align: right;\">\n",
       "      <th></th>\n",
       "      <th>survey</th>\n",
       "      <th>station_id</th>\n",
       "      <th>run_id</th>\n",
       "      <th>start</th>\n",
       "      <th>end</th>\n",
       "    </tr>\n",
       "  </thead>\n",
       "  <tbody>\n",
       "    <tr>\n",
       "      <th>0</th>\n",
       "      <td>Kansas 2017 Long Period</td>\n",
       "      <td>MTF20</td>\n",
       "      <td>001</td>\n",
       "      <td>2009-07-03 22:38:13+00:00</td>\n",
       "      <td>2009-07-04 00:43:53+00:00</td>\n",
       "    </tr>\n",
       "    <tr>\n",
       "      <th>1</th>\n",
       "      <td>Kansas 2017 Long Period</td>\n",
       "      <td>MTF20</td>\n",
       "      <td>002</td>\n",
       "      <td>2009-07-04 00:48:01+00:00</td>\n",
       "      <td>2009-07-31 19:39:02+00:00</td>\n",
       "    </tr>\n",
       "    <tr>\n",
       "      <th>2</th>\n",
       "      <td>Kansas 2017 Long Period</td>\n",
       "      <td>MTF20</td>\n",
       "      <td>003</td>\n",
       "      <td>2009-07-31 20:47:27+00:00</td>\n",
       "      <td>2009-08-13 00:00:01+00:00</td>\n",
       "    </tr>\n",
       "    <tr>\n",
       "      <th>3</th>\n",
       "      <td>Kansas 2017 Long Period</td>\n",
       "      <td>WYYS2</td>\n",
       "      <td>001</td>\n",
       "      <td>2009-07-15 22:43:28+00:00</td>\n",
       "      <td>2009-07-15 23:30:42+00:00</td>\n",
       "    </tr>\n",
       "    <tr>\n",
       "      <th>4</th>\n",
       "      <td>Kansas 2017 Long Period</td>\n",
       "      <td>WYYS2</td>\n",
       "      <td>002</td>\n",
       "      <td>2009-07-15 23:39:07+00:00</td>\n",
       "      <td>2009-08-05 19:09:40+00:00</td>\n",
       "    </tr>\n",
       "    <tr>\n",
       "      <th>5</th>\n",
       "      <td>Kansas 2017 Long Period</td>\n",
       "      <td>WYYS2</td>\n",
       "      <td>003</td>\n",
       "      <td>2009-08-05 19:49:51+00:00</td>\n",
       "      <td>2009-08-20 00:17:07+00:00</td>\n",
       "    </tr>\n",
       "  </tbody>\n",
       "</table>\n",
       "</div>"
      ],
      "text/plain": [
       "                    survey station_id run_id                     start  \\\n",
       "0  Kansas 2017 Long Period      MTF20    001 2009-07-03 22:38:13+00:00   \n",
       "1  Kansas 2017 Long Period      MTF20    002 2009-07-04 00:48:01+00:00   \n",
       "2  Kansas 2017 Long Period      MTF20    003 2009-07-31 20:47:27+00:00   \n",
       "3  Kansas 2017 Long Period      WYYS2    001 2009-07-15 22:43:28+00:00   \n",
       "4  Kansas 2017 Long Period      WYYS2    002 2009-07-15 23:39:07+00:00   \n",
       "5  Kansas 2017 Long Period      WYYS2    003 2009-08-05 19:49:51+00:00   \n",
       "\n",
       "                        end  \n",
       "0 2009-07-04 00:43:53+00:00  \n",
       "1 2009-07-31 19:39:02+00:00  \n",
       "2 2009-08-13 00:00:01+00:00  \n",
       "3 2009-07-15 23:30:42+00:00  \n",
       "4 2009-08-05 19:09:40+00:00  \n",
       "5 2009-08-20 00:17:07+00:00  "
      ]
     },
     "execution_count": 22,
     "metadata": {},
     "output_type": "execute_result"
    }
   ],
   "source": [
    "mth5_run_summary = RunSummary()\n",
    "mth5_run_summary.from_mth5s([mth5_path,])\n",
    "mth5_run_summary.mini_summary"
   ]
  },
  {
   "cell_type": "markdown",
   "metadata": {},
   "source": [
    "### Define a Kernel Dataset\n",
    "\n",
    "Make a `KernelDataset` to feed into Aurora.  Here we are going to only use runs longer than 5000 seconds (80 minutes) to be sure we get good estimates at long periods.\n",
    "\n",
    "**Here you need to change the local station that you are going to process and the remote reference.**"
   ]
  },
  {
   "cell_type": "code",
   "execution_count": 25,
   "metadata": {},
   "outputs": [
    {
     "data": {
      "text/html": [
       "<div>\n",
       "<style scoped>\n",
       "    .dataframe tbody tr th:only-of-type {\n",
       "        vertical-align: middle;\n",
       "    }\n",
       "\n",
       "    .dataframe tbody tr th {\n",
       "        vertical-align: top;\n",
       "    }\n",
       "\n",
       "    .dataframe thead th {\n",
       "        text-align: right;\n",
       "    }\n",
       "</style>\n",
       "<table border=\"1\" class=\"dataframe\">\n",
       "  <thead>\n",
       "    <tr style=\"text-align: right;\">\n",
       "      <th></th>\n",
       "      <th>survey</th>\n",
       "      <th>station_id</th>\n",
       "      <th>run_id</th>\n",
       "      <th>start</th>\n",
       "      <th>end</th>\n",
       "    </tr>\n",
       "  </thead>\n",
       "  <tbody>\n",
       "    <tr>\n",
       "      <th>0</th>\n",
       "      <td>Kansas 2017 Long Period</td>\n",
       "      <td>WYYS2</td>\n",
       "      <td>002</td>\n",
       "      <td>2009-07-15 23:39:07+00:00</td>\n",
       "      <td>2009-07-31 19:39:02+00:00</td>\n",
       "    </tr>\n",
       "    <tr>\n",
       "      <th>1</th>\n",
       "      <td>Kansas 2017 Long Period</td>\n",
       "      <td>MTF20</td>\n",
       "      <td>002</td>\n",
       "      <td>2009-07-15 23:39:07+00:00</td>\n",
       "      <td>2009-07-31 19:39:02+00:00</td>\n",
       "    </tr>\n",
       "    <tr>\n",
       "      <th>2</th>\n",
       "      <td>Kansas 2017 Long Period</td>\n",
       "      <td>WYYS2</td>\n",
       "      <td>002</td>\n",
       "      <td>2009-07-31 20:47:27+00:00</td>\n",
       "      <td>2009-08-05 19:09:40+00:00</td>\n",
       "    </tr>\n",
       "    <tr>\n",
       "      <th>3</th>\n",
       "      <td>Kansas 2017 Long Period</td>\n",
       "      <td>MTF20</td>\n",
       "      <td>003</td>\n",
       "      <td>2009-07-31 20:47:27+00:00</td>\n",
       "      <td>2009-08-05 19:09:40+00:00</td>\n",
       "    </tr>\n",
       "    <tr>\n",
       "      <th>4</th>\n",
       "      <td>Kansas 2017 Long Period</td>\n",
       "      <td>WYYS2</td>\n",
       "      <td>003</td>\n",
       "      <td>2009-08-05 19:49:51+00:00</td>\n",
       "      <td>2009-08-13 00:00:01+00:00</td>\n",
       "    </tr>\n",
       "    <tr>\n",
       "      <th>5</th>\n",
       "      <td>Kansas 2017 Long Period</td>\n",
       "      <td>MTF20</td>\n",
       "      <td>003</td>\n",
       "      <td>2009-08-05 19:49:51+00:00</td>\n",
       "      <td>2009-08-13 00:00:01+00:00</td>\n",
       "    </tr>\n",
       "  </tbody>\n",
       "</table>\n",
       "</div>"
      ],
      "text/plain": [
       "                    survey station_id run_id                     start  \\\n",
       "0  Kansas 2017 Long Period      WYYS2    002 2009-07-15 23:39:07+00:00   \n",
       "1  Kansas 2017 Long Period      MTF20    002 2009-07-15 23:39:07+00:00   \n",
       "2  Kansas 2017 Long Period      WYYS2    002 2009-07-31 20:47:27+00:00   \n",
       "3  Kansas 2017 Long Period      MTF20    003 2009-07-31 20:47:27+00:00   \n",
       "4  Kansas 2017 Long Period      WYYS2    003 2009-08-05 19:49:51+00:00   \n",
       "5  Kansas 2017 Long Period      MTF20    003 2009-08-05 19:49:51+00:00   \n",
       "\n",
       "                        end  \n",
       "0 2009-07-31 19:39:02+00:00  \n",
       "1 2009-07-31 19:39:02+00:00  \n",
       "2 2009-08-05 19:09:40+00:00  \n",
       "3 2009-08-05 19:09:40+00:00  \n",
       "4 2009-08-13 00:00:01+00:00  \n",
       "5 2009-08-13 00:00:01+00:00  "
      ]
     },
     "execution_count": 25,
     "metadata": {},
     "output_type": "execute_result"
    }
   ],
   "source": [
    "kernel_dataset = KernelDataset()\n",
    "### kernel_dataset.from_run_summary(run_summary, \"local_station\", \"remote_station\")\n",
    "kernel_dataset.from_run_summary(mth5_run_summary, \"WYYS2\", \"MTF20\")\n",
    "kernel_dataset.drop_runs_shorter_than(5000)\n",
    "kernel_dataset.mini_summary"
   ]
  },
  {
   "cell_type": "markdown",
   "metadata": {},
   "source": [
    "### Now define the processing Configuration\n",
    "\n",
    "The only things we need to provide are our band processing scheme, and the data sample rate to generate a default processing configuration. The config is then told about the stations via the kernel dataset. Here we are passing it a band file so that we process longer periods.  \n",
    "\n",
    "**Note:** When doing only single station processing you need to specify RME processing (rather than remote reference processing which expects extra time series from another station)"
   ]
  },
  {
   "cell_type": "code",
   "execution_count": 31,
   "metadata": {},
   "outputs": [
    {
     "name": "stdout",
     "output_type": "stream",
     "text": [
      "..\\aurora\\bs_256_29.cfg\n",
      "OK\n"
     ]
    }
   ],
   "source": [
    "cc = ConfigCreator()\n",
    "config = cc.create_from_kernel_dataset(\n",
    "    kernel_dataset,\n",
    "    emtf_band_file=Path(\"../aurora/bs_256_29.cfg\")\n",
    ")\n",
    "for decimation in config.decimations:\n",
    "    decimation.window.type = \"hamming\""
   ]
  },
  {
   "cell_type": "markdown",
   "metadata": {},
   "source": [
    "### Call process_mth5"
   ]
  },
  {
   "cell_type": "code",
   "execution_count": null,
   "metadata": {},
   "outputs": [
    {
     "name": "stdout",
     "output_type": "stream",
     "text": [
      "Processing config indicates 4 decimation levels \n",
      "OK OK OK\n",
      "DATASET DF POPULATED\n",
      "DATASET DF POPULATED\n",
      "DATASET DF POPULATED\n",
      "Processing band 25.728968s\n",
      "Processing band 19.929573s\n",
      "Processing band 15.164131s\n",
      "Processing band 11.746086s\n",
      "Processing band 9.195791s\n",
      "Processing band 7.362526s\n",
      "Processing band 5.856115s\n",
      "Processing band 4.682492s\n",
      "Processing band 3.784813s\n",
      "Processing band 3.025193s\n",
      "Processing band 2.519631s\n"
     ]
    },
    {
     "data": {
      "image/png": "[encoded data removed]",
      "text/plain": [
       "<Figure size 432x288 with 2 Axes>"
      ]
     },
     "metadata": {
      "needs_background": "light"
     },
     "output_type": "display_data"
    },
    {
     "name": "stdout",
     "output_type": "stream",
     "text": [
      "DECIMATION LEVEL 1\n",
      "RUN OBJECT\n",
      "/Experiment/Surveys/Kansas_2017_Long_Period/Stations/WYYS2/002:\n",
      "====================\n",
      "    --> Dataset: ex\n",
      "    .................\n",
      "    --> Dataset: ey\n",
      "    .................\n",
      "    --> Dataset: hx\n",
      "    .................\n",
      "    --> Dataset: hy\n",
      "    .................\n",
      "    --> Dataset: hz\n",
      "    .................\n",
      "XRDS\n",
      "<xarray.Dataset>\n",
      "Dimensions:  (time: 341999)\n",
      "Coordinates:\n",
      "  * time     (time) datetime64[ns] 2009-07-15T23:39:07 ... 2009-07-31T19:38:5...\n",
      "Data variables:\n",
      "    ex       (time) float64 -6.646e+06 -6.64e+06 ... 8.927e+04 8.228e+04\n",
      "    ey       (time) float64 -3.056e+04 -4.988e+04 ... -1.098e+03 -718.1\n",
      "    hx       (time) float64 1.884e+06 1.884e+06 ... 1.887e+06 1.887e+06\n",
      "    hy       (time) float64 888.6 891.9 888.4 ... 2.129e+03 2.138e+03 2.139e+03\n",
      "    hz       (time) float64 5.025e+06 5.025e+06 ... 5.025e+06 5.025e+06\n",
      "PACKING RUN\n",
      "HERE is teh dtype of the zero-decimation level run column\n",
      "ANd the new one\n",
      "<class 'mth5.groups.master_station_run_channel.RunGroup'>\n",
      "1.4.3\n",
      "RUN OBJECT\n",
      "/Experiment/Surveys/Kansas_2017_Long_Period/Stations/MTF20/002:\n",
      "====================\n",
      "    --> Dataset: ex\n",
      "    .................\n",
      "    --> Dataset: ey\n",
      "    .................\n",
      "    --> Dataset: hx\n",
      "    .................\n",
      "    --> Dataset: hy\n",
      "    .................\n",
      "    --> Dataset: hz\n",
      "    .................\n",
      "XRDS\n",
      "<xarray.Dataset>\n",
      "Dimensions:  (time: 341999)\n",
      "Coordinates:\n",
      "  * time     (time) datetime64[ns] 2009-07-15T23:39:07 ... 2009-07-31T19:38:5...\n",
      "Data variables:\n",
      "    ex       (time) float64 -1.147e+04 -1.244e+04 ... -6.679e+06 -6.695e+06\n",
      "    ey       (time) float64 9.389e+04 8.499e+04 ... -6.683e+06 -6.673e+06\n",
      "    hx       (time) float64 1.781e+06 1.781e+06 ... 1.774e+06 1.774e+06\n",
      "    hy       (time) float64 4.598e+05 4.598e+05 ... 4.482e+05 4.482e+05\n",
      "    hz       (time) float64 5.187e+06 5.187e+06 ... 5.188e+06 5.188e+06\n",
      "PACKING RUN\n",
      "HERE is teh dtype of the zero-decimation level run column\n",
      "ANd the new one\n",
      "<class 'mth5.groups.master_station_run_channel.RunGroup'>\n",
      "1.4.3\n",
      "RUN OBJECT\n",
      "/Experiment/Surveys/Kansas_2017_Long_Period/Stations/WYYS2/002:\n",
      "====================\n",
      "    --> Dataset: ex\n",
      "    .................\n",
      "    --> Dataset: ey\n",
      "    .................\n",
      "    --> Dataset: hx\n",
      "    .................\n",
      "    --> Dataset: hy\n",
      "    .................\n",
      "    --> Dataset: hz\n",
      "    .................\n",
      "XRDS\n",
      "<xarray.Dataset>\n",
      "Dimensions:  (time: 106534)\n",
      "Coordinates:\n",
      "  * time     (time) datetime64[ns] 2009-07-31T20:47:27 ... 2009-08-05T19:09:40\n",
      "Data variables:\n",
      "    ex       (time) float64 5.511e+04 5.023e+04 4.642e+04 ... 7.25e+06 7.25e+06\n",
      "    ey       (time) float64 -4.307e+04 -5.688e+04 ... -8.985e+04 -9.184e+04\n",
      "    hx       (time) float64 1.888e+06 1.888e+06 ... 1.889e+06 1.889e+06\n",
      "    hy       (time) float64 1.558e+03 1.554e+03 1.546e+03 ... 746.9 744.4 741.5\n",
      "    hz       (time) float64 5.025e+06 5.025e+06 ... 5.023e+06 5.023e+06\n",
      "PACKING RUN\n",
      "HERE is teh dtype of the zero-decimation level run column\n",
      "ANd the new one\n",
      "<class 'mth5.groups.master_station_run_channel.RunGroup'>\n",
      "1.4.3\n",
      "RUN OBJECT\n",
      "/Experiment/Surveys/Kansas_2017_Long_Period/Stations/MTF20/003:\n",
      "====================\n",
      "    --> Dataset: ex\n",
      "    .................\n",
      "    --> Dataset: ey\n",
      "    .................\n",
      "    --> Dataset: hx\n",
      "    .................\n",
      "    --> Dataset: hy\n",
      "    .................\n",
      "    --> Dataset: hz\n",
      "    .................\n",
      "XRDS\n",
      "<xarray.Dataset>\n",
      "Dimensions:  (time: 106534)\n",
      "Coordinates:\n",
      "  * time     (time) datetime64[ns] 2009-07-31T20:47:27 ... 2009-08-05T19:09:40\n",
      "Data variables:\n",
      "    ex       (time) float64 6.36e+06 6.36e+06 6.36e+06 ... -6.233e+04 -6.292e+04\n",
      "    ey       (time) float64 -4.333e+06 -4.358e+06 ... -6.797e+04 -6.546e+04\n",
      "    hx       (time) float64 1.779e+06 1.779e+06 ... 1.779e+06 1.779e+06\n",
      "    hy       (time) float64 -3.973e+03 -3.972e+03 ... -2.131e+03 -2.133e+03\n",
      "    hz       (time) float64 5.207e+06 5.207e+06 ... 5.205e+06 5.205e+06\n",
      "PACKING RUN\n",
      "HERE is teh dtype of the zero-decimation level run column\n",
      "ANd the new one\n",
      "<class 'mth5.groups.master_station_run_channel.RunGroup'>\n",
      "1.4.3\n",
      "RUN OBJECT\n",
      "/Experiment/Surveys/Kansas_2017_Long_Period/Stations/WYYS2/003:\n",
      "====================\n",
      "    --> Dataset: ex\n",
      "    .................\n",
      "    --> Dataset: ey\n",
      "    .................\n",
      "    --> Dataset: hx\n",
      "    .................\n",
      "    --> Dataset: hy\n",
      "    .................\n",
      "    --> Dataset: hz\n",
      "    .................\n",
      "XRDS\n",
      "<xarray.Dataset>\n",
      "Dimensions:  (time: 154953)\n",
      "Coordinates:\n",
      "  * time     (time) datetime64[ns] 2009-08-05T19:49:51 ... 2009-08-12T23:59:5...\n",
      "Data variables:\n",
      "    ex       (time) float64 4.312e+04 4.358e+04 ... -1.128e+04 -1.352e+04\n",
      "    ey       (time) float64 3.486e+04 3.465e+04 3e+04 ... -2.346e+04 -2.267e+04\n",
      "    hx       (time) float64 1.89e+06 1.89e+06 1.89e+06 ... 1.888e+06 1.888e+06\n",
      "    hy       (time) float64 249.8 242.1 246.1 ... 3.708e+03 3.708e+03 3.704e+03\n",
      "    hz       (time) float64 5.023e+06 5.023e+06 ... 5.027e+06 5.027e+06\n",
      "PACKING RUN\n",
      "HERE is teh dtype of the zero-decimation level run column\n",
      "ANd the new one\n",
      "<class 'mth5.groups.master_station_run_channel.RunGroup'>\n",
      "1.4.3\n",
      "RUN OBJECT\n",
      "/Experiment/Surveys/Kansas_2017_Long_Period/Stations/MTF20/003:\n",
      "====================\n",
      "    --> Dataset: ex\n",
      "    .................\n",
      "    --> Dataset: ey\n",
      "    .................\n",
      "    --> Dataset: hx\n",
      "    .................\n",
      "    --> Dataset: hy\n",
      "    .................\n",
      "    --> Dataset: hz\n",
      "    .................\n",
      "XRDS\n",
      "<xarray.Dataset>\n",
      "Dimensions:  (time: 154953)\n",
      "Coordinates:\n",
      "  * time     (time) datetime64[ns] 2009-08-05T19:49:51 ... 2009-08-12T23:59:5...\n",
      "Data variables:\n",
      "    ex       (time) float64 -1.374e+04 -1.519e+04 ... 1.04e+04 8.773e+03\n",
      "    ey       (time) float64 -6.682e+04 -6.419e+04 ... 1.069e+06 1.065e+06\n",
      "    hx       (time) float64 1.78e+06 1.78e+06 1.78e+06 ... 1.776e+06 1.776e+06\n",
      "    hy       (time) float64 -2.585e+03 -2.585e+03 ... -2.705e+03 -2.707e+03\n",
      "    hz       (time) float64 5.206e+06 5.206e+06 ... 5.209e+06 5.209e+06\n",
      "PACKING RUN\n",
      "HERE is teh dtype of the zero-decimation level run column\n",
      "ANd the new one\n",
      "<class 'mth5.groups.master_station_run_channel.RunGroup'>\n",
      "1.4.3\n",
      "OK OK OK\n",
      "DATASET DF POPULATED\n",
      "DATASET DF POPULATED\n",
      "DATASET DF POPULATED\n",
      "Processing band 102.915872s\n",
      "Processing band 85.631182s\n",
      "Processing band 68.881694s\n",
      "Processing band 54.195827s\n",
      "Processing band 43.003958s\n"
     ]
    }
   ],
   "source": [
    "tf_cls = process_mth5(config,\n",
    "                    kernel_dataset,\n",
    "                    units=\"MT\",\n",
    "                    show_plot=True,\n",
    "                    z_file_path=None,\n",
    "                )"
   ]
  },
  {
   "cell_type": "markdown",
   "metadata": {},
   "source": [
    "### Write Transfer Function to a File\n",
    "\n",
    "Here we will write to an EMTF XML format"
   ]
  },
  {
   "cell_type": "code",
   "execution_count": 34,
   "metadata": {},
   "outputs": [
    {
     "name": "stderr",
     "output_type": "stream",
     "text": [
      "2022-10-15 14:34:55,738 [line 205] mt_metadata.transfer_functions.io.readwrite.write_file - INFO: Wrote synthetic_test1.xml\n"
     ]
    },
    {
     "data": {
      "text/plain": [
       "EMTFXML(station='test1', latitude=0.00, longitude=0.00, elevation=0.00)"
      ]
     },
     "execution_count": 34,
     "metadata": {},
     "output_type": "execute_result"
    }
   ],
   "source": [
    "xml_file_base = f\"synthetic_test1.xml\"\n",
    "tf_cls.write_tf_file(fn=xml_file_base, file_type=\"emtfxml\")\n"
   ]
  },
  {
   "cell_type": "markdown",
   "metadata": {},
   "source": [
    "## Close MTH5\n",
    "\n",
    "We have now loaded in all the data we need for long period data.  We can now process these data using **Aurora** and have a look at the transfer functions using **MTpy**."
   ]
  },
  {
   "cell_type": "code",
   "execution_count": 21,
   "metadata": {},
   "outputs": [
    {
     "name": "stderr",
     "output_type": "stream",
     "text": [
      "2022-10-07 17:56:16,728 [line 325] mth5.mth5.MTH5.filename - WARNING: MTH5 file is not open or has not been created yet. Returning default name\n",
      "2022-10-07 17:56:16,732 [line 753] mth5.mth5.MTH5.close_mth5 - INFO: Flushing and closing EM_WYYS2_MTF20_WYYS3_MTC20.h5\n",
      "2022-10-07 17:56:16,904 [line 124] mth5.helpers.close_open_files - INFO: Object <class 'h5py._hl.files.File'> does not have __class__\n"
     ]
    }
   ],
   "source": [
    "mth5_object.close_mth5()"
   ]
  },
  {
   "cell_type": "code",
   "execution_count": null,
   "metadata": {},
   "outputs": [],
   "source": []
  }
 ],
 "metadata": {
  "kernelspec": {
   "display_name": "Python 3 (ipykernel)",
   "language": "python",
   "name": "python3"
  },
  "language_info": {
   "codemirror_mode": {
    "name": "ipython",
    "version": 3
   },
   "file_extension": ".py",
   "mimetype": "text/x-python",
   "name": "python",
   "nbconvert_exporter": "python",
   "pygments_lexer": "ipython3",
   "version": "3.8.13"
  },
  "toc-autonumbering": true
 },
 "nbformat": 4,
 "nbformat_minor": 4
}
