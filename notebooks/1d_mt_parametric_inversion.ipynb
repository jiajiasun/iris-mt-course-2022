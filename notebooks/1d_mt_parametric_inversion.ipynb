{
 "cells": [
  {
   "cell_type": "code",
   "execution_count": 11,
   "id": "61242818",
   "metadata": {},
   "outputs": [],
   "source": [
    "import numpy as np\n",
    "from SimPEG.electromagnetics import natural_source as nsem\n",
    "from SimPEG import maps\n",
    "import matplotlib.pyplot as plt\n",
    "import matplotlib\n",
    "from SimPEG.utils import plot_1d_layer_model\n",
    "from discretize import TensorMesh\n",
    "from SimPEG import (\n",
    "    maps,\n",
    "    data,\n",
    "    data_misfit,\n",
    "    regularization,\n",
    "    optimization,\n",
    "    inverse_problem,\n",
    "    inversion,\n",
    "    directives,\n",
    "    utils,\n",
    ")\n",
    "matplotlib.rcParams['font.size'] = 14"
   ]
  },
  {
   "cell_type": "code",
   "execution_count": 12,
   "id": "4d39f17e",
   "metadata": {},
   "outputs": [],
   "source": [
    "frequencies = np.logspace(-5, 5, 101)"
   ]
  },
  {
   "cell_type": "markdown",
   "id": "170a490b",
   "metadata": {},
   "source": [
    "### Note\n",
    "- Ordering is z-up"
   ]
  },
  {
   "cell_type": "code",
   "execution_count": 13,
   "id": "bd7437c8",
   "metadata": {},
   "outputs": [],
   "source": [
    "layer_thicknesses = np.array([1000, 1000])\n",
    "rho = np.array([1000., 10, 1000.])\n",
    "\n",
    "mesh = TensorMesh([(np.r_[layer_thicknesses, layer_thicknesses[-1]])], \"0\")\n",
    "\n",
    "wire_map = maps.Wires((\"sigma\", mesh.nC), (\"t\", mesh.nC - 1))\n",
    "sigma_map = maps.ExpMap(nP=mesh.nC) * wire_map.sigma\n",
    "layer_map = maps.ExpMap(nP=mesh.nC - 1) * wire_map.t\n",
    "\n",
    "\n",
    "model_mapping = maps.IdentityMap(nP=len(rho))\n",
    "\n",
    "receivers_list = [\n",
    "    nsem.receivers.PointNaturalSource(component=\"app_res\"),\n",
    "    nsem.receivers.PointNaturalSource(component=\"phase\"),\n",
    "]\n",
    "\n",
    "source_list = []\n",
    "for freq in frequencies:\n",
    "    source_list.append(nsem.sources.Planewave(receivers_list, freq))\n",
    "\n",
    "survey = nsem.survey.Survey(source_list)\n",
    "\n",
    "simulation = nsem.simulation_1d.Simulation1DRecursive(\n",
    "    survey=survey, \n",
    "    sigmaMap=sigma_map,\n",
    "    thicknessesMap=layer_map,\n",
    ")\n",
    "\n",
    "true_model = np.r_[np.log(1./rho), np.log(layer_thicknesses)]\n",
    "\n",
    "dpred = simulation.dpred(true_model)"
   ]
  },
  {
   "cell_type": "code",
   "execution_count": 14,
   "id": "4498ece8",
   "metadata": {},
   "outputs": [],
   "source": [
    "import matplotlib.gridspec as gridspec\n",
    "def calculate_response(rho1, rho2, rho3, z, t):\n",
    "    model = np.log(np.r_[1./rho3, 1./rho2, 1./rho1, t, z])\n",
    "    pred = simulation.dpred(model)\n",
    "#     print (simulation.rho, simulation.thicknesses)\n",
    "    return pred\n",
    "\n",
    "def plot_results(rho1, rho2, rho3, z, t, add_noise, rerr_amp, floor_phase, plot_option):        \n",
    "    pred = calculate_response(rho1, rho2, rho3, z, t)\n",
    "    amp = pred.reshape((len(frequencies), 2))[:,0]\n",
    "    phase = pred.reshape((len(frequencies), 2))[:,1]    \n",
    "    if add_noise:\n",
    "        noise = np.c_[np.random.randn(amp.size)*rerr_amp*abs(amp), np.random.randn(amp.size)*floor_phase].flatten()\n",
    "        pred += noise\n",
    "    fig = plt.figure(figsize=(16, 5))\n",
    "    gs = gridspec.GridSpec(1, 5, figure=fig)\n",
    "\n",
    "    ax0 = fig.add_subplot(gs[0, 0])\n",
    "    layer_thicknesses = np.array([z, t])\n",
    "    rho = np.r_[rho1, rho2, rho3]\n",
    "    plot_1d_layer_model(layer_thicknesses, rho, ax=ax0, color=\"k\", **{'label':'True'})\n",
    "    ax0.set_xlabel(\"Resistivity ($\\Omega$m)\")\n",
    "    ax0.set_xlim(1, 10000)\n",
    "    \n",
    "    ax = fig.add_subplot(gs[0, 2:])\n",
    "    if (plot_option == 'app_res') or (plot_option == 'both'):\n",
    "        ax.loglog(frequencies, pred.reshape((len(frequencies), 2))[:,0], color='C0', label='AppRes.', lw=3)\n",
    "    if (plot_option == 'phase') or (plot_option == 'both'):\n",
    "        ax.loglog(frequencies[0], pred.reshape((len(frequencies), 2))[0,0], color='C1', label='Phase')\n",
    "        ax_1 = ax.twinx()\n",
    "        ax_1.plot(frequencies, pred.reshape((len(frequencies), 2))[:,1], color='C1', lw=3)\n",
    "        ax_1.set_ylim(0, 90)    \n",
    "        ax_1.set_ylabel(\"Phase ($\\degree$)\")        \n",
    "    ax.set_xlabel(\"Frequency (Hz)\")    \n",
    "    ax.set_ylim(1, 10000)\n",
    "    ax.grid(True, which='both', alpha=0.5)\n",
    "    ax.set_ylabel(\"Apparent resistivity ($\\Omega$m)\")\n",
    "    ax.legend(bbox_to_anchor=(-0.1, 1))\n",
    "    ax.set_xlim(1e5, 1e-5)\n",
    "    plt.show()\n",
    "#     plt.tight_layout()"
   ]
  },
  {
   "cell_type": "code",
   "execution_count": 15,
   "id": "fe07aa19",
   "metadata": {},
   "outputs": [],
   "source": [
    "from ipywidgets import widgets, interact"
   ]
  },
  {
   "cell_type": "code",
   "execution_count": 16,
   "id": "dbfff520",
   "metadata": {},
   "outputs": [
    {
     "data": {
      "application/vnd.jupyter.widget-view+json": {
       "model_id": "297ddd2dadf24affb88c777a887fab51",
       "version_major": 2,
       "version_minor": 0
      },
      "text/plain": [
       "interactive(children=(FloatLogSlider(value=100.0, continuous_update=False, description='$\\\\rho_1$'), FloatLogS…"
      ]
     },
     "metadata": {},
     "output_type": "display_data"
    },
    {
     "data": {
      "text/plain": [
       "<function __main__.plot_results(rho1, rho2, rho3, z, t, add_noise, rerr_amp, floor_phase, plot_option)>"
      ]
     },
     "execution_count": 16,
     "metadata": {},
     "output_type": "execute_result"
    }
   ],
   "source": [
    "interact(\n",
    "    plot_results, \n",
    "    rho1=widgets.FloatLogSlider(base=10, value=100, min=0, max=4, continuous_update=False, description=\"$\\\\rho_1$\"),\n",
    "    rho2=widgets.FloatLogSlider(base=10, value=5, min=0, max=4, continuous_update=False, description=\"$\\\\rho_2$\"),\n",
    "    rho3=widgets.FloatLogSlider(base=10, value=100, min=0, max=4, continuous_update=False, description=\"$\\\\rho_3$\"),\n",
    "    z=widgets.FloatLogSlider(base=10, value=3000, min=0, max=5, continuous_update=False, description=\"$z$\"),\n",
    "    t=widgets.FloatLogSlider(base=10, value=1000, min=0, max=5, continuous_update=False, description=\"$thk$\"),\n",
    "    add_noise=widgets.Checkbox(),\n",
    "    rerr_amp=widgets.FloatText(value=0.1),\n",
    "    floor_phase=widgets.FloatText(value=2), \n",
    "    plot_option=widgets.RadioButtons(options=['app_res', 'phase', 'both'])\n",
    ")"
   ]
  },
  {
   "cell_type": "code",
   "execution_count": 21,
   "id": "19815a79",
   "metadata": {},
   "outputs": [],
   "source": [
    "amp = dpred.reshape((len(frequencies), 2))[:,0]\n",
    "phase = dpred.reshape((len(frequencies), 2))[:,1]\n",
    "std = np.c_[abs(amp)*0.03, np.ones(len(phase))*5].flatten()\n",
    "noise = np.c_[np.random.randn(amp.size)*0.03*abs(amp), np.random.randn(amp.size)*2].flatten()\n",
    "dobs = dpred + noise\n",
    "data_object = data.Data(survey, dobs=dpred, standard_deviation=std)"
   ]
  },
  {
   "cell_type": "code",
   "execution_count": 22,
   "id": "cf77db06",
   "metadata": {},
   "outputs": [],
   "source": [
    "starting_model = np.log(np.r_[np.ones(3)*1./2000, np.ones(2)*3000])"
   ]
  },
  {
   "cell_type": "code",
   "execution_count": 23,
   "id": "f207a537",
   "metadata": {
    "scrolled": false
   },
   "outputs": [
    {
     "name": "stdout",
     "output_type": "stream",
     "text": [
      "SimPEG.InvProblem will set Regularization.mref to m0.\n",
      "SimPEG.InvProblem will set Regularization.mref to m0.\n",
      "\n",
      "        SimPEG.InvProblem is setting bfgsH0 to the inverse of the eval2Deriv.\n",
      "        ***Done using same Solver and solverOpts as the problem***\n",
      "model has any nan: 0\n",
      "============================ Inexact Gauss Newton ============================\n",
      "  #     beta     phi_d     phi_m       f      |proj(x-g)-x|  LS    Comment   \n",
      "-----------------------------------------------------------------------------\n",
      "x0 has any nan: 0\n"
     ]
    },
    {
     "name": "stderr",
     "output_type": "stream",
     "text": [
      "C:\\Users\\sgkan\\Projects\\pymatsolver\\pymatsolver\\direct.py:23: PardisoTypeConversionWarning: Converting csc_matrix matrix to CSR format, will slow down.\n",
      "  self.solver = MKLPardisoSolver(\n"
     ]
    },
    {
     "name": "stdout",
     "output_type": "stream",
     "text": [
      "   0  7.31e+09  2.85e+07  0.00e+00  2.85e+07    3.63e+07      0              \n",
      "   1  7.31e+09  9.29e+06  1.16e-03  1.78e+07    7.31e+06      0              \n"
     ]
    },
    {
     "name": "stderr",
     "output_type": "stream",
     "text": [
      "C:\\Users\\sgkan\\Projects\\pymatsolver\\pymatsolver\\direct.py:73: PardisoTypeConversionWarning: Converting csc_matrix matrix to CSR format, will slow down.\n",
      "  self.solver.refactor(self.A)\n"
     ]
    },
    {
     "name": "stdout",
     "output_type": "stream",
     "text": [
      "   2  7.31e+09  1.27e+07  5.68e-04  1.69e+07    3.10e+06      0              \n",
      "   3  1.46e+09  1.11e+07  9.09e-04  1.24e+07    1.03e+07      0              \n",
      "   4  1.46e+09  3.92e+06  2.64e-03  7.78e+06    9.33e+05      0              \n",
      "   5  1.46e+09  3.56e+06  2.97e-03  7.90e+06    2.97e+05      0              \n",
      "   6  2.93e+08  3.40e+06  3.32e-03  4.38e+06    4.22e+06      0              \n",
      "   7  2.93e+08  8.79e+05  7.20e-03  2.99e+06    3.31e+05      0              \n",
      "   8  2.93e+08  1.02e+06  6.43e-03  2.91e+06    3.51e+05      1              \n",
      "   9  5.85e+07  8.23e+05  7.31e-03  1.25e+06    1.24e+06      0              \n",
      "  10  5.85e+07  1.83e+05  1.22e-02  8.94e+05    9.50e+04      0              \n",
      "  11  5.85e+07  2.36e+05  1.16e-02  9.13e+05    1.67e+05      0              \n",
      "  12  1.17e+07  1.87e+05  1.22e-02  3.29e+05    3.53e+05      0              \n",
      "  13  1.17e+07  4.75e+04  1.83e-02  2.62e+05    4.23e+04      0              \n",
      "  14  1.17e+07  4.76e+04  1.79e-02  2.57e+05    1.81e+04      0              \n",
      "  15  2.34e+06  4.39e+04  1.84e-02  8.71e+04    1.12e+05      0              \n",
      "  16  2.34e+06  9.81e+03  2.49e-02  6.81e+04    2.64e+03      0              \n",
      "  17  2.34e+06  8.65e+03  2.56e-02  6.84e+04    1.21e+03      0   Skip BFGS  \n",
      "  18  4.68e+05  9.30e+03  2.52e-02  2.11e+04    2.39e+04      0              \n",
      "  19  4.68e+05  2.22e+03  3.25e-02  1.74e+04    4.82e+03      0              \n",
      "  20  4.68e+05  1.94e+03  3.26e-02  1.72e+04    3.49e+02      0   Skip BFGS  \n",
      "  21  9.36e+04  1.95e+03  3.26e-02  5.00e+03    5.48e+03      0              \n",
      "  22  9.36e+04  4.14e+02  3.99e-02  4.15e+03    2.26e+03      0              \n",
      "  23  9.36e+04  3.45e+02  4.02e-02  4.11e+03    6.33e+01      0   Skip BFGS  \n",
      "  24  1.87e+04  3.49e+02  4.01e-02  1.10e+03    1.22e+03      0              \n",
      "------------------------- STOP! -------------------------\n",
      "1 : |fc-fOld| = 0.0000e+00 <= tolF*(1+|f0|) = 2.8479e+06\n",
      "1 : |xc-x_last| = 5.2475e-01 <= tolX*(1+|x0|) = 1.8364e+00\n",
      "0 : |proj(x-g)-x|    = 1.2208e+03 <= tolG          = 1.0000e-01\n",
      "0 : |proj(x-g)-x|    = 1.2208e+03 <= 1e3*eps       = 1.0000e-02\n",
      "0 : maxIter   =      30    <= iter          =     25\n",
      "------------------------- DONE! -------------------------\n"
     ]
    }
   ],
   "source": [
    "# Define the data misfit. Here the data misfit is the L2 norm of the weighted\n",
    "# residual between the observed data and the data predicted for a given model.\n",
    "# Within the data misfit, the residual between predicted and observed data are\n",
    "# normalized by the data's standard deviation.\n",
    "dmis = data_misfit.L2DataMisfit(simulation=simulation, data=data_object)\n",
    "\n",
    "# Define the regularization on the parameters related to resistivity\n",
    "mesh_sigma = TensorMesh([mesh.hx.size])\n",
    "reg_sigma = regularization.Simple(mesh_sigma, alpha_s=0.01, alpha_x=0, mapping=wire_map.sigma)\n",
    "\n",
    "# Define the regularization on the parameters related to layer thickness\n",
    "mesh_t = TensorMesh([mesh.hx.size - 1])\n",
    "reg_t = regularization.Simple(mesh_t, alpha_s=0.01, alpha_x=0, mapping=wire_map.t)\n",
    "\n",
    "# Combine to make regularization for the inversion problem\n",
    "reg = reg_sigma + reg_t\n",
    "\n",
    "# Define how the optimization problem is solved. Here we will use an inexact\n",
    "# Gauss-Newton approach that employs the conjugate gradient solver.\n",
    "opt = optimization.InexactGaussNewton(maxIter=30, maxIterCG=50)\n",
    "\n",
    "# Define the inverse problem\n",
    "inv_prob = inverse_problem.BaseInvProblem(dmis, reg, opt)\n",
    "\n",
    "#######################################################################\n",
    "# Define Inversion Directives\n",
    "# ---------------------------\n",
    "#\n",
    "# Here we define any directives that are carried out during the inversion. This\n",
    "# includes the cooling schedule for the trade-off parameter (beta), stopping\n",
    "# criteria for the inversion and saving inversion results at each iteration.\n",
    "#\n",
    "\n",
    "# Apply and update sensitivity weighting as the model updates\n",
    "update_sensitivity_weights = directives.UpdateSensitivityWeights()\n",
    "\n",
    "# Defining a starting value for the trade-off parameter (beta) between the data\n",
    "# misfit and the regularization.\n",
    "starting_beta = directives.BetaEstimate_ByEig(beta0_ratio=1e0)\n",
    "\n",
    "# Set the rate of reduction in trade-off parameter (beta) each time the\n",
    "# the inverse problem is solved. And set the number of Gauss-Newton iterations\n",
    "# for each trade-off paramter value.\n",
    "beta_schedule = directives.BetaSchedule(coolingFactor=5.0, coolingRate=3)\n",
    "\n",
    "# Options for outputting recovered models and predicted data for each beta.\n",
    "save_iteration = directives.SaveOutputEveryIteration(save_txt=False)\n",
    "\n",
    "# Setting a stopping criteria for the inversion.\n",
    "target_misfit = directives.TargetMisfit(chifact=1)\n",
    "\n",
    "# The directives are defined in a list\n",
    "directives_list = [\n",
    "    update_sensitivity_weights,\n",
    "    starting_beta,\n",
    "    beta_schedule,\n",
    "    target_misfit,\n",
    "]\n",
    "\n",
    "#####################################################################\n",
    "# Running the Inversion\n",
    "# ---------------------\n",
    "#\n",
    "# To define the inversion object, we need to define the inversion problem and\n",
    "# the set of directives. We can then run the inversion.\n",
    "#\n",
    "\n",
    "# Here we combine the inverse problem and the set of directives\n",
    "inv = inversion.BaseInversion(inv_prob, directiveList=directives_list)\n",
    "\n",
    "# Run the inversion\n",
    "recovered_model = inv.run(starting_model)"
   ]
  },
  {
   "cell_type": "code",
   "execution_count": 24,
   "id": "c771cd6a",
   "metadata": {},
   "outputs": [
    {
     "name": "stderr",
     "output_type": "stream",
     "text": [
      "<ipython-input-24-a0d7cf9176cd>:35: UserWarning: Attempted to set non-positive bottom ylim on a log-scaled axis.\n",
      "Invalid limit will be ignored.\n",
      "  ax_1.set_ylim(0, 90)\n"
     ]
    },
    {
     "data": {
      "image/png": "[encoded data removed]",
      "text/plain": [
       "<Figure size 1152x360 with 3 Axes>"
      ]
     },
     "metadata": {
      "needs_background": "light"
     },
     "output_type": "display_data"
    }
   ],
   "source": [
    "fig = plt.figure(figsize=(16, 5))\n",
    "gs = gridspec.GridSpec(1, 5, figure=fig)\n",
    "\n",
    "ax0 = fig.add_subplot(gs[0, 0])\n",
    "x_min = np.min([np.min(sigma_map * recovered_model), np.min(true_model)])\n",
    "x_max = np.max([np.max(sigma_map * recovered_model), np.max(true_model)])\n",
    "\n",
    "plot_1d_layer_model(layer_thicknesses[::-1], rho[::-1], ax=ax0, color=\"k\", **{'label':'True'})\n",
    "plot_1d_layer_model(\n",
    "    (layer_map * recovered_model)[::-1],\n",
    "    (1./(sigma_map * recovered_model))[::-1],\n",
    "    ax=ax0,\n",
    "    color=\"k\",**{'label':'Pred', 'linestyle':'--'}\n",
    ")\n",
    "ax0.legend()\n",
    "ax0.set_xlabel(\"Resistivity ($\\Omega$m)\")\n",
    "ax0.set_xlim(1, 1e4)\n",
    "\n",
    "ax = fig.add_subplot(gs[0, 2:])\n",
    "ax.loglog(frequencies, dobs.reshape((len(frequencies), 2))[:,0], 'x', color='C0', label='Obs.-Amp.')\n",
    "ax.loglog(frequencies, inv_prob.dpred.reshape((len(frequencies), 2))[:,0], color='C0', label='Pred.-Amp.')\n",
    "ax.loglog(frequencies[0], dobs.reshape((len(frequencies), 2))[0,0], 'x', color='C1', label='Obs.-Pha.')\n",
    "ax.loglog(frequencies[0], dobs.reshape((len(frequencies), 2))[0,0], color='C1', label='Pred.-Pha.')\n",
    "\n",
    "ax_1 = ax.twinx()\n",
    "ax_1.plot(frequencies, dobs.reshape((len(frequencies), 2))[:,1], 'x', color='C1', label='Obs.-Pha.')\n",
    "ax_1.loglog(frequencies, inv_prob.dpred.reshape((len(frequencies), 2))[:,1], color='C1', label='Pred.-Pha.')\n",
    "ax.set_xlabel(\"Frequency (Hz)\")\n",
    "ax.grid(True, which='both', alpha=0.5)\n",
    "ax.set_ylabel(\"Apparent resistivity ($\\Omega$m)\")\n",
    "ax_1.set_ylabel(\"Phase ($\\degree$)\")\n",
    "# ax.legend(bbox_to_anchor=(1.1,1))\n",
    "ax.legend(loc=4)\n",
    "ax.set_ylim(1, 10000)\n",
    "ax_1.set_ylim(0, 90)    \n",
    "ax0.set_xlim(1, 10000)\n",
    "ax.set_xlim(100, 0.001)\n",
    "\n",
    "plt.show()"
   ]
  },
  {
   "cell_type": "markdown",
   "id": "b96307e3",
   "metadata": {},
   "source": [
    "Conductance plot - equivalence"
   ]
  },
  {
   "cell_type": "code",
   "execution_count": null,
   "id": "e2fb0ffd",
   "metadata": {},
   "outputs": [],
   "source": []
  }
 ],
 "metadata": {
  "kernelspec": {
   "display_name": "Python 3",
   "language": "python",
   "name": "python3"
  },
  "language_info": {
   "codemirror_mode": {
    "name": "ipython",
    "version": 3
   },
   "file_extension": ".py",
   "mimetype": "text/x-python",
   "name": "python",
   "nbconvert_exporter": "python",
   "pygments_lexer": "ipython3",
   "version": "3.8.8"
  }
 },
 "nbformat": 4,
 "nbformat_minor": 5
}
