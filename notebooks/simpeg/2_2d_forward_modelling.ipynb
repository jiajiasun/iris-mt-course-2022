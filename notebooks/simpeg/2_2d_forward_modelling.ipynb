{
 "cells": [
  {
   "cell_type": "markdown",
   "id": "5639d9e1",
   "metadata": {},
   "source": [
    "# 2D MT forward modelling\n",
    "\n",
    "## Learning goals\n",
    "\n",
    "- Identify Transverse Electric (TE) and Transverse Magnetic (TM) modes.\n",
    "- Understand how to design mesh. \n",
    "- Understand **spatial features** of the transfer function in the form of apparent resistivity and phase\n",
    "- Explore how the transfer function varies with **frequency**\n"
   ]
  },
  {
   "cell_type": "code",
   "execution_count": null,
   "id": "d9af9252",
   "metadata": {},
   "outputs": [],
   "source": [
    "import discretize\n",
    "from discretize import utils as dis_utils\n",
    "from SimPEG.electromagnetics import natural_source as nsem\n",
    "from SimPEG import utils, maps\n",
    "import numpy as np\n",
    "import matplotlib.pyplot as plt\n",
    "from pymatsolver import Pardiso as Solver\n",
    "from geoana.em.fdem import skin_depth\n",
    "from matplotlib.colors import LogNorm\n",
    "import matplotlib\n",
    "matplotlib.rcParams['font.size'] = 14\n",
    "import warnings\n",
    "warnings.filterwarnings(\"ignore\")"
   ]
  },
  {
   "cell_type": "code",
   "execution_count": null,
   "id": "fd4668a5",
   "metadata": {},
   "outputs": [],
   "source": [
    "d_station = 4 * 1e3\n",
    "n_rx = 26\n",
    "x = np.arange(n_rx) * d_station - 50 * 1e3\n",
    "lx = x.max() - x.min()\n",
    "rx_locs = np.c_[x, np.zeros(n_rx)]\n",
    "frequencies = np.logspace(-2, 2, 20)\n",
    "n_freq = len(frequencies)"
   ]
  },
  {
   "cell_type": "markdown",
   "id": "2366ddd7",
   "metadata": {},
   "source": [
    "## Step 1: Discretize the domain using a 2D `Tensor` Mesh"
   ]
  },
  {
   "cell_type": "markdown",
   "id": "56fcef57",
   "metadata": {},
   "source": [
    "### How we set up `padding cells` for satisfying the boundary condition?"
   ]
  },
  {
   "cell_type": "code",
   "execution_count": null,
   "id": "465a6f9b",
   "metadata": {},
   "outputs": [],
   "source": [
    "# Setting the smallest cell size in z-direction\n",
    "sig_background = 1e-2\n",
    "f_min = 1e-2\n",
    "f_max = 1e2\n",
    "factor_min = 5\n",
    "factor_max = 6\n",
    "dz_min = skin_depth(100, sig_background) / factor_max\n",
    "print (\"Suggested smallest cell size is: {:.1f} m\".format(dz_min))"
   ]
  },
  {
   "cell_type": "markdown",
   "id": "c05e3c6d",
   "metadata": {},
   "source": [
    "### Design cells in vertical direction"
   ]
  },
  {
   "cell_type": "code",
   "execution_count": null,
   "id": "cac432db",
   "metadata": {},
   "outputs": [],
   "source": [
    "print (\"Suggested vertical dimension length is: {:.1f}km\".format(skin_depth(sig_background, f_min) / 1e3 * factor_max))"
   ]
  },
  {
   "cell_type": "code",
   "execution_count": null,
   "id": "759c6243",
   "metadata": {},
   "outputs": [],
   "source": [
    "nz_down = 33\n",
    "pfz_up = 1.2\n",
    "hz_down = dz_min*pfz_up**np.arange(nz_down)[::-1]\n",
    "print (hz_down.sum() / 1e3)"
   ]
  },
  {
   "cell_type": "code",
   "execution_count": null,
   "id": "09521834",
   "metadata": {},
   "outputs": [],
   "source": [
    "pfz_up = 1.5\n",
    "npadz = 5\n",
    "hz_up = [(dz_min, npadz, pfz_up)]\n",
    "hz_up = dis_utils.meshTensor(hz_up)\n",
    "print (hz_up.sum() / 1e3)\n",
    "hz = np.r_[hz_down, hz_up]"
   ]
  },
  {
   "cell_type": "markdown",
   "id": "f6365b42",
   "metadata": {},
   "source": [
    "### Design cells in lateral dimension"
   ]
  },
  {
   "cell_type": "code",
   "execution_count": null,
   "id": "164e5ef7",
   "metadata": {},
   "outputs": [],
   "source": [
    "factor_spacing = 4\n",
    "dx_min = d_station/factor_spacing\n",
    "csx = np.round(dx_min)\n",
    "# print (csx)\n",
    "ncx = int(lx / csx)\n",
    "npadx = 11\n",
    "pfx = 1.5\n",
    "hx_pad = dis_utils.meshTensor([(dx_min, npadx, -pfx)])\n",
    "print (hx_pad.sum()/1e3)\n",
    "hx = [(dx_min, npadx, -pfx), (dx_min, ncx), (csx, npadx, pfx)]"
   ]
  },
  {
   "cell_type": "code",
   "execution_count": null,
   "id": "1ae69bcb",
   "metadata": {},
   "outputs": [],
   "source": [
    "mesh = discretize.TensorMesh([hx, hz])\n",
    "mesh.origin = np.r_[-mesh.hx[:npadx].sum()+rx_locs[:,0].min(), -hz_down.sum()]"
   ]
  },
  {
   "cell_type": "code",
   "execution_count": null,
   "id": "6f30b31e",
   "metadata": {},
   "outputs": [],
   "source": [
    "mesh.plot_grid()\n",
    "plt.gca().set_aspect(1)"
   ]
  },
  {
   "cell_type": "markdown",
   "id": "b751e0e4",
   "metadata": {},
   "source": [
    "### Put all things together to generate a mesh"
   ]
  },
  {
   "cell_type": "code",
   "execution_count": null,
   "id": "26366c9a",
   "metadata": {},
   "outputs": [],
   "source": [
    "def generate_2d_mesh_for_mt(\n",
    "    rx_locs, frequencies, sigma_background, \n",
    "    z_factor_max=5, \n",
    "    z_factor_min=5,\n",
    "    pfz_down = 1.2,\n",
    "    pfz_up = 1.5,\n",
    "    npadz_up = 5,\n",
    "    x_factor_max = 2,\n",
    "    spacing_factor = 4,\n",
    "    pfx = 1.5,\n",
    "    n_max=1000\n",
    "):\n",
    "    # Setting the cells in depth dimension\n",
    "    f_min = frequencies.min()\n",
    "    f_max = frequencies.max()\n",
    "    dz_min = np.round(skin_depth(f_max, sigma_background) / z_factor_max) \n",
    "    lz = skin_depth(sig_background, f_min) * z_factor_max\n",
    "    # Setting the domain length in z-direction\n",
    "    for nz_down in range(n_max):\n",
    "        hz_down = dz_min*pfz_down**np.arange(nz_down)[::-1]\n",
    "        if hz_down.sum()>lz:\n",
    "            break\n",
    "    hz_up = [(dz_min, npadz_up, pfz_up)]\n",
    "    hz_up = dis_utils.unpack_widths(hz_up)\n",
    "    hz = np.r_[hz_down, hz_up]   \n",
    "    # Setting the cells in lateral dimension\n",
    "    d_station = np.diff(rx_locs[:,0]).min()\n",
    "    dx_min = np.round(d_station/spacing_factor)\n",
    "    lx = rx_locs[:,0].max() - rx_locs[:,0].min()\n",
    "    ncx = int(lx / dx_min)\n",
    "    lx_pad = skin_depth(sig_background, f_min) * x_factor_max\n",
    "    for npadx in range(n_max):\n",
    "        hx_pad = dis_utils.meshTensor([(dx_min, npadx, -pfx)])\n",
    "        if hx_pad.sum()>lx_pad:\n",
    "            break\n",
    "    hx = [(dx_min, npadx, -pfx), (dx_min, ncx), (csx, npadx, pfx)]  \n",
    "    \n",
    "    mesh = discretize.TensorMesh([hx, hz])\n",
    "    mesh.origin = np.r_[-mesh.hx[:npadx].sum()+rx_locs[:,0].min(), -hz_down.sum()]   \n",
    "    print (mesh)\n",
    "    return mesh\n",
    "mesh = generate_2d_mesh_for_mt(rx_locs, frequencies, 1e-2)"
   ]
  },
  {
   "cell_type": "code",
   "execution_count": null,
   "id": "b8a05bd8",
   "metadata": {},
   "outputs": [],
   "source": [
    "mesh.plot_grid()"
   ]
  },
  {
   "cell_type": "markdown",
   "id": "0829501f",
   "metadata": {},
   "source": [
    "## Step 2: Generate a conductivity model"
   ]
  },
  {
   "cell_type": "code",
   "execution_count": null,
   "id": "8f12f776",
   "metadata": {},
   "outputs": [],
   "source": [
    "sigma_background = 1e-2\n",
    "sigma_block = 1e0\n",
    "sigma_air = 1e-8\n",
    "\n",
    "cells = mesh.cell_centers\n",
    "sigma = np.ones(mesh.n_cells) * sigma_background\n",
    "blk_ind = utils.model_builder.getIndicesBlock(np.r_[-10000, -5000], np.r_[10000, -10000], cells)\n",
    "sigma[blk_ind] = sigma_block\n",
    "sigma[cells[:, -1] >= 0] = sigma_air"
   ]
  },
  {
   "cell_type": "code",
   "execution_count": null,
   "id": "c423f5f7",
   "metadata": {},
   "outputs": [],
   "source": [
    "fig, ax = plt.subplots(1,1, figsize=(10, 10))\n",
    "grid= False\n",
    "out = mesh.plot_image(\n",
    "    sigma, grid=grid, ax=ax, pcolor_opts={'norm':LogNorm(vmin=1e-4, vmax=1), 'cmap':'turbo'},\n",
    "    range_x=(-60000, 60000), range_y=(-30000, 2000)\n",
    ")\n",
    "ax.plot(rx_locs[:,0], rx_locs[:,1], 'ro')\n",
    "cb = plt.colorbar(out[0], fraction=0.01)\n",
    "cb.set_label(\"Conductivity (S/m)\")\n",
    "ax.set_aspect(1)\n",
    "ax.set_xlabel(\"Easting (m)\")\n",
    "ax.set_ylabel(\"Elevation (m)\")\n"
   ]
  },
  {
   "cell_type": "markdown",
   "id": "67b6fe47",
   "metadata": {},
   "source": [
    "## Step 3: Setup `Survey` and `Simulation`"
   ]
  },
  {
   "cell_type": "code",
   "execution_count": null,
   "id": "39f16efe",
   "metadata": {},
   "outputs": [],
   "source": [
    "# simulation class for TE mode\n",
    "rx_list_tm = [\n",
    "    nsem.receivers.PointNaturalSource(\n",
    "        rx_locs, orientation=\"xy\", component=\"apparent_resistivity\"\n",
    "    ),\n",
    "    nsem.receivers.PointNaturalSource(\n",
    "        rx_locs, orientation=\"xy\", component=\"phase\"\n",
    "    ),\n",
    "]\n",
    "src_list_tm = [nsem.sources.Planewave(rx_list_tm, frequency=f) for f in frequencies]\n",
    "survey_tm = nsem.Survey(src_list_tm)\n",
    "\n",
    "sim_tm= nsem.simulation.Simulation2DElectricField(\n",
    "    mesh,\n",
    "    survey=survey_tm,\n",
    "    sigma=sigma,\n",
    "    solver=Solver,\n",
    ")\n",
    "\n",
    "# simulation class for TE mode\n",
    "rx_list_te = [\n",
    "    nsem.receivers.PointNaturalSource(\n",
    "        rx_locs, orientation=\"yx\", component=\"apparent_resistivity\"\n",
    "    ),\n",
    "    nsem.receivers.PointNaturalSource(\n",
    "        rx_locs, orientation=\"yx\", component=\"phase\",        \n",
    "    ),       \n",
    "]\n",
    "src_list_te = [nsem.sources.Planewave(rx_list_te, frequency=f) for f in frequencies]\n",
    "survey_te = nsem.Survey(src_list_te)\n",
    "\n",
    "sim_te = nsem.simulation.Simulation2DMagneticField(\n",
    "    mesh,\n",
    "    survey=survey_te,\n",
    "    sigma=sigma,\n",
    "    solver=Solver,\n",
    ")"
   ]
  },
  {
   "cell_type": "markdown",
   "id": "79cdf58d",
   "metadata": {},
   "source": [
    "## Step 4: Run forward modelling"
   ]
  },
  {
   "cell_type": "code",
   "execution_count": null,
   "id": "61c3fcb5",
   "metadata": {},
   "outputs": [],
   "source": [
    "f_te = sim_te.fields()\n",
    "pred_te = sim_te.dpred(f=f_te)\n",
    "f_tm = sim_tm.fields()\n",
    "pred_tm = sim_tm.dpred(f=f_tm)"
   ]
  },
  {
   "cell_type": "code",
   "execution_count": null,
   "id": "128d8964",
   "metadata": {},
   "outputs": [],
   "source": [
    "# extract fields\n",
    "i_freq = 0 \n",
    "e_te = f_te[src_list_te[i_freq], 'e']\n",
    "h_te = f_te[src_list_te[i_freq], 'h']\n",
    "e_tm = f_tm[src_list_tm[i_freq], 'e']\n",
    "h_tm = f_tm[src_list_tm[i_freq], 'h']"
   ]
  },
  {
   "cell_type": "code",
   "execution_count": null,
   "id": "99839fe7",
   "metadata": {},
   "outputs": [],
   "source": [
    "fig, ax = plt.subplots(1,1, figsize=(10, 10))\n",
    "out = mesh.plot_image(e_tm.real, v_type='E', view='vec', ax=ax, range_x=(-60000, 60000), range_y=(-30000, 0))\n",
    "cb = plt.colorbar(out[0], fraction=0.01)\n",
    "cb.set_label(\"Field\")\n",
    "ax.set_aspect(1)\n",
    "ax.set_ylim(-30000, 0)\n",
    "ax.set_xlim(-60000, 60000)\n",
    "ax.set_xlabel(\"Easting (m)\")\n",
    "ax.set_ylabel(\"Elevation (m)\")"
   ]
  },
  {
   "cell_type": "code",
   "execution_count": null,
   "id": "8fd27953",
   "metadata": {},
   "outputs": [],
   "source": [
    "fig, ax = plt.subplots(1,1, figsize=(10, 10))\n",
    "out = mesh.plot_image(\n",
    "    h_tm.real, v_type='CC', ax=ax, range_x=(-60000, 60000), range_y=(-30000, 0),\n",
    "    pcolor_opts={'cmap':'plasma'}\n",
    ")\n",
    "cb = plt.colorbar(out[0], fraction=0.01)\n",
    "cb.set_label(\"Field\")\n",
    "ax.set_aspect(1)\n",
    "ax.set_ylim(-30000, 0)\n",
    "ax.set_xlim(-60000, 60000)\n",
    "ax.set_xlabel(\"Easting (m)\")\n",
    "ax.set_ylabel(\"Elevation (m)\")"
   ]
  },
  {
   "cell_type": "code",
   "execution_count": null,
   "id": "004835d9",
   "metadata": {},
   "outputs": [],
   "source": [
    "fig, ax = plt.subplots(1,1, figsize=(10, 10))\n",
    "out = mesh.plot_image(e_te.real, v_type='CC', ax=ax, range_x=(-60000, 60000), range_y=(-30000, 0))\n",
    "cb = plt.colorbar(out[0], fraction=0.01)\n",
    "cb.set_label(\"Field\")\n",
    "ax.set_aspect(1)\n",
    "ax.set_ylim(-30000, 0)\n",
    "ax.set_xlim(-60000, 60000)\n",
    "ax.set_xlabel(\"Easting (m)\")\n",
    "ax.set_ylabel(\"Elevation (m)\")"
   ]
  },
  {
   "cell_type": "code",
   "execution_count": null,
   "id": "3eb17d32",
   "metadata": {},
   "outputs": [],
   "source": [
    "fig, ax = plt.subplots(1,1, figsize=(10, 10))\n",
    "out = mesh.plot_image(\n",
    "    h_te.real, v_type='E', view='vec', ax=ax, range_x=(-60000, 60000), range_y=(-30000, 0),\n",
    "    pcolor_opts={'cmap':'plasma'}, stream_opts={'color':'w'}\n",
    ")\n",
    "cb = plt.colorbar(out[0], fraction=0.01)\n",
    "cb.set_label(\"Field\")\n",
    "ax.set_aspect(1)\n",
    "ax.set_ylim(-30000, 0)\n",
    "ax.set_xlim(-60000, 60000)\n",
    "ax.set_xlabel(\"Easting (m)\")\n",
    "ax.set_ylabel(\"Elevation (m)\")"
   ]
  },
  {
   "cell_type": "code",
   "execution_count": null,
   "id": "c7b81bec",
   "metadata": {},
   "outputs": [],
   "source": [
    "PRED_te = pred_te.reshape((n_freq, 2, n_rx))\n",
    "PRED_tm = pred_tm.reshape((n_freq, 2, n_rx))\n",
    "\n",
    "rho_app_te = PRED_te[:,0,:]\n",
    "rho_app_tm = PRED_tm[:,0,:]\n",
    "\n",
    "phase_te = PRED_te[:,1,:]\n",
    "phase_tm = PRED_tm[:,1,:]"
   ]
  },
  {
   "cell_type": "code",
   "execution_count": null,
   "id": "d7d702bf",
   "metadata": {},
   "outputs": [],
   "source": [
    "from ipywidgets import widgets, interact"
   ]
  },
  {
   "cell_type": "code",
   "execution_count": null,
   "id": "1b0eeec7",
   "metadata": {},
   "outputs": [],
   "source": [
    "import matplotlib\n",
    "matplotlib.rcParams['font.size'] = 12\n",
    "def foo_te(kk, mode):\n",
    "    fig, axs = plt.subplots(2, 1, figsize=(8, 5))\n",
    "    for i_freq in range(kk):\n",
    "        ax1, ax2 = axs\n",
    "        if mode == 'TE':\n",
    "            ax1.semilogy(rx_locs[:,0], rho_app_te[i_freq,:], '-', label='TE-AppRes.', color='C0')\n",
    "            ax2.plot(rx_locs[:,0], phase_te[i_freq,:], '-', label='TE-Pha.', color='C0')\n",
    "        elif mode == 'TM':\n",
    "            ax1.semilogy(rx_locs[:,0], rho_app_tm[i_freq,:], '-', label='TM-AppRes.', color='C1')\n",
    "            ax2.plot(rx_locs[:,0], phase_tm[i_freq,:]+180, '-', label='TM-Pha.', color='C1')\n",
    "        ax1.set_title(\"Frequency at {:.1e} Hz\".format(frequencies[i_freq]))\n",
    "        ax1.set_xticklabels([])\n",
    "        ax1.set_ylim(1, 1e3) \n",
    "        ax2.set_ylim(0, 90)\n",
    "        ax1.set_ylabel(\"Apparent resistivity (Ohm-m)\")\n",
    "        ax2.set_ylabel(\"Phase (degree)\")"
   ]
  },
  {
   "cell_type": "code",
   "execution_count": null,
   "id": "e55d88cb",
   "metadata": {},
   "outputs": [],
   "source": [
    "interact(\n",
    "    foo_te, \n",
    "    kk=widgets.IntSlider(min=1, max=len(frequencies), value=1, continuous_update=True),\n",
    "    mode=widgets.RadioButtons(options=['TE', 'TM'])\n",
    ")"
   ]
  },
  {
   "cell_type": "code",
   "execution_count": null,
   "id": "314e8363",
   "metadata": {},
   "outputs": [],
   "source": [
    "fig, ax1 = plt.subplots(1, 1, figsize=(10, 5))\n",
    "i_freq = 0\n",
    "ax1.plot(rx_locs[:,0], rho_app_te[i_freq,:], '-', label='TE-AppRes.', color='C0')\n",
    "ax1.plot(rx_locs[:,0], rho_app_tm[i_freq,:], '-', label='TM-AppRes.', color='C1')\n",
    "# ax1.set_ylim(50, 2e2) \n",
    "ax1.legend()"
   ]
  },
  {
   "cell_type": "code",
   "execution_count": null,
   "id": "614cd6cd",
   "metadata": {},
   "outputs": [],
   "source": [
    "i_sounding = 3\n",
    "fig, axs = plt.subplots(2, 1, figsize=(8, 6))\n",
    "ax1, ax2 = axs\n",
    "ax1.loglog(1./frequencies, rho_app_te[:,i_sounding], '.-', label='TE-AppRes.')\n",
    "ax1.loglog(1./frequencies, rho_app_tm[:,i_sounding], '.-', label='TM-AppRes.')\n",
    "ax1.legend()\n",
    "ax1.set_ylim(1, 1e4)\n",
    "\n",
    "ax2.semilogx(1./frequencies, phase_te[:,i_sounding], '.-', label='TE-Pha.')\n",
    "ax2.semilogx(1./frequencies, phase_tm[:,i_sounding]+180, '.-', label='TM-Pha.')\n",
    "ax2.set_ylim(0, 90)\n",
    "ax2.legend()\n",
    "for ax in axs:\n",
    "    ax.grid(True, which='both', alpha=0.3)\n",
    "ax1.set_ylabel(\"Resistivity (Ohm-m)\")\n",
    "ax2.set_ylabel(\"Phase (degree)\")\n",
    "ax2.set_xlabel('Period (s)')"
   ]
  },
  {
   "cell_type": "code",
   "execution_count": null,
   "id": "d1f18591",
   "metadata": {},
   "outputs": [],
   "source": [
    "noise_rho_app_te = 0.05 * abs(rho_app_te) * np.random.randn(len(frequencies), n_rx)\n",
    "noise_rho_app_tm = 0.05 * abs(rho_app_tm) * np.random.randn(len(frequencies), n_rx)\n",
    "noise_phase_te = 2 * np.ones_like(phase_te) * np.random.randn(len(frequencies), n_rx)\n",
    "noise_phase_tm = 2 * np.ones_like(phase_tm) * np.random.randn(len(frequencies), n_rx)"
   ]
  },
  {
   "cell_type": "code",
   "execution_count": null,
   "id": "3f396574",
   "metadata": {},
   "outputs": [],
   "source": [
    "# This could have been better if we could use MTpy\n",
    "import dill \n",
    "output_results ={\n",
    "    'rx_locs': rx_locs,\n",
    "    'frequencies': frequencies,\n",
    "    'app_rho_te': rho_app_te+noise_rho_app_te,\n",
    "    'app_rho_tm': rho_app_tm+noise_rho_app_tm,\n",
    "    'phase_te': phase_te+noise_phase_te,\n",
    "    'phase_tm': phase_tm+noise_phase_tm,\n",
    "    'mesh': mesh,\n",
    "    'sigma': sigma\n",
    "}\n",
    "dill.dump(output_results, open(\"./synthetic_2d.pik\", \"wb\"))"
   ]
  },
  {
   "cell_type": "markdown",
   "id": "0d093345",
   "metadata": {},
   "source": [
    "## Step 5: Create `MTpy` object and save as `MTH5` format"
   ]
  },
  {
   "cell_type": "code",
   "execution_count": null,
   "id": "c525af06",
   "metadata": {},
   "outputs": [],
   "source": [
    "import numpy as np\n",
    "from mtpy import MTCollection\n",
    "from mtpy import MT\n",
    "from mtpy.core.z import Z\n",
    "mc = MTCollection()\n",
    "mc.open_collection(filename=\"./2d_mth5.h5\")\n",
    "\n",
    "for i_rx in range(n_rx):\n",
    "    app_rho_matrix = np.zeros((n_freq, 2, 2), dtype=float)\n",
    "    phase_matrix = np.zeros((n_freq, 2, 2), dtype=float)\n",
    "    app_rho_matrix[:,0,1] = output_results['app_rho_te'][:,i_rx]\n",
    "    app_rho_matrix[:,1,0] = output_results['app_rho_tm'][:,i_rx]\n",
    "    phase_matrix[:,0,1] = output_results['phase_te'][:,i_rx]\n",
    "    phase_matrix[:,1,0] = output_results['phase_tm'][:,i_rx]\n",
    "    # or add apparent resistivity and phase\n",
    "    z_object = Z()\n",
    "    z_object.set_resistivity_phase(app_rho_matrix, phase_matrix, frequencies)\n",
    "\n",
    "    dx_lon = d_station / 1e5\n",
    "\n",
    "    response = MT()  \n",
    "    response.Z = z_object\n",
    "\n",
    "    response.survey_metadata.id = \"model_2d_response\"\n",
    "    response.station_metadata.id = \"mt-{:d}\".format(i_rx)\n",
    "    response.station_metadata.transfer_function.id = \"mt-{:d}\".format(i_rx)\n",
    "    # if this is 2D maybe we need a location\n",
    "    response.station_metadata.location.latitude = 40 \n",
    "    response.station_metadata.location.longitude = -122 + dx_lon * (i_rx)\n",
    "    mc.add_tf(response)\n",
    "mc.close_collection()"
   ]
  }
 ],
 "metadata": {
  "kernelspec": {
   "display_name": "Python 3 (ipykernel)",
   "language": "python",
   "name": "python3"
  },
  "language_info": {
   "codemirror_mode": {
    "name": "ipython",
    "version": 3
   },
   "file_extension": ".py",
   "mimetype": "text/x-python",
   "name": "python",
   "nbconvert_exporter": "python",
   "pygments_lexer": "ipython3",
   "version": "3.9.13"
  }
 },
 "nbformat": 4,
 "nbformat_minor": 5
}
