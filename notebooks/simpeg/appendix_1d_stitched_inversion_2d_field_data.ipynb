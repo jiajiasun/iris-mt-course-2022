{
 "cells": [
  {
   "cell_type": "markdown",
   "id": "5d0eb30e",
   "metadata": {},
   "source": [
    "# Stitched inversion of 2D field data"
   ]
  },
  {
   "cell_type": "code",
   "execution_count": 1,
   "id": "c7c0c8b1",
   "metadata": {},
   "outputs": [],
   "source": [
    "import numpy as np\n",
    "from SimPEG.electromagnetics import natural_source as nsem\n",
    "from SimPEG import maps\n",
    "import matplotlib.pyplot as plt\n",
    "from matplotlib.colors import LogNorm\n",
    "import matplotlib\n",
    "import matplotlib.gridspec as gridspec\n",
    "from SimPEG.utils import plot_1d_layer_model\n",
    "from discretize import TensorMesh\n",
    "from SimPEG import (\n",
    "    maps,\n",
    "    data,\n",
    "    data_misfit,\n",
    "    regularization,\n",
    "    optimization,\n",
    "    inverse_problem,\n",
    "    inversion,\n",
    "    directives,\n",
    "    utils,\n",
    ")"
   ]
  },
  {
   "cell_type": "markdown",
   "id": "e3b25d04",
   "metadata": {},
   "source": [
    "## Step 1: Import Yellowstone MT data in `mth5` format"
   ]
  },
  {
   "cell_type": "code",
   "execution_count": 2,
   "id": "a1167a3c",
   "metadata": {},
   "outputs": [
    {
     "name": "stderr",
     "output_type": "stream",
     "text": [
      "C:\\Users\\sgkan\\anaconda3\\envs\\em\\lib\\site-packages\\pkg_resources\\__init__.py:123: PkgResourcesDeprecationWarning: -PKG-VERSION is an invalid version and will not be supported in a future release\n",
      "  warnings.warn(\n",
      "2022-10-19 19:18:13,535 [line 135] mth5.setup_logger - INFO: Logging file can be found C:\\Users\\sgkan\\anaconda3\\envs\\em\\lib\\site-packages\\mth5-0.3.0-py3.9.egg\\logs\\mth5_debug.log\n"
     ]
    }
   ],
   "source": [
    "from mtpy import MTCollection\n",
    "mc = MTCollection()\n",
    "mc.open_collection(\"../../data/transfer_functions/yellowstone_mt_collection.h5\")"
   ]
  },
  {
   "cell_type": "code",
   "execution_count": 3,
   "id": "4b0f1832",
   "metadata": {},
   "outputs": [],
   "source": [
    "# Extract 2D line\n",
    "ii = 1\n",
    "kk = -7\n",
    "inds_sr = ['SR' in station for station in mc.dataframe['station'].values]\n",
    "station_ids = mc.dataframe['station'].values[inds_sr][ii:kk]\n",
    "lat = mc.dataframe['latitude'].values[inds_sr][ii:kk]\n",
    "lon = mc.dataframe['longitude'].values[inds_sr][ii:kk]"
   ]
  },
  {
   "cell_type": "code",
   "execution_count": 4,
   "id": "239244f0",
   "metadata": {},
   "outputs": [
    {
     "data": {
      "image/png": "[encoded data removed]",
      "text/plain": [
       "<Figure size 640x480 with 1 Axes>"
      ]
     },
     "metadata": {},
     "output_type": "display_data"
    }
   ],
   "source": [
    "plt.plot(mc.dataframe['longitude'].values, mc.dataframe['latitude'].values, '.')\n",
    "plt.plot(lon, lat, '.')\n",
    "plt.gca().set_aspect(1)"
   ]
  },
  {
   "cell_type": "markdown",
   "id": "4de685ce",
   "metadata": {},
   "source": [
    "## Step 2: Visulize transfer function at each station"
   ]
  },
  {
   "cell_type": "code",
   "execution_count": 5,
   "id": "0e11ae2f",
   "metadata": {},
   "outputs": [
    {
     "data": {
      "application/vnd.jupyter.widget-view+json": {
       "model_id": "1e4d3efb252f491f8743a9d8920c7871",
       "version_major": 2,
       "version_minor": 0
      },
      "text/plain": [
       "interactive(children=(Select(description='name', options=('SR205', 'SR209', 'SR212', 'SR216', 'SR220', 'SR222'…"
      ]
     },
     "metadata": {},
     "output_type": "display_data"
    }
   ],
   "source": [
    "from ipywidgets import widgets, interact\n",
    "station_names = mc.dataframe.station.values\n",
    "def foo(name, component):\n",
    "    tf = mc.get_tf(name)\n",
    "    tf.plot_mt_response()\n",
    "Q = interact(\n",
    "    foo, \n",
    "    name=widgets.Select(options=station_ids),\n",
    "    component=widgets.RadioButtons(options=['xy', 'yx', 'det'], value='xy')\n",
    ")"
   ]
  },
  {
   "cell_type": "markdown",
   "id": "7831a0d9",
   "metadata": {},
   "source": [
    "## Step 3: Design a 1D vertical mesh"
   ]
  },
  {
   "cell_type": "code",
   "execution_count": 6,
   "id": "ebe4a74e",
   "metadata": {},
   "outputs": [
    {
     "name": "stderr",
     "output_type": "stream",
     "text": [
      "2022-10-19 19:18:16,422 [line 275] mtpy.core.mt_collection.MTCollection.get_tf - WARNING: Found multiple transfer functions with ID SR205. Suggest setting survey, otherwise returning the TF from survey Yellowstone-Snake_River_Plain.\n"
     ]
    },
    {
     "name": "stdout",
     "output_type": "stream",
     "text": [
      "688.6936173947421\n",
      "2.7223014526313616\n"
     ]
    }
   ],
   "source": [
    "from geoana.em.fdem import skin_depth\n",
    "tf = mc.get_tf(station_ids[0])\n",
    "f_min = tf.frequency.min()\n",
    "f_max = tf.frequency.max()\n",
    "z_max = skin_depth(f_min, 1e-2) * 1\n",
    "print (z_max/1e3)\n",
    "z_min = skin_depth(f_max, 1e-2) / 5\n",
    "print (z_min/1e3)"
   ]
  },
  {
   "cell_type": "code",
   "execution_count": 7,
   "id": "ef2ac355",
   "metadata": {},
   "outputs": [
    {
     "name": "stdout",
     "output_type": "stream",
     "text": [
      "688.6936173947421 508.22101256083084\n"
     ]
    }
   ],
   "source": [
    "n_layer = 21\n",
    "z_factor = 1.2\n",
    "layer_thicknesses_inv = z_min*z_factor**np.arange(n_layer-1)[::-1]\n",
    "print (z_max/1e3, np.sum(layer_thicknesses_inv)/1e3)"
   ]
  },
  {
   "cell_type": "markdown",
   "id": "dcc2d922",
   "metadata": {},
   "source": [
    "## Step 4: Run separate 1D inversions"
   ]
  },
  {
   "cell_type": "code",
   "execution_count": 8,
   "id": "89366cf1",
   "metadata": {},
   "outputs": [],
   "source": [
    "def run_fixed_layer_inversion(\n",
    "    dobs,\n",
    "    standard_deviation,\n",
    "    rho_0,\n",
    "    rho_ref,\n",
    "    maxIter=10,\n",
    "    maxIterCG=30,\n",
    "    alpha_s=1e-10,\n",
    "    alpha_z=1,\n",
    "    beta0_ratio=1,\n",
    "    coolingFactor=2,\n",
    "    coolingRate=1,\n",
    "    chi_factor=1,\n",
    "    use_irls=False,\n",
    "    p_s=2,\n",
    "    p_z=2\n",
    "    \n",
    "):\n",
    "    mesh_inv = TensorMesh([(np.r_[layer_thicknesses_inv, layer_thicknesses_inv[-1]])], \"N\")\n",
    "    receivers_list = [\n",
    "        nsem.receivers.PointNaturalSource(component=\"app_res\"),\n",
    "        nsem.receivers.PointNaturalSource(component=\"phase\"),\n",
    "    ]\n",
    "\n",
    "    source_list = []\n",
    "    for freq in frequencies:\n",
    "        source_list.append(nsem.sources.Planewave(receivers_list, freq))\n",
    "\n",
    "    survey = nsem.survey.Survey(source_list)\n",
    "\n",
    "    sigma_map = maps.ExpMap(nP=len(layer_thicknesses_inv)+1)\n",
    "    simulation = nsem.simulation_1d.Simulation1DRecursive(\n",
    "        survey=survey, \n",
    "        sigmaMap=sigma_map,\n",
    "        thicknesses=layer_thicknesses_inv,\n",
    "    )\n",
    "    # Define the data \n",
    "    data_object = data.Data(survey, dobs=dobs, standard_deviation=standard_deviation)    \n",
    "    \n",
    "    # Initial model\n",
    "    m0 = np.ones(len(layer_thicknesses_inv)+1) * np.log(1./rho_0)\n",
    "    \n",
    "    # Reference model\n",
    "    mref = np.ones(len(layer_thicknesses_inv)+1) * np.log(1./rho_ref)    \n",
    "    \n",
    "    dmis = data_misfit.L2DataMisfit(simulation=simulation, data=data_object)\n",
    "\n",
    "    # Define the regularization (model objective function)\n",
    "    reg = regularization.Sparse(mesh_inv, alpha_s=alpha_s, alpha_x=alpha_z, mref=mref, mapping=maps.IdentityMap(mesh_inv))\n",
    "\n",
    "    # Define how the optimization problem is solved. Here we will use an inexact\n",
    "    # Gauss-Newton approach that employs the conjugate gradient solver.\n",
    "    opt = optimization.InexactGaussNewton(maxIter=maxIter, maxIterCG=maxIterCG)\n",
    "\n",
    "    # Define the inverse problem\n",
    "    inv_prob = inverse_problem.BaseInvProblem(dmis, reg, opt)\n",
    "\n",
    "    #######################################################################\n",
    "    # Define Inversion Directives\n",
    "    # ---------------------------\n",
    "    #\n",
    "    # Here we define any directives that are carried out during the inversion. This\n",
    "    # includes the cooling schedule for the trade-off parameter (beta), stopping\n",
    "    # criteria for the inversion and saving inversion results at each iteration.\n",
    "    #\n",
    "\n",
    "    # Defining a starting value for the trade-off parameter (beta) between the data\n",
    "    # misfit and the regularization.\n",
    "    starting_beta = directives.BetaEstimate_ByEig(beta0_ratio=beta0_ratio)\n",
    "\n",
    "    # Set the rate of reduction in trade-off parameter (beta) each time the\n",
    "    # the inverse problem is solved. And set the number of Gauss-Newton iterations\n",
    "    # for each trade-off paramter value.\n",
    "    beta_schedule = directives.BetaSchedule(coolingFactor=coolingFactor, coolingRate=coolingRate)\n",
    "    save_dictionary = directives.SaveOutputDictEveryIteration()\n",
    "    save_dictionary.outDict = {}\n",
    "    # Setting a stopping criteria for the inversion.\n",
    "    target_misfit = directives.TargetMisfit(chifact=chi_factor)\n",
    "    if use_irls:\n",
    "        reg.norms = np.c_[p_s, p_z]\n",
    "        # Reach target misfit for L2 solution, then use IRLS until model stops changing.\n",
    "        IRLS = directives.Update_IRLS(max_irls_iterations=40, minGNiter=1, f_min_change=1e-5)\n",
    "\n",
    "        # The directives are defined as a list.\n",
    "        directives_list = [\n",
    "            IRLS,\n",
    "            starting_beta,\n",
    "            save_dictionary,\n",
    "        ]\n",
    "    else:\n",
    "        # The directives are defined as a list.\n",
    "        directives_list = [\n",
    "            starting_beta,\n",
    "            beta_schedule,\n",
    "            target_misfit,\n",
    "            save_dictionary\n",
    "        ]\n",
    "\n",
    "    #####################################################################\n",
    "    # Running the Inversion\n",
    "    # ---------------------\n",
    "    #\n",
    "    # To define the inversion object, we need to define the inversion problem and\n",
    "    # the set of directives. We can then run the inversion.\n",
    "    #\n",
    "\n",
    "    # Here we combine the inverse problem and the set of directives\n",
    "    inv = inversion.BaseInversion(inv_prob, directives_list)\n",
    "\n",
    "    # Run the inversion\n",
    "    recovered_model = inv.run(m0)    \n",
    "    \n",
    "    return recovered_model, inv_prob.phi_d"
   ]
  },
  {
   "cell_type": "code",
   "execution_count": 9,
   "id": "549eb2d5",
   "metadata": {
    "scrolled": true
   },
   "outputs": [
    {
     "name": "stderr",
     "output_type": "stream",
     "text": [
      "2022-10-19 19:18:16,799 [line 275] mtpy.core.mt_collection.MTCollection.get_tf - WARNING: Found multiple transfer functions with ID SR205. Suggest setting survey, otherwise returning the TF from survey Yellowstone-Snake_River_Plain.\n"
     ]
    },
    {
     "name": "stdout",
     "output_type": "stream",
     "text": [
      "\n",
      "        SimPEG.InvProblem is setting bfgsH0 to the inverse of the eval2Deriv.\n",
      "        ***Done using same Solver and solverOpts as the problem***\n",
      "model has any nan: 0\n",
      "============================ Inexact Gauss Newton ============================\n",
      "  #     beta     phi_d     phi_m       f      |proj(x-g)-x|  LS    Comment   \n",
      "-----------------------------------------------------------------------------\n",
      "x0 has any nan: 0\n",
      "   0  1.51e+01  6.23e+05  0.00e+00  6.23e+05    3.29e+05      0              \n",
      "   1  7.55e+00  7.58e+04  2.04e+00  7.58e+04    4.83e+04      0              \n",
      "   2  3.77e+00  9.46e+03  7.05e+00  9.49e+03    7.32e+03      0   Skip BFGS  \n",
      "   3  1.89e+00  2.01e+03  7.63e+01  2.16e+03    1.24e+03      0   Skip BFGS  \n"
     ]
    },
    {
     "name": "stderr",
     "output_type": "stream",
     "text": [
      "2022-10-19 19:18:18,351 [line 275] mtpy.core.mt_collection.MTCollection.get_tf - WARNING: Found multiple transfer functions with ID SR209. Suggest setting survey, otherwise returning the TF from survey Yellowstone-Snake_River_Plain.\n"
     ]
    },
    {
     "name": "stdout",
     "output_type": "stream",
     "text": [
      "   4  9.43e-01  1.18e+03  2.27e+02  1.39e+03    4.97e+02      0   Skip BFGS  \n",
      "   5  4.72e-01  8.55e+02  4.60e+02  1.07e+03    4.18e+02      0   Skip BFGS  \n",
      "------------------------- STOP! -------------------------\n",
      "1 : |fc-fOld| = 3.2102e+02 <= tolF*(1+|f0|) = 6.2322e+04\n",
      "1 : |xc-x_last| = 5.8625e-01 <= tolX*(1+|x0|) = 2.2104e+00\n",
      "0 : |proj(x-g)-x|    = 4.1801e+02 <= tolG          = 1.0000e-01\n",
      "0 : |proj(x-g)-x|    = 4.1801e+02 <= 1e3*eps       = 1.0000e-02\n",
      "1 : maxIter   =       5    <= iter          =      5\n",
      "------------------------- DONE! -------------------------\n",
      "\n",
      "        SimPEG.InvProblem is setting bfgsH0 to the inverse of the eval2Deriv.\n",
      "        ***Done using same Solver and solverOpts as the problem***\n",
      "model has any nan: 0\n",
      "============================ Inexact Gauss Newton ============================\n",
      "  #     beta     phi_d     phi_m       f      |proj(x-g)-x|  LS    Comment   \n",
      "-----------------------------------------------------------------------------\n",
      "x0 has any nan: 0\n",
      "   0  8.08e+02  5.33e+07  0.00e+00  5.33e+07    2.66e+07      0              \n",
      "   1  4.04e+02  7.00e+06  2.36e+00  7.00e+06    3.86e+06      0              \n",
      "   2  2.02e+02  9.11e+05  9.16e+00  9.13e+05    5.79e+05      0   Skip BFGS  \n",
      "   3  1.01e+02  1.14e+05  1.97e+01  1.16e+05    8.96e+04      0   Skip BFGS  \n",
      "   4  5.05e+01  1.43e+04  3.25e+01  1.59e+04    1.39e+04      0   Skip BFGS  \n"
     ]
    },
    {
     "name": "stderr",
     "output_type": "stream",
     "text": [
      "2022-10-19 19:18:19,719 [line 275] mtpy.core.mt_collection.MTCollection.get_tf - WARNING: Found multiple transfer functions with ID SR212. Suggest setting survey, otherwise returning the TF from survey Yellowstone-Snake_River_Plain.\n"
     ]
    },
    {
     "name": "stdout",
     "output_type": "stream",
     "text": [
      "   5  2.53e+01  3.30e+03  4.58e+01  4.46e+03    2.30e+03      0   Skip BFGS  \n",
      "------------------------- STOP! -------------------------\n",
      "1 : |fc-fOld| = 1.1468e+04 <= tolF*(1+|f0|) = 5.3277e+06\n",
      "0 : |xc-x_last| = 2.7204e+00 <= tolX*(1+|x0|) = 2.2104e+00\n",
      "0 : |proj(x-g)-x|    = 2.3017e+03 <= tolG          = 1.0000e-01\n",
      "0 : |proj(x-g)-x|    = 2.3017e+03 <= 1e3*eps       = 1.0000e-02\n",
      "1 : maxIter   =       5    <= iter          =      5\n",
      "------------------------- DONE! -------------------------\n",
      "\n",
      "        SimPEG.InvProblem is setting bfgsH0 to the inverse of the eval2Deriv.\n",
      "        ***Done using same Solver and solverOpts as the problem***\n",
      "model has any nan: 0\n",
      "============================ Inexact Gauss Newton ============================\n",
      "  #     beta     phi_d     phi_m       f      |proj(x-g)-x|  LS    Comment   \n",
      "-----------------------------------------------------------------------------\n",
      "x0 has any nan: 0\n",
      "   0  5.51e+02  2.36e+07  0.00e+00  2.36e+07    1.33e+07      0              \n",
      "   1  2.75e+02  3.11e+06  2.29e+00  3.11e+06    1.98e+06      0              \n",
      "   2  1.38e+02  4.02e+05  8.88e+00  4.03e+05    3.05e+05      0   Skip BFGS  \n",
      "   3  6.88e+01  5.17e+04  1.89e+01  5.30e+04    4.84e+04      0   Skip BFGS  \n",
      "   4  3.44e+01  9.35e+03  3.03e+01  1.04e+04    7.87e+03      0   Skip BFGS  \n"
     ]
    },
    {
     "name": "stderr",
     "output_type": "stream",
     "text": [
      "2022-10-19 19:18:21,217 [line 275] mtpy.core.mt_collection.MTCollection.get_tf - WARNING: Found multiple transfer functions with ID SR216. Suggest setting survey, otherwise returning the TF from survey Yellowstone-Snake_River_Plain.\n"
     ]
    },
    {
     "name": "stdout",
     "output_type": "stream",
     "text": [
      "   5  1.72e+01  5.14e+03  4.03e+01  5.84e+03    1.34e+03      0   Skip BFGS  \n",
      "------------------------- STOP! -------------------------\n",
      "1 : |fc-fOld| = 4.5570e+03 <= tolF*(1+|f0|) = 2.3586e+06\n",
      "1 : |xc-x_last| = 1.8991e+00 <= tolX*(1+|x0|) = 2.2104e+00\n",
      "0 : |proj(x-g)-x|    = 1.3354e+03 <= tolG          = 1.0000e-01\n",
      "0 : |proj(x-g)-x|    = 1.3354e+03 <= 1e3*eps       = 1.0000e-02\n",
      "1 : maxIter   =       5    <= iter          =      5\n",
      "------------------------- DONE! -------------------------\n",
      "\n",
      "        SimPEG.InvProblem is setting bfgsH0 to the inverse of the eval2Deriv.\n",
      "        ***Done using same Solver and solverOpts as the problem***\n",
      "model has any nan: 0\n",
      "============================ Inexact Gauss Newton ============================\n",
      "  #     beta     phi_d     phi_m       f      |proj(x-g)-x|  LS    Comment   \n",
      "-----------------------------------------------------------------------------\n",
      "x0 has any nan: 0\n",
      "   0  1.39e+00  5.59e+04  0.00e+00  5.59e+04    3.42e+04      0              \n",
      "   1  6.95e-01  7.41e+03  1.43e+00  7.41e+03    5.20e+03      0              \n",
      "   2  3.47e-01  1.19e+03  5.35e+02  1.37e+03    6.75e+02      0   Skip BFGS  \n",
      "   3  1.74e-01  4.62e+02  1.46e+03  7.16e+02    2.26e+02      0   Skip BFGS  \n",
      "   4  8.68e-02  2.31e+02  2.24e+03  4.25e+02    1.48e+02      0   Skip BFGS  \n"
     ]
    },
    {
     "name": "stderr",
     "output_type": "stream",
     "text": [
      "2022-10-19 19:18:22,712 [line 275] mtpy.core.mt_collection.MTCollection.get_tf - WARNING: Found multiple transfer functions with ID SR220. Suggest setting survey, otherwise returning the TF from survey Yellowstone-Snake_River_Plain.\n"
     ]
    },
    {
     "name": "stdout",
     "output_type": "stream",
     "text": [
      "   5  4.34e-02  1.13e+02  3.11e+03  2.48e+02    7.77e+01      0   Skip BFGS  \n",
      "------------------------- STOP! -------------------------\n",
      "1 : |fc-fOld| = 1.7712e+02 <= tolF*(1+|f0|) = 5.5923e+03\n",
      "1 : |xc-x_last| = 9.6325e-01 <= tolX*(1+|x0|) = 2.2104e+00\n",
      "0 : |proj(x-g)-x|    = 7.7698e+01 <= tolG          = 1.0000e-01\n",
      "0 : |proj(x-g)-x|    = 7.7698e+01 <= 1e3*eps       = 1.0000e-02\n",
      "1 : maxIter   =       5    <= iter          =      5\n",
      "------------------------- DONE! -------------------------\n",
      "\n",
      "        SimPEG.InvProblem is setting bfgsH0 to the inverse of the eval2Deriv.\n",
      "        ***Done using same Solver and solverOpts as the problem***\n",
      "model has any nan: 0\n",
      "============================ Inexact Gauss Newton ============================\n",
      "  #     beta     phi_d     phi_m       f      |proj(x-g)-x|  LS    Comment   \n",
      "-----------------------------------------------------------------------------\n",
      "x0 has any nan: 0\n",
      "   0  2.21e+00  1.00e+05  0.00e+00  1.00e+05    5.90e+04      0              \n",
      "   1  1.11e+00  1.21e+04  1.62e+00  1.21e+04    8.80e+03      0              \n",
      "   2  5.53e-01  2.10e+03  1.46e+02  2.18e+03    1.44e+03      0   Skip BFGS  \n",
      "   3  2.77e-01  7.84e+02  7.89e+02  1.00e+03    3.09e+02      0   Skip BFGS  \n",
      "   4  1.38e-01  4.66e+02  1.40e+03  6.60e+02    1.87e+02      0   Skip BFGS  \n"
     ]
    },
    {
     "name": "stderr",
     "output_type": "stream",
     "text": [
      "2022-10-19 19:18:24,156 [line 275] mtpy.core.mt_collection.MTCollection.get_tf - WARNING: Found multiple transfer functions with ID SR222. Suggest setting survey, otherwise returning the TF from survey Yellowstone-Snake_River_Plain.\n"
     ]
    },
    {
     "name": "stdout",
     "output_type": "stream",
     "text": [
      "   5  6.92e-02  3.20e+02  2.10e+03  4.65e+02    1.18e+02      0   Skip BFGS  \n",
      "------------------------- STOP! -------------------------\n",
      "1 : |fc-fOld| = 1.9527e+02 <= tolF*(1+|f0|) = 1.0038e+04\n",
      "1 : |xc-x_last| = 7.3675e-01 <= tolX*(1+|x0|) = 2.2104e+00\n",
      "0 : |proj(x-g)-x|    = 1.1786e+02 <= tolG          = 1.0000e-01\n",
      "0 : |proj(x-g)-x|    = 1.1786e+02 <= 1e3*eps       = 1.0000e-02\n",
      "1 : maxIter   =       5    <= iter          =      5\n",
      "------------------------- DONE! -------------------------\n",
      "\n",
      "        SimPEG.InvProblem is setting bfgsH0 to the inverse of the eval2Deriv.\n",
      "        ***Done using same Solver and solverOpts as the problem***\n",
      "model has any nan: 0\n",
      "============================ Inexact Gauss Newton ============================\n",
      "  #     beta     phi_d     phi_m       f      |proj(x-g)-x|  LS    Comment   \n",
      "-----------------------------------------------------------------------------\n",
      "x0 has any nan: 0\n",
      "   0  1.01e+02  5.77e+06  0.00e+00  5.77e+06    3.06e+06      0              \n",
      "   1  5.05e+01  7.43e+05  2.26e+00  7.43e+05    4.51e+05      0              \n",
      "   2  2.53e+01  9.17e+04  8.50e+00  9.20e+04    6.88e+04      0   Skip BFGS  \n",
      "   3  1.26e+01  1.14e+04  1.72e+01  1.16e+04    1.08e+04      0   Skip BFGS  \n",
      "   4  6.31e+00  2.91e+03  3.34e+01  3.12e+03    1.91e+03      0   Skip BFGS  \n"
     ]
    },
    {
     "name": "stderr",
     "output_type": "stream",
     "text": [
      "2022-10-19 19:18:25,566 [line 275] mtpy.core.mt_collection.MTCollection.get_tf - WARNING: Found multiple transfer functions with ID SR225. Suggest setting survey, otherwise returning the TF from survey Yellowstone-Snake_River_Plain.\n"
     ]
    },
    {
     "name": "stdout",
     "output_type": "stream",
     "text": [
      "   5  3.16e+00  2.23e+03  5.19e+01  2.39e+03    6.73e+02      0   Skip BFGS  \n",
      "------------------------- STOP! -------------------------\n",
      "1 : |fc-fOld| = 7.2681e+02 <= tolF*(1+|f0|) = 5.7738e+05\n",
      "1 : |xc-x_last| = 1.0936e+00 <= tolX*(1+|x0|) = 2.2104e+00\n",
      "0 : |proj(x-g)-x|    = 6.7310e+02 <= tolG          = 1.0000e-01\n",
      "0 : |proj(x-g)-x|    = 6.7310e+02 <= 1e3*eps       = 1.0000e-02\n",
      "1 : maxIter   =       5    <= iter          =      5\n",
      "------------------------- DONE! -------------------------\n",
      "\n",
      "        SimPEG.InvProblem is setting bfgsH0 to the inverse of the eval2Deriv.\n",
      "        ***Done using same Solver and solverOpts as the problem***\n",
      "model has any nan: 0\n",
      "============================ Inexact Gauss Newton ============================\n",
      "  #     beta     phi_d     phi_m       f      |proj(x-g)-x|  LS    Comment   \n",
      "-----------------------------------------------------------------------------\n",
      "x0 has any nan: 0\n",
      "   0  6.03e-01  1.74e+04  0.00e+00  1.74e+04    1.25e+04      0              \n",
      "   1  3.01e-01  3.29e+03  1.03e+01  3.29e+03    2.33e+03      0              \n",
      "   2  1.51e-01  4.80e+02  9.89e+02  6.29e+02    3.07e+02      0   Skip BFGS  \n",
      "   3  7.53e-02  1.55e+02  1.79e+03  2.90e+02    1.07e+02      0              \n",
      "   4  3.77e-02  8.49e+01  2.32e+03  1.72e+02    5.36e+01      0   Skip BFGS  \n"
     ]
    },
    {
     "name": "stderr",
     "output_type": "stream",
     "text": [
      "2022-10-19 19:18:27,043 [line 275] mtpy.core.mt_collection.MTCollection.get_tf - WARNING: Found multiple transfer functions with ID SR227. Suggest setting survey, otherwise returning the TF from survey Yellowstone-Snake_River_Plain.\n"
     ]
    },
    {
     "name": "stdout",
     "output_type": "stream",
     "text": [
      "   5  1.88e-02  5.41e+01  2.89e+03  1.08e+02    3.00e+01      0   Skip BFGS  \n",
      "------------------------- STOP! -------------------------\n",
      "1 : |fc-fOld| = 6.3862e+01 <= tolF*(1+|f0|) = 1.7414e+03\n",
      "1 : |xc-x_last| = 6.1462e-01 <= tolX*(1+|x0|) = 2.2104e+00\n",
      "0 : |proj(x-g)-x|    = 2.9984e+01 <= tolG          = 1.0000e-01\n",
      "0 : |proj(x-g)-x|    = 2.9984e+01 <= 1e3*eps       = 1.0000e-02\n",
      "1 : maxIter   =       5    <= iter          =      5\n",
      "------------------------- DONE! -------------------------\n",
      "\n",
      "        SimPEG.InvProblem is setting bfgsH0 to the inverse of the eval2Deriv.\n",
      "        ***Done using same Solver and solverOpts as the problem***\n",
      "model has any nan: 0\n",
      "============================ Inexact Gauss Newton ============================\n",
      "  #     beta     phi_d     phi_m       f      |proj(x-g)-x|  LS    Comment   \n",
      "-----------------------------------------------------------------------------\n",
      "x0 has any nan: 0\n",
      "   0  8.62e+01  4.15e+06  0.00e+00  4.15e+06    2.25e+06      0              \n",
      "   1  4.31e+01  5.32e+05  2.23e+00  5.32e+05    3.32e+05      0              \n",
      "   2  2.15e+01  6.53e+04  8.34e+00  6.55e+04    5.09e+04      0   Skip BFGS  \n",
      "   3  1.08e+01  8.57e+03  1.67e+01  8.75e+03    8.00e+03      0   Skip BFGS  \n",
      "   4  5.39e+00  2.76e+03  3.58e+01  2.95e+03    1.47e+03      0   Skip BFGS  \n"
     ]
    },
    {
     "name": "stderr",
     "output_type": "stream",
     "text": [
      "2022-10-19 19:18:28,464 [line 275] mtpy.core.mt_collection.MTCollection.get_tf - WARNING: Found multiple transfer functions with ID SR229. Suggest setting survey, otherwise returning the TF from survey Yellowstone-Snake_River_Plain.\n"
     ]
    },
    {
     "name": "stdout",
     "output_type": "stream",
     "text": [
      "   5  2.69e+00  2.30e+03  5.75e+01  2.45e+03    6.49e+02      0   Skip BFGS  \n",
      "------------------------- STOP! -------------------------\n",
      "1 : |fc-fOld| = 4.9769e+02 <= tolF*(1+|f0|) = 4.1503e+05\n",
      "1 : |xc-x_last| = 6.9664e-01 <= tolX*(1+|x0|) = 2.2104e+00\n",
      "0 : |proj(x-g)-x|    = 6.4935e+02 <= tolG          = 1.0000e-01\n",
      "0 : |proj(x-g)-x|    = 6.4935e+02 <= 1e3*eps       = 1.0000e-02\n",
      "1 : maxIter   =       5    <= iter          =      5\n",
      "------------------------- DONE! -------------------------\n",
      "\n",
      "        SimPEG.InvProblem is setting bfgsH0 to the inverse of the eval2Deriv.\n",
      "        ***Done using same Solver and solverOpts as the problem***\n",
      "model has any nan: 0\n",
      "============================ Inexact Gauss Newton ============================\n",
      "  #     beta     phi_d     phi_m       f      |proj(x-g)-x|  LS    Comment   \n",
      "-----------------------------------------------------------------------------\n",
      "x0 has any nan: 0\n",
      "   0  6.37e-01  1.75e+04  0.00e+00  1.75e+04    1.26e+04      0              \n",
      "   1  3.18e-01  3.06e+03  9.75e+00  3.07e+03    2.33e+03      0              \n",
      "   2  1.59e-01  3.60e+02  7.75e+02  4.83e+02    2.65e+02      0   Skip BFGS  \n",
      "   3  7.96e-02  1.43e+02  1.31e+03  2.47e+02    9.37e+01      0              \n",
      "   4  3.98e-02  8.45e+01  1.75e+03  1.54e+02    5.54e+01      0   Skip BFGS  \n"
     ]
    },
    {
     "name": "stderr",
     "output_type": "stream",
     "text": [
      "2022-10-19 19:18:30,062 [line 275] mtpy.core.mt_collection.MTCollection.get_tf - WARNING: Found multiple transfer functions with ID SR232. Suggest setting survey, otherwise returning the TF from survey Yellowstone-Snake_River_Plain.\n"
     ]
    },
    {
     "name": "stdout",
     "output_type": "stream",
     "text": [
      "   5  1.99e-02  5.06e+01  2.34e+03  9.72e+01    3.50e+01      0   Skip BFGS  \n",
      "------------------------- STOP! -------------------------\n",
      "1 : |fc-fOld| = 5.6924e+01 <= tolF*(1+|f0|) = 1.7534e+03\n",
      "1 : |xc-x_last| = 5.7684e-01 <= tolX*(1+|x0|) = 2.2104e+00\n",
      "0 : |proj(x-g)-x|    = 3.4961e+01 <= tolG          = 1.0000e-01\n",
      "0 : |proj(x-g)-x|    = 3.4961e+01 <= 1e3*eps       = 1.0000e-02\n",
      "1 : maxIter   =       5    <= iter          =      5\n",
      "------------------------- DONE! -------------------------\n",
      "\n",
      "        SimPEG.InvProblem is setting bfgsH0 to the inverse of the eval2Deriv.\n",
      "        ***Done using same Solver and solverOpts as the problem***\n",
      "model has any nan: 0\n",
      "============================ Inexact Gauss Newton ============================\n",
      "  #     beta     phi_d     phi_m       f      |proj(x-g)-x|  LS    Comment   \n",
      "-----------------------------------------------------------------------------\n",
      "x0 has any nan: 0\n",
      "   0  1.01e+01  3.51e+05  0.00e+00  3.51e+05    2.06e+05      0              \n",
      "   1  5.05e+00  4.16e+04  1.90e+00  4.16e+04    3.09e+04      0              \n",
      "   2  2.52e+00  5.27e+03  6.32e+00  5.28e+03    4.84e+03      0   Skip BFGS  \n",
      "   3  1.26e+00  1.29e+03  1.26e+02  1.45e+03    7.64e+02      0   Skip BFGS  \n",
      "   4  6.31e-01  8.60e+02  3.13e+02  1.06e+03    3.69e+02      0   Skip BFGS  \n"
     ]
    },
    {
     "name": "stderr",
     "output_type": "stream",
     "text": [
      "2022-10-19 19:18:31,478 [line 275] mtpy.core.mt_collection.MTCollection.get_tf - WARNING: Found multiple transfer functions with ID SR236. Suggest setting survey, otherwise returning the TF from survey Yellowstone-Snake_River_Plain.\n"
     ]
    },
    {
     "name": "stdout",
     "output_type": "stream",
     "text": [
      "   5  3.15e-01  6.26e+02  5.63e+02  8.03e+02    2.88e+02      0   Skip BFGS  \n",
      "------------------------- STOP! -------------------------\n",
      "1 : |fc-fOld| = 2.5464e+02 <= tolF*(1+|f0|) = 3.5122e+04\n",
      "1 : |xc-x_last| = 4.6144e-01 <= tolX*(1+|x0|) = 2.2104e+00\n",
      "0 : |proj(x-g)-x|    = 2.8848e+02 <= tolG          = 1.0000e-01\n",
      "0 : |proj(x-g)-x|    = 2.8848e+02 <= 1e3*eps       = 1.0000e-02\n",
      "1 : maxIter   =       5    <= iter          =      5\n",
      "------------------------- DONE! -------------------------\n",
      "\n",
      "        SimPEG.InvProblem is setting bfgsH0 to the inverse of the eval2Deriv.\n",
      "        ***Done using same Solver and solverOpts as the problem***\n",
      "model has any nan: 0\n",
      "============================ Inexact Gauss Newton ============================\n",
      "  #     beta     phi_d     phi_m       f      |proj(x-g)-x|  LS    Comment   \n",
      "-----------------------------------------------------------------------------\n",
      "x0 has any nan: 0\n",
      "   0  2.35e+00  7.03e+04  0.00e+00  7.03e+04    4.56e+04      0              \n",
      "   1  1.18e+00  8.43e+03  1.49e+00  8.43e+03    6.98e+03      0              \n",
      "   2  5.88e-01  1.35e+03  1.67e+02  1.45e+03    1.11e+03      0   Skip BFGS  \n",
      "   3  2.94e-01  4.97e+02  6.06e+02  6.75e+02    2.26e+02      0   Skip BFGS  \n",
      "   4  1.47e-01  3.45e+02  9.13e+02  4.80e+02    1.44e+02      0              \n"
     ]
    },
    {
     "name": "stderr",
     "output_type": "stream",
     "text": [
      "2022-10-19 19:18:32,993 [line 275] mtpy.core.mt_collection.MTCollection.get_tf - WARNING: Found multiple transfer functions with ID SR238. Suggest setting survey, otherwise returning the TF from survey Yellowstone-Snake_River_Plain.\n"
     ]
    },
    {
     "name": "stdout",
     "output_type": "stream",
     "text": [
      "   5  7.35e-02  2.53e+02  1.35e+03  3.53e+02    9.79e+01      0   Skip BFGS  \n",
      "------------------------- STOP! -------------------------\n",
      "1 : |fc-fOld| = 1.2692e+02 <= tolF*(1+|f0|) = 7.0303e+03\n",
      "1 : |xc-x_last| = 7.0415e-01 <= tolX*(1+|x0|) = 2.2104e+00\n",
      "0 : |proj(x-g)-x|    = 9.7927e+01 <= tolG          = 1.0000e-01\n",
      "0 : |proj(x-g)-x|    = 9.7927e+01 <= 1e3*eps       = 1.0000e-02\n",
      "1 : maxIter   =       5    <= iter          =      5\n",
      "------------------------- DONE! -------------------------\n",
      "\n",
      "        SimPEG.InvProblem is setting bfgsH0 to the inverse of the eval2Deriv.\n",
      "        ***Done using same Solver and solverOpts as the problem***\n",
      "model has any nan: 0\n",
      "============================ Inexact Gauss Newton ============================\n",
      "  #     beta     phi_d     phi_m       f      |proj(x-g)-x|  LS    Comment   \n",
      "-----------------------------------------------------------------------------\n",
      "x0 has any nan: 0\n",
      "   0  1.03e+00  2.54e+04  0.00e+00  2.54e+04    1.83e+04      0              \n",
      "   1  5.14e-01  3.61e+03  1.13e+00  3.61e+03    2.95e+03      0              \n",
      "   2  2.57e-01  7.19e+02  2.87e+02  7.93e+02    5.07e+02      0   Skip BFGS  \n",
      "   3  1.29e-01  2.60e+02  8.91e+02  3.74e+02    1.59e+02      0              \n",
      "   4  6.43e-02  1.67e+02  1.27e+03  2.49e+02    8.36e+01      0   Skip BFGS  \n"
     ]
    },
    {
     "name": "stderr",
     "output_type": "stream",
     "text": [
      "2022-10-19 19:18:34,525 [line 275] mtpy.core.mt_collection.MTCollection.get_tf - WARNING: Found multiple transfer functions with ID SR240. Suggest setting survey, otherwise returning the TF from survey Yellowstone-Snake_River_Plain.\n"
     ]
    },
    {
     "name": "stdout",
     "output_type": "stream",
     "text": [
      "   5  3.21e-02  1.11e+02  1.90e+03  1.71e+02    5.32e+01      0   Skip BFGS  \n",
      "------------------------- STOP! -------------------------\n",
      "1 : |fc-fOld| = 7.7627e+01 <= tolF*(1+|f0|) = 2.5409e+03\n",
      "1 : |xc-x_last| = 6.1818e-01 <= tolX*(1+|x0|) = 2.2104e+00\n",
      "0 : |proj(x-g)-x|    = 5.3199e+01 <= tolG          = 1.0000e-01\n",
      "0 : |proj(x-g)-x|    = 5.3199e+01 <= 1e3*eps       = 1.0000e-02\n",
      "1 : maxIter   =       5    <= iter          =      5\n",
      "------------------------- DONE! -------------------------\n",
      "\n",
      "        SimPEG.InvProblem is setting bfgsH0 to the inverse of the eval2Deriv.\n",
      "        ***Done using same Solver and solverOpts as the problem***\n",
      "model has any nan: 0\n",
      "============================ Inexact Gauss Newton ============================\n",
      "  #     beta     phi_d     phi_m       f      |proj(x-g)-x|  LS    Comment   \n",
      "-----------------------------------------------------------------------------\n",
      "x0 has any nan: 0\n",
      "   0  2.15e+01  1.13e+06  0.00e+00  1.13e+06    6.31e+05      0              \n",
      "   1  1.07e+01  1.39e+05  2.09e+00  1.39e+05    9.38e+04      0              \n",
      "   2  5.37e+00  1.61e+04  7.46e+00  1.61e+04    1.45e+04      0   Skip BFGS  \n",
      "   3  2.69e+00  2.63e+03  3.91e+01  2.73e+03    2.53e+03      0   Skip BFGS  \n",
      "   4  1.34e+00  1.17e+03  1.46e+02  1.37e+03    5.43e+02      0   Skip BFGS  \n"
     ]
    },
    {
     "name": "stderr",
     "output_type": "stream",
     "text": [
      "2022-10-19 19:18:35,964 [line 275] mtpy.core.mt_collection.MTCollection.get_tf - WARNING: Found multiple transfer functions with ID SR244. Suggest setting survey, otherwise returning the TF from survey Yellowstone-Snake_River_Plain.\n"
     ]
    },
    {
     "name": "stdout",
     "output_type": "stream",
     "text": [
      "   5  6.71e-01  9.12e+02  2.80e+02  1.10e+03    4.37e+02      0   Skip BFGS  \n",
      "------------------------- STOP! -------------------------\n",
      "1 : |fc-fOld| = 2.6918e+02 <= tolF*(1+|f0|) = 1.1251e+05\n",
      "1 : |xc-x_last| = 3.7994e-01 <= tolX*(1+|x0|) = 2.2104e+00\n",
      "0 : |proj(x-g)-x|    = 4.3736e+02 <= tolG          = 1.0000e-01\n",
      "0 : |proj(x-g)-x|    = 4.3736e+02 <= 1e3*eps       = 1.0000e-02\n",
      "1 : maxIter   =       5    <= iter          =      5\n",
      "------------------------- DONE! -------------------------\n",
      "\n",
      "        SimPEG.InvProblem is setting bfgsH0 to the inverse of the eval2Deriv.\n",
      "        ***Done using same Solver and solverOpts as the problem***\n",
      "model has any nan: 0\n",
      "============================ Inexact Gauss Newton ============================\n",
      "  #     beta     phi_d     phi_m       f      |proj(x-g)-x|  LS    Comment   \n",
      "-----------------------------------------------------------------------------\n",
      "x0 has any nan: 0\n",
      "   0  1.13e+01  5.83e+05  0.00e+00  5.83e+05    3.30e+05      0              \n",
      "   1  5.67e+00  7.01e+04  2.00e+00  7.01e+04    4.91e+04      0              \n",
      "   2  2.83e+00  8.17e+03  6.86e+00  8.18e+03    7.58e+03      0   Skip BFGS  \n",
      "   3  1.42e+00  1.40e+03  1.09e+02  1.55e+03    1.19e+03      0   Skip BFGS  \n",
      "   4  7.09e-01  7.34e+02  2.94e+02  9.42e+02    3.91e+02      0   Skip BFGS  \n"
     ]
    },
    {
     "name": "stderr",
     "output_type": "stream",
     "text": [
      "2022-10-19 19:18:37,399 [line 275] mtpy.core.mt_collection.MTCollection.get_tf - WARNING: Found multiple transfer functions with ID SR247. Suggest setting survey, otherwise returning the TF from survey Yellowstone-Snake_River_Plain.\n"
     ]
    },
    {
     "name": "stdout",
     "output_type": "stream",
     "text": [
      "   5  3.54e-01  5.03e+02  5.16e+02  6.85e+02    3.12e+02      0   Skip BFGS  \n",
      "------------------------- STOP! -------------------------\n",
      "1 : |fc-fOld| = 2.5651e+02 <= tolF*(1+|f0|) = 5.8289e+04\n",
      "1 : |xc-x_last| = 4.3083e-01 <= tolX*(1+|x0|) = 2.2104e+00\n",
      "0 : |proj(x-g)-x|    = 3.1239e+02 <= tolG          = 1.0000e-01\n",
      "0 : |proj(x-g)-x|    = 3.1239e+02 <= 1e3*eps       = 1.0000e-02\n",
      "1 : maxIter   =       5    <= iter          =      5\n",
      "------------------------- DONE! -------------------------\n",
      "\n",
      "        SimPEG.InvProblem is setting bfgsH0 to the inverse of the eval2Deriv.\n",
      "        ***Done using same Solver and solverOpts as the problem***\n",
      "model has any nan: 0\n",
      "============================ Inexact Gauss Newton ============================\n",
      "  #     beta     phi_d     phi_m       f      |proj(x-g)-x|  LS    Comment   \n",
      "-----------------------------------------------------------------------------\n",
      "x0 has any nan: 0\n",
      "   0  3.93e+00  1.23e+05  0.00e+00  1.23e+05    7.65e+04      0              \n",
      "   1  1.97e+00  1.40e+04  1.65e+00  1.40e+04    1.16e+04      0              \n",
      "   2  9.83e-01  2.29e+03  2.70e+01  2.31e+03    2.12e+03      0   Skip BFGS  \n",
      "   3  4.91e-01  5.99e+02  2.99e+02  7.46e+02    3.89e+02      0   Skip BFGS  \n",
      "   4  2.46e-01  3.41e+02  5.73e+02  4.82e+02    1.83e+02      0   Skip BFGS  \n"
     ]
    },
    {
     "name": "stderr",
     "output_type": "stream",
     "text": [
      "2022-10-19 19:18:38,836 [line 275] mtpy.core.mt_collection.MTCollection.get_tf - WARNING: Found multiple transfer functions with ID SR250. Suggest setting survey, otherwise returning the TF from survey Yellowstone-Snake_River_Plain.\n"
     ]
    },
    {
     "name": "stdout",
     "output_type": "stream",
     "text": [
      "   5  1.23e-01  2.42e+02  8.47e+02  3.46e+02    1.30e+02      0   Skip BFGS  \n",
      "------------------------- STOP! -------------------------\n",
      "1 : |fc-fOld| = 1.3574e+02 <= tolF*(1+|f0|) = 1.2335e+04\n",
      "1 : |xc-x_last| = 4.8660e-01 <= tolX*(1+|x0|) = 2.2104e+00\n",
      "0 : |proj(x-g)-x|    = 1.2960e+02 <= tolG          = 1.0000e-01\n",
      "0 : |proj(x-g)-x|    = 1.2960e+02 <= 1e3*eps       = 1.0000e-02\n",
      "1 : maxIter   =       5    <= iter          =      5\n",
      "------------------------- DONE! -------------------------\n",
      "\n",
      "        SimPEG.InvProblem is setting bfgsH0 to the inverse of the eval2Deriv.\n",
      "        ***Done using same Solver and solverOpts as the problem***\n",
      "model has any nan: 0\n",
      "============================ Inexact Gauss Newton ============================\n",
      "  #     beta     phi_d     phi_m       f      |proj(x-g)-x|  LS    Comment   \n",
      "-----------------------------------------------------------------------------\n",
      "x0 has any nan: 0\n",
      "   0  4.58e+00  2.15e+05  0.00e+00  2.15e+05    1.20e+05      0              \n",
      "   1  2.29e+00  4.91e+04  1.85e+00  4.92e+04    1.84e+04      0              \n",
      "   2  1.14e+00  2.57e+04  1.51e+02  2.59e+04    3.13e+03      0   Skip BFGS  \n",
      "   3  5.72e-01  2.00e+04  1.63e+03  2.09e+04    1.30e+03      0   Skip BFGS  \n",
      "   4  2.86e-01  1.91e+04  3.09e+03  2.00e+04    9.55e+02      0              \n"
     ]
    },
    {
     "name": "stderr",
     "output_type": "stream",
     "text": [
      "2022-10-19 19:18:40,192 [line 275] mtpy.core.mt_collection.MTCollection.get_tf - WARNING: Found multiple transfer functions with ID SR252. Suggest setting survey, otherwise returning the TF from survey Yellowstone-Snake_River_Plain.\n"
     ]
    },
    {
     "name": "stdout",
     "output_type": "stream",
     "text": [
      "   5  1.43e-01  1.82e+04  5.01e+03  1.89e+04    7.83e+02      0              \n",
      "------------------------- STOP! -------------------------\n",
      "1 : |fc-fOld| = 1.0746e+03 <= tolF*(1+|f0|) = 2.1452e+04\n",
      "0 : |xc-x_last| = 1.0560e+01 <= tolX*(1+|x0|) = 2.2104e+00\n",
      "0 : |proj(x-g)-x|    = 7.8325e+02 <= tolG          = 1.0000e-01\n",
      "0 : |proj(x-g)-x|    = 7.8325e+02 <= 1e3*eps       = 1.0000e-02\n",
      "1 : maxIter   =       5    <= iter          =      5\n",
      "------------------------- DONE! -------------------------\n",
      "\n",
      "        SimPEG.InvProblem is setting bfgsH0 to the inverse of the eval2Deriv.\n",
      "        ***Done using same Solver and solverOpts as the problem***\n",
      "model has any nan: 0\n",
      "============================ Inexact Gauss Newton ============================\n",
      "  #     beta     phi_d     phi_m       f      |proj(x-g)-x|  LS    Comment   \n",
      "-----------------------------------------------------------------------------\n",
      "x0 has any nan: 0\n",
      "   0  8.38e-01  2.31e+04  0.00e+00  2.31e+04    1.48e+04      0              \n",
      "   1  4.19e-01  8.77e+03  9.86e-01  8.77e+03    2.48e+03      0              \n",
      "   2  2.10e-01  4.99e+03  9.28e+02  5.19e+03    2.84e+02      0   Skip BFGS  \n",
      "   3  1.05e-01  4.82e+03  1.27e+03  4.96e+03    1.23e+02      0   Skip BFGS  \n",
      "   4  5.24e-02  4.72e+03  2.28e+03  4.84e+03    9.06e+01      0              \n"
     ]
    },
    {
     "name": "stderr",
     "output_type": "stream",
     "text": [
      "2022-10-19 19:18:41,679 [line 275] mtpy.core.mt_collection.MTCollection.get_tf - WARNING: Found multiple transfer functions with ID SR255. Suggest setting survey, otherwise returning the TF from survey Yellowstone-Snake_River_Plain.\n"
     ]
    },
    {
     "name": "stdout",
     "output_type": "stream",
     "text": [
      "   5  2.62e-02  4.71e+03  2.18e+03  4.76e+03    9.14e+01      1              \n",
      "------------------------- STOP! -------------------------\n",
      "1 : |fc-fOld| = 7.0064e+01 <= tolF*(1+|f0|) = 2.3147e+03\n",
      "0 : |xc-x_last| = 4.2522e+00 <= tolX*(1+|x0|) = 2.2104e+00\n",
      "0 : |proj(x-g)-x|    = 9.1351e+01 <= tolG          = 1.0000e-01\n",
      "0 : |proj(x-g)-x|    = 9.1351e+01 <= 1e3*eps       = 1.0000e-02\n",
      "1 : maxIter   =       5    <= iter          =      5\n",
      "------------------------- DONE! -------------------------\n",
      "\n",
      "        SimPEG.InvProblem is setting bfgsH0 to the inverse of the eval2Deriv.\n",
      "        ***Done using same Solver and solverOpts as the problem***\n",
      "model has any nan: 0\n",
      "============================ Inexact Gauss Newton ============================\n",
      "  #     beta     phi_d     phi_m       f      |proj(x-g)-x|  LS    Comment   \n",
      "-----------------------------------------------------------------------------\n",
      "x0 has any nan: 0\n",
      "   0  2.02e+00  7.96e+04  0.00e+00  7.96e+04    5.08e+04      0              \n",
      "   1  1.01e+00  1.07e+04  1.52e+00  1.07e+04    7.81e+03      0              \n",
      "   2  5.06e-01  3.13e+03  9.04e+01  3.18e+03    1.54e+03      0   Skip BFGS  \n",
      "   3  2.53e-01  1.32e+03  9.21e+02  1.55e+03    2.33e+02      0   Skip BFGS  \n",
      "   4  1.26e-01  1.27e+03  9.23e+02  1.39e+03    1.31e+02      0              \n"
     ]
    },
    {
     "name": "stderr",
     "output_type": "stream",
     "text": [
      "2022-10-19 19:18:43,118 [line 275] mtpy.core.mt_collection.MTCollection.get_tf - WARNING: Found multiple transfer functions with ID SR258. Suggest setting survey, otherwise returning the TF from survey Yellowstone-Snake_River_Plain.\n"
     ]
    },
    {
     "name": "stdout",
     "output_type": "stream",
     "text": [
      "   5  6.32e-02  1.09e+03  2.06e+03  1.22e+03    1.04e+02      0              \n",
      "------------------------- STOP! -------------------------\n",
      "1 : |fc-fOld| = 1.6369e+02 <= tolF*(1+|f0|) = 7.9586e+03\n",
      "0 : |xc-x_last| = 6.8431e+00 <= tolX*(1+|x0|) = 2.2104e+00\n",
      "0 : |proj(x-g)-x|    = 1.0380e+02 <= tolG          = 1.0000e-01\n",
      "0 : |proj(x-g)-x|    = 1.0380e+02 <= 1e3*eps       = 1.0000e-02\n",
      "1 : maxIter   =       5    <= iter          =      5\n",
      "------------------------- DONE! -------------------------\n",
      "\n",
      "        SimPEG.InvProblem is setting bfgsH0 to the inverse of the eval2Deriv.\n",
      "        ***Done using same Solver and solverOpts as the problem***\n",
      "model has any nan: 0\n",
      "============================ Inexact Gauss Newton ============================\n",
      "  #     beta     phi_d     phi_m       f      |proj(x-g)-x|  LS    Comment   \n",
      "-----------------------------------------------------------------------------\n",
      "x0 has any nan: 0\n",
      "   0  3.62e+00  1.57e+05  0.00e+00  1.57e+05    9.38e+04      0              \n",
      "   1  1.81e+00  1.83e+04  1.74e+00  1.83e+04    1.41e+04      0              \n",
      "   2  9.04e-01  3.10e+03  2.28e+01  3.12e+03    2.59e+03      0   Skip BFGS  \n",
      "   3  4.52e-01  7.24e+02  3.76e+02  8.94e+02    4.86e+02      0   Skip BFGS  \n",
      "   4  2.26e-01  3.35e+02  8.04e+02  5.16e+02    2.04e+02      0   Skip BFGS  \n"
     ]
    },
    {
     "name": "stderr",
     "output_type": "stream",
     "text": [
      "2022-10-19 19:18:44,624 [line 275] mtpy.core.mt_collection.MTCollection.get_tf - WARNING: Found multiple transfer functions with ID SR264. Suggest setting survey, otherwise returning the TF from survey Yellowstone-Snake_River_Plain.\n"
     ]
    },
    {
     "name": "stdout",
     "output_type": "stream",
     "text": [
      "   5  1.13e-01  2.17e+02  1.14e+03  3.45e+02    1.34e+02      0   Skip BFGS  \n",
      "------------------------- STOP! -------------------------\n",
      "1 : |fc-fOld| = 1.7106e+02 <= tolF*(1+|f0|) = 1.5660e+04\n",
      "1 : |xc-x_last| = 5.5699e-01 <= tolX*(1+|x0|) = 2.2104e+00\n",
      "0 : |proj(x-g)-x|    = 1.3428e+02 <= tolG          = 1.0000e-01\n",
      "0 : |proj(x-g)-x|    = 1.3428e+02 <= 1e3*eps       = 1.0000e-02\n",
      "1 : maxIter   =       5    <= iter          =      5\n",
      "------------------------- DONE! -------------------------\n",
      "\n",
      "        SimPEG.InvProblem is setting bfgsH0 to the inverse of the eval2Deriv.\n",
      "        ***Done using same Solver and solverOpts as the problem***\n",
      "model has any nan: 0\n",
      "============================ Inexact Gauss Newton ============================\n",
      "  #     beta     phi_d     phi_m       f      |proj(x-g)-x|  LS    Comment   \n",
      "-----------------------------------------------------------------------------\n",
      "x0 has any nan: 0\n",
      "   0  2.57e-02  3.11e+03  0.00e+00  3.11e+03    7.58e+02      0              \n",
      "   1  1.28e-02  6.55e+02  1.26e+03  6.71e+02    4.63e+02      0              \n",
      "   2  6.42e-03  1.08e+02  1.34e+03  1.16e+02    3.10e+02      0              \n"
     ]
    },
    {
     "name": "stderr",
     "output_type": "stream",
     "text": [
      "2022-10-19 19:18:45,805 [line 275] mtpy.core.mt_collection.MTCollection.get_tf - WARNING: Found multiple transfer functions with ID SR265. Suggest setting survey, otherwise returning the TF from survey Yellowstone-Snake_River_Plain.\n"
     ]
    },
    {
     "name": "stdout",
     "output_type": "stream",
     "text": [
      "   3  3.21e-03  2.87e+01  1.08e+03  3.22e+01    4.33e+01      0   Skip BFGS  \n",
      "------------------------- STOP! -------------------------\n",
      "1 : |fc-fOld| = 0.0000e+00 <= tolF*(1+|f0|) = 3.1100e+02\n",
      "1 : |xc-x_last| = 1.1949e+00 <= tolX*(1+|x0|) = 2.2104e+00\n",
      "0 : |proj(x-g)-x|    = 4.3310e+01 <= tolG          = 1.0000e-01\n",
      "0 : |proj(x-g)-x|    = 4.3310e+01 <= 1e3*eps       = 1.0000e-02\n",
      "0 : maxIter   =       5    <= iter          =      4\n",
      "------------------------- DONE! -------------------------\n",
      "\n",
      "        SimPEG.InvProblem is setting bfgsH0 to the inverse of the eval2Deriv.\n",
      "        ***Done using same Solver and solverOpts as the problem***\n",
      "model has any nan: 0\n",
      "============================ Inexact Gauss Newton ============================\n",
      "  #     beta     phi_d     phi_m       f      |proj(x-g)-x|  LS    Comment   \n",
      "-----------------------------------------------------------------------------\n",
      "x0 has any nan: 0\n",
      "   0  2.50e+00  7.90e+04  0.00e+00  7.90e+04    4.90e+04      0              \n",
      "   1  1.25e+00  1.03e+04  1.56e+00  1.03e+04    7.49e+03      0              \n",
      "   2  6.24e-01  1.81e+03  2.30e+02  1.96e+03    1.23e+03      0   Skip BFGS  \n",
      "   3  3.12e-01  5.18e+02  9.71e+02  8.21e+02    2.96e+02      0   Skip BFGS  \n",
      "   4  1.56e-01  2.41e+02  1.49e+03  4.73e+02    1.70e+02      0   Skip BFGS  \n"
     ]
    },
    {
     "name": "stderr",
     "output_type": "stream",
     "text": [
      "2022-10-19 19:18:47,204 [line 275] mtpy.core.mt_collection.MTCollection.get_tf - WARNING: Found multiple transfer functions with ID SR270. Suggest setting survey, otherwise returning the TF from survey Yellowstone-Snake_River_Plain.\n"
     ]
    },
    {
     "name": "stdout",
     "output_type": "stream",
     "text": [
      "   5  7.80e-02  1.37e+02  1.93e+03  2.87e+02    9.64e+01      0   Skip BFGS  \n",
      "------------------------- STOP! -------------------------\n",
      "1 : |fc-fOld| = 1.8629e+02 <= tolF*(1+|f0|) = 7.9028e+03\n",
      "1 : |xc-x_last| = 6.6431e-01 <= tolX*(1+|x0|) = 2.2104e+00\n",
      "0 : |proj(x-g)-x|    = 9.6414e+01 <= tolG          = 1.0000e-01\n",
      "0 : |proj(x-g)-x|    = 9.6414e+01 <= 1e3*eps       = 1.0000e-02\n",
      "1 : maxIter   =       5    <= iter          =      5\n",
      "------------------------- DONE! -------------------------\n",
      "\n",
      "        SimPEG.InvProblem is setting bfgsH0 to the inverse of the eval2Deriv.\n",
      "        ***Done using same Solver and solverOpts as the problem***\n",
      "model has any nan: 0\n",
      "============================ Inexact Gauss Newton ============================\n",
      "  #     beta     phi_d     phi_m       f      |proj(x-g)-x|  LS    Comment   \n",
      "-----------------------------------------------------------------------------\n",
      "x0 has any nan: 0\n",
      "   0  3.28e+00  1.46e+05  0.00e+00  1.46e+05    8.78e+04      0              \n",
      "   1  1.64e+00  1.84e+04  1.74e+00  1.84e+04    1.32e+04      0              \n",
      "   2  8.21e-01  3.54e+03  1.42e+02  3.65e+03    2.22e+03      0   Skip BFGS  \n",
      "   3  4.10e-01  1.35e+03  8.10e+02  1.68e+03    4.71e+02      0   Skip BFGS  \n",
      "   4  2.05e-01  7.05e+02  1.65e+03  1.04e+03    2.64e+02      0   Skip BFGS  \n"
     ]
    },
    {
     "name": "stderr",
     "output_type": "stream",
     "text": [
      "2022-10-19 19:18:48,630 [line 275] mtpy.core.mt_collection.MTCollection.get_tf - WARNING: Found multiple transfer functions with ID SR271. Suggest setting survey, otherwise returning the TF from survey Yellowstone-Snake_River_Plain.\n"
     ]
    },
    {
     "name": "stdout",
     "output_type": "stream",
     "text": [
      "   5  1.03e-01  4.15e+02  2.55e+03  6.77e+02    1.63e+02      0   Skip BFGS  \n",
      "------------------------- STOP! -------------------------\n",
      "1 : |fc-fOld| = 3.6761e+02 <= tolF*(1+|f0|) = 1.4646e+04\n",
      "1 : |xc-x_last| = 1.1465e+00 <= tolX*(1+|x0|) = 2.2104e+00\n",
      "0 : |proj(x-g)-x|    = 1.6253e+02 <= tolG          = 1.0000e-01\n",
      "0 : |proj(x-g)-x|    = 1.6253e+02 <= 1e3*eps       = 1.0000e-02\n",
      "1 : maxIter   =       5    <= iter          =      5\n",
      "------------------------- DONE! -------------------------\n",
      "\n",
      "        SimPEG.InvProblem is setting bfgsH0 to the inverse of the eval2Deriv.\n",
      "        ***Done using same Solver and solverOpts as the problem***\n",
      "model has any nan: 0\n",
      "============================ Inexact Gauss Newton ============================\n",
      "  #     beta     phi_d     phi_m       f      |proj(x-g)-x|  LS    Comment   \n",
      "-----------------------------------------------------------------------------\n",
      "x0 has any nan: 0\n",
      "   0  8.73e+04  3.64e+09  0.00e+00  3.64e+09    1.91e+09      0              \n",
      "   1  4.36e+04  4.85e+08  2.38e+00  4.85e+08    2.77e+08      0              \n",
      "   2  2.18e+04  6.51e+07  9.38e+00  6.53e+07    4.15e+07      0   Skip BFGS  \n",
      "   3  1.09e+04  8.74e+06  2.08e+01  8.97e+06    6.45e+06      0   Skip BFGS  \n",
      "   4  5.46e+03  1.18e+06  3.64e+01  1.38e+06    1.04e+06      0   Skip BFGS  \n"
     ]
    },
    {
     "name": "stderr",
     "output_type": "stream",
     "text": [
      "2022-10-19 19:18:49,935 [line 275] mtpy.core.mt_collection.MTCollection.get_tf - WARNING: Found multiple transfer functions with ID SR274. Suggest setting survey, otherwise returning the TF from survey Yellowstone-Snake_River_Plain.\n"
     ]
    },
    {
     "name": "stdout",
     "output_type": "stream",
     "text": [
      "   5  2.73e+03  1.67e+05  5.46e+01  3.16e+05    1.76e+05      0   Skip BFGS  \n",
      "------------------------- STOP! -------------------------\n",
      "1 : |fc-fOld| = 1.0598e+06 <= tolF*(1+|f0|) = 3.6404e+08\n",
      "0 : |xc-x_last| = 3.9100e+00 <= tolX*(1+|x0|) = 2.2104e+00\n",
      "0 : |proj(x-g)-x|    = 1.7570e+05 <= tolG          = 1.0000e-01\n",
      "0 : |proj(x-g)-x|    = 1.7570e+05 <= 1e3*eps       = 1.0000e-02\n",
      "1 : maxIter   =       5    <= iter          =      5\n",
      "------------------------- DONE! -------------------------\n",
      "\n",
      "        SimPEG.InvProblem is setting bfgsH0 to the inverse of the eval2Deriv.\n",
      "        ***Done using same Solver and solverOpts as the problem***\n",
      "model has any nan: 0\n",
      "============================ Inexact Gauss Newton ============================\n",
      "  #     beta     phi_d     phi_m       f      |proj(x-g)-x|  LS    Comment   \n",
      "-----------------------------------------------------------------------------\n",
      "x0 has any nan: 0\n",
      "   0  4.01e+01  1.92e+06  0.00e+00  1.92e+06    1.13e+06      0              \n",
      "   1  2.00e+01  2.45e+05  2.15e+00  2.45e+05    1.69e+05      0              \n",
      "   2  1.00e+01  3.22e+04  7.90e+00  3.23e+04    2.64e+04      0   Skip BFGS  \n",
      "   3  5.01e+00  7.44e+03  1.52e+01  7.52e+03    4.48e+03      0   Skip BFGS  \n",
      "   4  2.50e+00  4.54e+03  1.05e+02  4.80e+03    8.66e+02      0   Skip BFGS  \n"
     ]
    },
    {
     "name": "stderr",
     "output_type": "stream",
     "text": [
      "2022-10-19 19:18:51,249 [line 275] mtpy.core.mt_collection.MTCollection.get_tf - WARNING: Found multiple transfer functions with ID SR278. Suggest setting survey, otherwise returning the TF from survey Yellowstone-Snake_River_Plain.\n"
     ]
    },
    {
     "name": "stdout",
     "output_type": "stream",
     "text": [
      "   5  1.25e+00  3.96e+03  2.56e+02  4.28e+03    6.37e+02      0   Skip BFGS  \n",
      "------------------------- STOP! -------------------------\n",
      "1 : |fc-fOld| = 5.2524e+02 <= tolF*(1+|f0|) = 1.9165e+05\n",
      "0 : |xc-x_last| = 2.3964e+00 <= tolX*(1+|x0|) = 2.2104e+00\n",
      "0 : |proj(x-g)-x|    = 6.3743e+02 <= tolG          = 1.0000e-01\n",
      "0 : |proj(x-g)-x|    = 6.3743e+02 <= 1e3*eps       = 1.0000e-02\n",
      "1 : maxIter   =       5    <= iter          =      5\n",
      "------------------------- DONE! -------------------------\n",
      "\n",
      "        SimPEG.InvProblem is setting bfgsH0 to the inverse of the eval2Deriv.\n",
      "        ***Done using same Solver and solverOpts as the problem***\n",
      "model has any nan: 0\n",
      "============================ Inexact Gauss Newton ============================\n",
      "  #     beta     phi_d     phi_m       f      |proj(x-g)-x|  LS    Comment   \n",
      "-----------------------------------------------------------------------------\n",
      "x0 has any nan: 0\n",
      "   0  3.91e-01  9.15e+03  0.00e+00  9.15e+03    6.95e+03      0              \n",
      "   1  1.96e-01  1.34e+03  8.79e+01  1.36e+03    1.15e+03      0              \n",
      "   2  9.78e-02  3.85e+02  6.85e+02  4.52e+02    1.06e+02      0   Skip BFGS  \n",
      "   3  4.89e-02  2.80e+02  1.20e+03  3.39e+02    5.04e+01      0              \n",
      "   4  2.45e-02  2.56e+02  1.56e+03  2.94e+02    2.84e+01      0   Skip BFGS  \n"
     ]
    },
    {
     "name": "stderr",
     "output_type": "stream",
     "text": [
      "2022-10-19 19:18:52,722 [line 275] mtpy.core.mt_collection.MTCollection.get_tf - WARNING: Found multiple transfer functions with ID SR280. Suggest setting survey, otherwise returning the TF from survey Yellowstone-Snake_River_Plain.\n"
     ]
    },
    {
     "name": "stdout",
     "output_type": "stream",
     "text": [
      "   5  1.22e-02  2.37e+02  2.20e+03  2.64e+02    1.84e+01      0   Skip BFGS  \n",
      "------------------------- STOP! -------------------------\n",
      "1 : |fc-fOld| = 3.0602e+01 <= tolF*(1+|f0|) = 9.1542e+02\n",
      "1 : |xc-x_last| = 1.8013e+00 <= tolX*(1+|x0|) = 2.2104e+00\n",
      "0 : |proj(x-g)-x|    = 1.8413e+01 <= tolG          = 1.0000e-01\n",
      "0 : |proj(x-g)-x|    = 1.8413e+01 <= 1e3*eps       = 1.0000e-02\n",
      "1 : maxIter   =       5    <= iter          =      5\n",
      "------------------------- DONE! -------------------------\n",
      "\n",
      "        SimPEG.InvProblem is setting bfgsH0 to the inverse of the eval2Deriv.\n",
      "        ***Done using same Solver and solverOpts as the problem***\n",
      "model has any nan: 0\n",
      "============================ Inexact Gauss Newton ============================\n",
      "  #     beta     phi_d     phi_m       f      |proj(x-g)-x|  LS    Comment   \n",
      "-----------------------------------------------------------------------------\n",
      "x0 has any nan: 0\n",
      "   0  2.74e+00  1.25e+05  0.00e+00  1.25e+05    7.35e+04      0              \n",
      "   1  1.37e+00  1.38e+04  1.64e+00  1.38e+04    1.09e+04      0              \n",
      "   2  6.86e-01  1.93e+03  1.09e+01  1.94e+03    1.87e+03      0   Skip BFGS  \n",
      "   3  3.43e-01  4.03e+02  2.76e+02  4.97e+02    2.54e+02      0   Skip BFGS  \n",
      "   4  1.71e-01  2.40e+02  5.51e+02  3.34e+02    1.50e+02      0   Skip BFGS  \n"
     ]
    },
    {
     "name": "stderr",
     "output_type": "stream",
     "text": [
      "2022-10-19 19:18:54,162 [line 275] mtpy.core.mt_collection.MTCollection.get_tf - WARNING: Found multiple transfer functions with ID SR282. Suggest setting survey, otherwise returning the TF from survey Yellowstone-Snake_River_Plain.\n"
     ]
    },
    {
     "name": "stdout",
     "output_type": "stream",
     "text": [
      "   5  8.57e-02  1.65e+02  8.57e+02  2.39e+02    8.54e+01      0   Skip BFGS  \n",
      "------------------------- STOP! -------------------------\n",
      "1 : |fc-fOld| = 9.5625e+01 <= tolF*(1+|f0|) = 1.2524e+04\n",
      "1 : |xc-x_last| = 1.4262e+00 <= tolX*(1+|x0|) = 2.2104e+00\n",
      "0 : |proj(x-g)-x|    = 8.5422e+01 <= tolG          = 1.0000e-01\n",
      "0 : |proj(x-g)-x|    = 8.5422e+01 <= 1e3*eps       = 1.0000e-02\n",
      "1 : maxIter   =       5    <= iter          =      5\n",
      "------------------------- DONE! -------------------------\n",
      "\n",
      "        SimPEG.InvProblem is setting bfgsH0 to the inverse of the eval2Deriv.\n",
      "        ***Done using same Solver and solverOpts as the problem***\n",
      "model has any nan: 0\n",
      "============================ Inexact Gauss Newton ============================\n",
      "  #     beta     phi_d     phi_m       f      |proj(x-g)-x|  LS    Comment   \n",
      "-----------------------------------------------------------------------------\n",
      "x0 has any nan: 0\n",
      "   0  3.72e-01  1.09e+04  0.00e+00  1.09e+04    6.50e+03      0              \n",
      "   1  1.86e-01  2.90e+03  7.37e+00  2.90e+03    1.06e+03      0              \n",
      "   2  9.30e-02  1.54e+03  1.64e+03  1.69e+03    1.41e+02      0              \n",
      "   3  4.65e-02  1.54e+03  9.47e+02  1.58e+03    5.01e+01      1              \n",
      "   4  2.33e-02  1.49e+03  1.89e+03  1.54e+03    7.98e+01      1              \n"
     ]
    },
    {
     "name": "stderr",
     "output_type": "stream",
     "text": [
      "2022-10-19 19:18:55,919 [line 275] mtpy.core.mt_collection.MTCollection.get_tf - WARNING: Found multiple transfer functions with ID SR286. Suggest setting survey, otherwise returning the TF from survey Yellowstone-Snake_River_Plain.\n"
     ]
    },
    {
     "name": "stdout",
     "output_type": "stream",
     "text": [
      "   5  1.16e-02  1.49e+03  1.60e+03  1.51e+03    4.69e+01      1              \n",
      "------------------------- STOP! -------------------------\n",
      "1 : |fc-fOld| = 2.8283e+01 <= tolF*(1+|f0|) = 1.0855e+03\n",
      "1 : |xc-x_last| = 1.6999e+00 <= tolX*(1+|x0|) = 2.2104e+00\n",
      "0 : |proj(x-g)-x|    = 4.6871e+01 <= tolG          = 1.0000e-01\n",
      "0 : |proj(x-g)-x|    = 4.6871e+01 <= 1e3*eps       = 1.0000e-02\n",
      "1 : maxIter   =       5    <= iter          =      5\n",
      "------------------------- DONE! -------------------------\n",
      "\n",
      "        SimPEG.InvProblem is setting bfgsH0 to the inverse of the eval2Deriv.\n",
      "        ***Done using same Solver and solverOpts as the problem***\n",
      "model has any nan: 0\n",
      "============================ Inexact Gauss Newton ============================\n",
      "  #     beta     phi_d     phi_m       f      |proj(x-g)-x|  LS    Comment   \n",
      "-----------------------------------------------------------------------------\n",
      "x0 has any nan: 0\n",
      "   0  2.15e+01  8.96e+05  0.00e+00  8.96e+05    5.25e+05      0              \n",
      "   1  1.08e+01  1.08e+05  2.03e+00  1.08e+05    8.14e+04      0              \n",
      "   2  5.38e+00  1.10e+04  7.10e+00  1.10e+04    1.27e+04      0   Skip BFGS  \n",
      "   3  2.69e+00  1.01e+03  1.25e+01  1.04e+03    1.71e+03      0   Skip BFGS  \n",
      "   4  1.34e+00  3.18e+02  2.30e+01  3.49e+02    2.22e+02      0   Skip BFGS  \n"
     ]
    },
    {
     "name": "stderr",
     "output_type": "stream",
     "text": [
      "2022-10-19 19:18:57,286 [line 275] mtpy.core.mt_collection.MTCollection.get_tf - WARNING: Found multiple transfer functions with ID SR290. Suggest setting survey, otherwise returning the TF from survey Yellowstone-Snake_River_Plain.\n"
     ]
    },
    {
     "name": "stdout",
     "output_type": "stream",
     "text": [
      "   5  6.72e-01  2.78e+02  3.66e+01  3.02e+02    5.20e+01      0   Skip BFGS  \n",
      "------------------------- STOP! -------------------------\n",
      "1 : |fc-fOld| = 4.6313e+01 <= tolF*(1+|f0|) = 8.9579e+04\n",
      "1 : |xc-x_last| = 4.4258e-01 <= tolX*(1+|x0|) = 2.2104e+00\n",
      "0 : |proj(x-g)-x|    = 5.2036e+01 <= tolG          = 1.0000e-01\n",
      "0 : |proj(x-g)-x|    = 5.2036e+01 <= 1e3*eps       = 1.0000e-02\n",
      "1 : maxIter   =       5    <= iter          =      5\n",
      "------------------------- DONE! -------------------------\n",
      "\n",
      "        SimPEG.InvProblem is setting bfgsH0 to the inverse of the eval2Deriv.\n",
      "        ***Done using same Solver and solverOpts as the problem***\n",
      "model has any nan: 0\n",
      "============================ Inexact Gauss Newton ============================\n",
      "  #     beta     phi_d     phi_m       f      |proj(x-g)-x|  LS    Comment   \n",
      "-----------------------------------------------------------------------------\n",
      "x0 has any nan: 0\n",
      "   0  3.98e-02  1.80e+03  0.00e+00  1.80e+03    8.34e+02      0              \n",
      "   1  1.99e-02  1.53e+03  1.40e+02  1.53e+03    2.30e+03      0              \n",
      "   2  9.94e-03  1.85e+02  1.38e+02  1.87e+02    3.23e+02      0              \n",
      "   3  4.97e-03  5.14e+01  5.90e+02  5.43e+01    1.21e+02      0   Skip BFGS  \n",
      "   4  2.48e-03  1.70e+01  8.30e+02  1.91e+01    1.39e+01      0              \n",
      "   5  1.24e-03  1.51e+01  1.12e+03  1.65e+01    2.71e+01      0   Skip BFGS  \n",
      "------------------------- STOP! -------------------------\n",
      "1 : |fc-fOld| = 2.5893e+00 <= tolF*(1+|f0|) = 1.7992e+02\n",
      "1 : |xc-x_last| = 9.3159e-01 <= tolX*(1+|x0|) = 2.2104e+00\n",
      "0 : |proj(x-g)-x|    = 2.7129e+01 <= tolG          = 1.0000e-01\n",
      "0 : |proj(x-g)-x|    = 2.7129e+01 <= 1e3*eps       = 1.0000e-02\n",
      "1 : maxIter   =       5    <= iter          =      5\n",
      "------------------------- DONE! -------------------------\n"
     ]
    }
   ],
   "source": [
    "resistivity_models = []\n",
    "phid_s = []\n",
    "# Relative error for apparent resistivity\n",
    "relative_error_rho = 0.05\n",
    "# Floor for phase\n",
    "floor_phase = 2.\n",
    "rho_0  = 100.\n",
    "\n",
    "rho_ref = 100.\n",
    "for i_station in range(len(station_ids)):\n",
    "    tf = mc.get_tf(station_ids[i_station])\n",
    "    dobs = np.c_[tf.Z.res_det, tf.Z.phase_det].flatten()\n",
    "    dobs_error = np.c_[tf.Z.res_err_det, tf.Z.phase_err_det].flatten()    \n",
    "\n",
    "    frequencies = tf.frequency\n",
    "    rho_app = dobs.reshape((len(frequencies), 2))[:,0]\n",
    "    phase = dobs.reshape((len(frequencies), 2))[:,1]\n",
    "    standard_deviation = np.c_[abs(rho_app)*relative_error_rho, np.ones(len(phase))*floor_phase].flatten() \n",
    "    recovered_model, phi_d = run_fixed_layer_inversion(\n",
    "        dobs,\n",
    "        standard_deviation,\n",
    "        rho_0,\n",
    "        rho_ref,\n",
    "        maxIter=5,\n",
    "        maxIterCG=30,\n",
    "        alpha_s=1e-5,\n",
    "        alpha_z=1,\n",
    "        beta0_ratio=1,\n",
    "        coolingFactor=2,\n",
    "        coolingRate=1,\n",
    "        chi_factor=1\n",
    "    )\n",
    "    phid_s.append(phi_d)\n",
    "    resistivity_models.append(1./np.exp(recovered_model))"
   ]
  },
  {
   "cell_type": "markdown",
   "id": "746f7371",
   "metadata": {},
   "source": [
    "## Step 5: Plot recovered 1D resistivity models"
   ]
  },
  {
   "cell_type": "code",
   "execution_count": 10,
   "id": "9a66d812",
   "metadata": {},
   "outputs": [],
   "source": [
    "RHO = np.vstack(resistivity_models)"
   ]
  },
  {
   "cell_type": "code",
   "execution_count": 11,
   "id": "1ab0d297",
   "metadata": {},
   "outputs": [],
   "source": [
    "top = np.cumsum(np.r_[0, layer_thicknesses_inv[::-1]])\n",
    "bottom = np.cumsum(np.r_[layer_thicknesses_inv[::-1], layer_thicknesses_inv[0]])\n",
    "depth = np.r_[top[0], bottom]"
   ]
  },
  {
   "cell_type": "code",
   "execution_count": 12,
   "id": "f1aaa287",
   "metadata": {},
   "outputs": [],
   "source": [
    "import matplotlib\n",
    "matplotlib.rcParams['font.size'] = 12"
   ]
  },
  {
   "cell_type": "code",
   "execution_count": 13,
   "id": "8cb40247",
   "metadata": {},
   "outputs": [],
   "source": [
    "dx = 0.02"
   ]
  },
  {
   "cell_type": "code",
   "execution_count": 14,
   "id": "54b3981c",
   "metadata": {},
   "outputs": [
    {
     "data": {
      "image/png": "[encoded data removed]",
      "text/plain": [
       "<Figure size 1000x600 with 3 Axes>"
      ]
     },
     "metadata": {},
     "output_type": "display_data"
    }
   ],
   "source": [
    "fig = plt.figure(figsize=(10, 6))\n",
    "for ii in range(len(lon)):\n",
    "    x_tmp = [lon[ii]-dx, lon[ii]+dx]\n",
    "    out = plt.pcolormesh(x_tmp, depth/1e3, RHO[ii,::-1].reshape([-1,1]), norm=LogNorm(vmin=1e0, vmax=10000), cmap='turbo_r', alpha=0.8)\n",
    "out_misfit = plt.scatter(lon, np.ones(len(lon)) * -0.5e1, c=phid_s, s=10, vmin=60, vmax=100)\n",
    "\n",
    "plt.ylim(200, -1e1)\n",
    "cb = plt.colorbar(out)\n",
    "cb.set_label(\"Resistvity (Ohm-m)\")\n",
    "plt.xlabel(\"Longitude (degree)\")\n",
    "plt.ylabel(\"Depth (km)\")\n",
    "cb_mis = plt.colorbar(out_misfit, orientation='horizontal', fraction=0.03)\n",
    "cb_mis.set_label(\"Misfit\")\n"
   ]
  },
  {
   "cell_type": "code",
   "execution_count": 15,
   "id": "e15fc28a",
   "metadata": {},
   "outputs": [
    {
     "data": {
      "image/png": "[encoded data removed]",
      "text/plain": [
       "<Figure size 1000x600 with 3 Axes>"
      ]
     },
     "metadata": {},
     "output_type": "display_data"
    }
   ],
   "source": [
    "fig = plt.figure(figsize=(10, 6))\n",
    "inds_bad = []\n",
    "for ii in range(len(lon)):\n",
    "    if phid_s[ii]<100:\n",
    "        x_tmp = [lon[ii]-dx, lon[ii]+dx]\n",
    "        out = plt.pcolormesh(x_tmp, depth/1e3, RHO[ii,::-1].reshape([-1,1]), norm=LogNorm(vmin=1e0, vmax=10000), cmap='turbo_r', alpha=0.8)\n",
    "    else:\n",
    "        inds_bad.append(ii)\n",
    "out_misfit = plt.scatter(lon, np.ones(len(lon)) * -0.5e1, c=phid_s, s=10, vmin=60, vmax=100)\n",
    "\n",
    "plt.ylim(200, -1e1)\n",
    "cb = plt.colorbar(out)\n",
    "cb.set_label(\"Resistvity (Ohm-m)\")\n",
    "plt.xlabel(\"Longitude (degree)\")\n",
    "plt.ylabel(\"Depth (km)\")\n",
    "cb_mis = plt.colorbar(out_misfit, orientation='horizontal', fraction=0.03)\n",
    "cb_mis.set_label(\"Misfit\")\n"
   ]
  },
  {
   "cell_type": "code",
   "execution_count": 16,
   "id": "7bb4f5b2",
   "metadata": {},
   "outputs": [],
   "source": [
    "# Plot station with a high misfit\n",
    "# ii = 0\n",
    "# tf = mc.get_tf(station_ids[inds_bad[ii]])\n",
    "# tf.plot_mt_response()\n",
    "# print (phid_s[inds_bad[ii]])"
   ]
  }
 ],
 "metadata": {
  "kernelspec": {
   "display_name": "Python 3 (ipykernel)",
   "language": "python",
   "name": "python3"
  },
  "language_info": {
   "codemirror_mode": {
    "name": "ipython",
    "version": 3
   },
   "file_extension": ".py",
   "mimetype": "text/x-python",
   "name": "python",
   "nbconvert_exporter": "python",
   "pygments_lexer": "ipython3",
   "version": "3.9.13"
  }
 },
 "nbformat": 4,
 "nbformat_minor": 5
}
