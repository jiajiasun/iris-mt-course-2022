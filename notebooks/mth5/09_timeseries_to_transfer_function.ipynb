{
 "cells": [
  {
   "cell_type": "markdown",
   "metadata": {},
   "source": [
    "# Example 10: Full workflow\n",
    "\n",
    "This example contains the full workflow\n",
    "1. Request data from IRIS to make an MTH5\n",
    "2. Compute a transfer function using Aurora\n",
    "3. Adding the transfer function to MHT5\n",
    "4. Visualize using MTpy\n",
    "\n",
    "**Note:** this example assumes that data availability (Network, Station, Channel, Start, End) are all previously known.  If you do not know the data that you want to download use [IRIS tools](https://ds.iris.edu/ds/nodes/dmc/tools/##) to get data availability.   "
   ]
  },
  {
   "cell_type": "markdown",
   "metadata": {},
   "source": [
    "## 1. Create MTH5 from IRIS"
   ]
  },
  {
   "cell_type": "code",
   "execution_count": 1,
   "metadata": {},
   "outputs": [
    {
     "name": "stderr",
     "output_type": "stream",
     "text": [
      "2022-10-19 20:49:36,773 [line 135] mth5.setup_logger - INFO: Logging file can be found C:\\Users\\jpeacock\\OneDrive - DOI\\Documents\\GitHub\\mth5\\logs\\mth5_debug.log\n"
     ]
    }
   ],
   "source": [
    "from pathlib import Path\n",
    "\n",
    "import numpy as np\n",
    "import pandas as pd\n",
    "from mth5.mth5 import MTH5\n",
    "from mth5.clients.make_mth5 import MakeMTH5\n",
    "\n",
    "from matplotlib import pyplot as plt\n",
    "%matplotlib inline"
   ]
  },
  {
   "cell_type": "markdown",
   "metadata": {},
   "source": [
    "### Set the path to save files to as the current working directory"
   ]
  },
  {
   "cell_type": "code",
   "execution_count": 3,
   "metadata": {},
   "outputs": [
    {
     "name": "stdout",
     "output_type": "stream",
     "text": [
      "C:\\Users\\jpeacock\\OneDrive - DOI\\Documents\\GitHub\\iris-mt-course-2022\\notebooks\\mth5\n"
     ]
    }
   ],
   "source": [
    "default_path = Path().cwd()\n",
    "print(default_path)"
   ]
  },
  {
   "cell_type": "markdown",
   "metadata": {},
   "source": [
    "### Initialize a MakeMTH5 object\n",
    "\n",
    "Here, we are setting the MTH5 file version to 0.2.0 so that we can have multiple surveys in a single file.  Also, setting the client to \"IRIS\".  Here, we are using `obspy.clients` tools for the request.  Here are the available [FDSN clients](https://docs.obspy.org/packages/obspy.clients.fdsn.html). \n",
    "\n",
    "**Note:** Only the \"IRIS\" client has been tested."
   ]
  },
  {
   "cell_type": "code",
   "execution_count": 7,
   "metadata": {},
   "outputs": [],
   "source": [
    "make_mth5_object = MakeMTH5(mth5_version='0.2.0')\n",
    "make_mth5_object.client = \"IRIS\""
   ]
  },
  {
   "cell_type": "markdown",
   "metadata": {},
   "source": [
    "### Make the data inquiry as a DataFrame\n",
    "\n",
    "There are a few ways to make the inquiry to request data.  \n",
    "\n",
    "1. Make a DataFrame by hand.  Here we will make a list of entries and then create a DataFrame with the proper column names\n",
    "2. You can create a CSV file with a row for each entry. There are some formatting that you need to be aware of.  That is the column names and making sure that date-times are YYYY-MM-DDThh:mm:ss\n",
    "\n",
    "\n",
    "| Column Name         |   Description                                                                                                 |\n",
    "| ------------------- | --------------------------------------------------------------------------------------------------------------|\n",
    "| **network**         | [FDSN Network code (2 letters)](http://www.fdsn.org/networks/)                                                |\n",
    "| **station**         | [FDSN Station code (usually 5 characters)](https://ds.iris.edu/ds/nodes/dmc/data/formats/seed-channel-naming/)|\n",
    "| **location**        | [FDSN Location code (typically not used for MT)](http://docs.fdsn.org/projects/source-identifiers/en/v1.0/location-codes.html) |\n",
    "| **channel**         | [FDSN Channel code (3 characters)](http://docs.fdsn.org/projects/source-identifiers/en/v1.0/channel-codes.html)|\n",
    "| **start**           | Start time (YYYY-MM-DDThh:mm:ss) UTC |\n",
    "| **end**             | End time (YYYY-MM-DDThh:mm:ss) UTC  |\n",
    "\n",
    "To create the request you can use any of the [IRIS Data Services tools](https://ds.iris.edu/ds/nodes/dmc/tools/##), a nice map view request [GMAP](http://ds.iris.edu/gmap/).  Be sure to identify 2 stations that recorded at the same time for at least a week.  Network codes for MT that have correct metadata are `ZU` and `8P`, other network codes like `EM` still need work on making sure calibrations are correct.\n"
   ]
  },
  {
   "cell_type": "code",
   "execution_count": 13,
   "metadata": {},
   "outputs": [
    {
     "data": {
      "text/html": [
       "<div>\n",
       "<style scoped>\n",
       "    .dataframe tbody tr th:only-of-type {\n",
       "        vertical-align: middle;\n",
       "    }\n",
       "\n",
       "    .dataframe tbody tr th {\n",
       "        vertical-align: top;\n",
       "    }\n",
       "\n",
       "    .dataframe thead th {\n",
       "        text-align: right;\n",
       "    }\n",
       "</style>\n",
       "<table border=\"1\" class=\"dataframe\">\n",
       "  <thead>\n",
       "    <tr style=\"text-align: right;\">\n",
       "      <th></th>\n",
       "      <th>network</th>\n",
       "      <th>station</th>\n",
       "      <th>location</th>\n",
       "      <th>channel</th>\n",
       "      <th>start</th>\n",
       "      <th>end</th>\n",
       "    </tr>\n",
       "  </thead>\n",
       "  <tbody>\n",
       "    <tr>\n",
       "      <th>0</th>\n",
       "      <td>EM</td>\n",
       "      <td>WYYS2</td>\n",
       "      <td></td>\n",
       "      <td>LFE</td>\n",
       "      <td>2009-07-15T00:00:00</td>\n",
       "      <td>2009-08-21T00:00:00</td>\n",
       "    </tr>\n",
       "    <tr>\n",
       "      <th>1</th>\n",
       "      <td>EM</td>\n",
       "      <td>WYYS2</td>\n",
       "      <td></td>\n",
       "      <td>LFN</td>\n",
       "      <td>2009-07-15T00:00:00</td>\n",
       "      <td>2009-08-21T00:00:00</td>\n",
       "    </tr>\n",
       "    <tr>\n",
       "      <th>2</th>\n",
       "      <td>EM</td>\n",
       "      <td>WYYS2</td>\n",
       "      <td></td>\n",
       "      <td>LFZ</td>\n",
       "      <td>2009-07-15T00:00:00</td>\n",
       "      <td>2009-08-21T00:00:00</td>\n",
       "    </tr>\n",
       "    <tr>\n",
       "      <th>3</th>\n",
       "      <td>EM</td>\n",
       "      <td>WYYS2</td>\n",
       "      <td></td>\n",
       "      <td>LQE</td>\n",
       "      <td>2009-07-15T00:00:00</td>\n",
       "      <td>2009-08-21T00:00:00</td>\n",
       "    </tr>\n",
       "    <tr>\n",
       "      <th>4</th>\n",
       "      <td>EM</td>\n",
       "      <td>WYYS2</td>\n",
       "      <td></td>\n",
       "      <td>LQN</td>\n",
       "      <td>2009-07-15T00:00:00</td>\n",
       "      <td>2009-08-21T00:00:00</td>\n",
       "    </tr>\n",
       "    <tr>\n",
       "      <th>5</th>\n",
       "      <td>EM</td>\n",
       "      <td>MTF20</td>\n",
       "      <td></td>\n",
       "      <td>LFE</td>\n",
       "      <td>2009-07-03T00:00:00</td>\n",
       "      <td>2009-08-13T00:00:00</td>\n",
       "    </tr>\n",
       "    <tr>\n",
       "      <th>6</th>\n",
       "      <td>EM</td>\n",
       "      <td>MTF20</td>\n",
       "      <td></td>\n",
       "      <td>LFN</td>\n",
       "      <td>2009-07-03T00:00:00</td>\n",
       "      <td>2009-08-13T00:00:00</td>\n",
       "    </tr>\n",
       "    <tr>\n",
       "      <th>7</th>\n",
       "      <td>EM</td>\n",
       "      <td>MTF20</td>\n",
       "      <td></td>\n",
       "      <td>LFZ</td>\n",
       "      <td>2009-07-03T00:00:00</td>\n",
       "      <td>2009-08-13T00:00:00</td>\n",
       "    </tr>\n",
       "    <tr>\n",
       "      <th>8</th>\n",
       "      <td>EM</td>\n",
       "      <td>MTF20</td>\n",
       "      <td></td>\n",
       "      <td>LQE</td>\n",
       "      <td>2009-07-03T00:00:00</td>\n",
       "      <td>2009-08-13T00:00:00</td>\n",
       "    </tr>\n",
       "    <tr>\n",
       "      <th>9</th>\n",
       "      <td>EM</td>\n",
       "      <td>MTF20</td>\n",
       "      <td></td>\n",
       "      <td>LQN</td>\n",
       "      <td>2009-07-03T00:00:00</td>\n",
       "      <td>2009-08-13T00:00:00</td>\n",
       "    </tr>\n",
       "  </tbody>\n",
       "</table>\n",
       "</div>"
      ],
      "text/plain": [
       "  network station location channel                start                  end\n",
       "0      EM   WYYS2              LFE  2009-07-15T00:00:00  2009-08-21T00:00:00\n",
       "1      EM   WYYS2              LFN  2009-07-15T00:00:00  2009-08-21T00:00:00\n",
       "2      EM   WYYS2              LFZ  2009-07-15T00:00:00  2009-08-21T00:00:00\n",
       "3      EM   WYYS2              LQE  2009-07-15T00:00:00  2009-08-21T00:00:00\n",
       "4      EM   WYYS2              LQN  2009-07-15T00:00:00  2009-08-21T00:00:00\n",
       "5      EM   MTF20              LFE  2009-07-03T00:00:00  2009-08-13T00:00:00\n",
       "6      EM   MTF20              LFN  2009-07-03T00:00:00  2009-08-13T00:00:00\n",
       "7      EM   MTF20              LFZ  2009-07-03T00:00:00  2009-08-13T00:00:00\n",
       "8      EM   MTF20              LQE  2009-07-03T00:00:00  2009-08-13T00:00:00\n",
       "9      EM   MTF20              LQN  2009-07-03T00:00:00  2009-08-13T00:00:00"
      ]
     },
     "execution_count": 13,
     "metadata": {},
     "output_type": "execute_result"
    }
   ],
   "source": [
    "channels = [\"LFE\", \"LFN\", \"LFZ\", \"LQE\", \"LQN\"]\n",
    " \n",
    "WYYS2 = [\"EM\", \"WYYS2\", \"2009-07-15T00:00:00\", \"2009-08-21T00:00:00\"]\n",
    "MTF20 = [\"EM\", \"MTF20\", \"2009-07-03T00:00:00\", \"2009-08-13T00:00:00\"]\n",
    "\n",
    "request_list = []\n",
    "for entry in [WYYS2, MTF20]:\n",
    "    for channel in channels:\n",
    "        request_list.append(\n",
    "            [entry[0], entry[1], \"\", channel, entry[2], entry[3]]\n",
    "        )\n",
    "\n",
    "# Turn list into dataframe\n",
    "request_df =  pd.DataFrame(request_list, columns=make_mth5_object.column_names) \n",
    "request_df.to_csv(default_path.joinpath(\"fdsn_request.csv\"))\n",
    "request_df"
   ]
  },
  {
   "cell_type": "markdown",
   "metadata": {},
   "source": [
    "### Get only the metadata from IRIS\n",
    "\n",
    "It can be helpful to make sure that your request is what you would expect.  For that you can request only the metadata from IRIS.  The request is quick and light so shouldn't need to worry about the speed.  This returns a StationXML file and is loaded into an `obspy.Inventory` object."
   ]
  },
  {
   "cell_type": "code",
   "execution_count": 14,
   "metadata": {},
   "outputs": [
    {
     "name": "stdout",
     "output_type": "stream",
     "text": [
      "Inventory created at 2022-10-20T02:31:42.910975Z\n",
      "\tCreated by: ObsPy 1.3.0\n",
      "\t\t    https://www.obspy.org\n",
      "\tSending institution: MTH5\n",
      "\tContains:\n",
      "\t\tNetworks (2):\n",
      "\t\t\tEM (2x)\n",
      "\t\tStations (2):\n",
      "\t\t\tEM.MTF20 (Billings, MT, USA)\n",
      "\t\t\tEM.WYYS2 (Grant Village, WY, USA)\n",
      "\t\tChannels (10):\n",
      "\t\t\tEM.MTF20..LFZ, EM.MTF20..LFN, EM.MTF20..LFE, EM.MTF20..LQN, \n",
      "\t\t\tEM.MTF20..LQE, EM.WYYS2..LFZ, EM.WYYS2..LFN, EM.WYYS2..LFE, \n",
      "\t\t\tEM.WYYS2..LQN, EM.WYYS2..LQE\n"
     ]
    }
   ],
   "source": [
    "inventory, data = make_mth5_object.get_inventory_from_df(request_df, data=False)\n",
    "inventory.write(default_path.joinpath(\"example_processing.xml\").as_posix(), format=\"stationxml\")\n",
    "print(inventory)"
   ]
  },
  {
   "cell_type": "markdown",
   "metadata": {},
   "source": [
    "### Make an MTH5\n",
    "\n",
    "Now that we've created a request, and made sure that its what we expect, we can make an MTH5 file.  The input can be either the DataFrame or the CSV file.  We are going to time it just to get an indication how long it might take.  Should take about 4 minutes.\n",
    "\n",
    "**Note:** we are setting `interact=False`.  If you want to just to keep the file open to interogat it set `interact=True`. "
   ]
  },
  {
   "cell_type": "code",
   "execution_count": 15,
   "metadata": {
    "tags": []
   },
   "outputs": [
    {
     "name": "stderr",
     "output_type": "stream",
     "text": [
      "2022-10-19 19:32:20,762 [line 672] mth5.mth5.MTH5._initialize_file - INFO: Initialized MTH5 0.2.0 file C:\\Users\\jpeacock\\OneDrive - DOI\\Documents\\GitHub\\iris-mt-course-2022\\notebooks\\mth5\\EM_WYYS2_MTF20.h5 in mode w\n",
      "2022-10-19 19:35:01,570 [line 498] mt_metadata.timeseries.stationxml.utils.XMLChannelMTChannel._xml_response_to_mt - INFO: Found an unnamed filter, named it: 'zpk_00'\n"
     ]
    },
    {
     "name": "stdout",
     "output_type": "stream",
     "text": [
      "2022-10-19T19:35:01 [line 134] obspy_stages.create_filter_from_stage - INFO: Converting PoleZerosResponseStage None to a CoefficientFilter\n"
     ]
    },
    {
     "name": "stderr",
     "output_type": "stream",
     "text": [
      "2022-10-19 19:35:01,687 [line 498] mt_metadata.timeseries.stationxml.utils.XMLChannelMTChannel._xml_response_to_mt - INFO: Found an unnamed filter, named it: 'coefficient_00'\n",
      "2022-10-19 19:35:01,705 [line 498] mt_metadata.timeseries.stationxml.utils.XMLChannelMTChannel._xml_response_to_mt - INFO: Found an unnamed filter, named it: 'zpk_01'\n"
     ]
    },
    {
     "name": "stdout",
     "output_type": "stream",
     "text": [
      "2022-10-19T19:35:01 [line 134] obspy_stages.create_filter_from_stage - INFO: Converting PoleZerosResponseStage None to a CoefficientFilter\n"
     ]
    },
    {
     "name": "stderr",
     "output_type": "stream",
     "text": [
      "2022-10-19 19:35:01,783 [line 498] mt_metadata.timeseries.stationxml.utils.XMLChannelMTChannel._xml_response_to_mt - INFO: Found an unnamed filter, named it: 'zpk_00'\n"
     ]
    },
    {
     "name": "stdout",
     "output_type": "stream",
     "text": [
      "2022-10-19T19:35:01 [line 134] obspy_stages.create_filter_from_stage - INFO: Converting PoleZerosResponseStage None to a CoefficientFilter\n"
     ]
    },
    {
     "name": "stderr",
     "output_type": "stream",
     "text": [
      "2022-10-19 19:35:01,860 [line 498] mt_metadata.timeseries.stationxml.utils.XMLChannelMTChannel._xml_response_to_mt - INFO: Found an unnamed filter, named it: 'coefficient_00'\n",
      "2022-10-19 19:35:01,880 [line 498] mt_metadata.timeseries.stationxml.utils.XMLChannelMTChannel._xml_response_to_mt - INFO: Found an unnamed filter, named it: 'zpk_01'\n"
     ]
    },
    {
     "name": "stdout",
     "output_type": "stream",
     "text": [
      "2022-10-19T19:35:01 [line 134] obspy_stages.create_filter_from_stage - INFO: Converting PoleZerosResponseStage None to a CoefficientFilter\n"
     ]
    },
    {
     "name": "stderr",
     "output_type": "stream",
     "text": [
      "2022-10-19 19:35:02,477 [line 285] mth5.groups.base.MasterSurvey.add_survey - INFO: survey Kansas_2017_Long_Period already exists, returning existing group.\n",
      "2022-10-19 19:35:02,597 [line 271] mt_metadata.base.metadata.survey.get_station - WARNING: Could not find station WYYS2\n",
      "2022-10-19 19:35:03,059 [line 794] mth5.groups.base.Station.add_run - INFO: run 001 already exists, returning existing group.\n",
      "2022-10-19 19:35:03,404 [line 292] mth5.timeseries.run_ts.RunTS.validate_metadata - WARNING: end time of dataset 2009-07-15T23:30:42+00:00 does not match metadata end 2009-08-20T00:17:06+00:00 updating metatdata value to 2009-07-15T23:30:42+00:00\n",
      "2022-10-19 19:35:07,940 [line 278] mth5.timeseries.run_ts.RunTS.validate_metadata - WARNING: start time of dataset 2009-07-15T23:39:07+00:00 does not match metadata start 2009-07-15T22:43:28+00:00 updating metatdata value to 2009-07-15T23:39:07+00:00\n",
      "2022-10-19 19:35:07,946 [line 292] mth5.timeseries.run_ts.RunTS.validate_metadata - WARNING: end time of dataset 2009-08-05T19:09:40+00:00 does not match metadata end 2009-08-20T00:17:06+00:00 updating metatdata value to 2009-08-05T19:09:40+00:00\n",
      "2022-10-19 19:35:12,929 [line 278] mth5.timeseries.run_ts.RunTS.validate_metadata - WARNING: start time of dataset 2009-08-05T19:49:51+00:00 does not match metadata start 2009-07-15T22:43:28+00:00 updating metatdata value to 2009-08-05T19:49:51+00:00\n",
      "2022-10-19 19:35:12,936 [line 292] mth5.timeseries.run_ts.RunTS.validate_metadata - WARNING: end time of dataset 2009-08-20T00:17:07+00:00 does not match metadata end 2009-08-20T00:17:06+00:00 updating metatdata value to 2009-08-20T00:17:07+00:00\n",
      "2022-10-19 19:35:20,477 [line 794] mth5.groups.base.Station.add_run - INFO: run 001 already exists, returning existing group.\n",
      "2022-10-19 19:35:20,822 [line 292] mth5.timeseries.run_ts.RunTS.validate_metadata - WARNING: end time of dataset 2009-07-04T00:43:53+00:00 does not match metadata end 2009-08-13T17:15:39+00:00 updating metatdata value to 2009-07-04T00:43:53+00:00\n",
      "2022-10-19 19:35:25,722 [line 278] mth5.timeseries.run_ts.RunTS.validate_metadata - WARNING: start time of dataset 2009-07-04T00:48:01+00:00 does not match metadata start 2009-07-03T22:38:13+00:00 updating metatdata value to 2009-07-04T00:48:01+00:00\n",
      "2022-10-19 19:35:25,730 [line 292] mth5.timeseries.run_ts.RunTS.validate_metadata - WARNING: end time of dataset 2009-07-31T19:39:02+00:00 does not match metadata end 2009-08-13T17:15:39+00:00 updating metatdata value to 2009-07-31T19:39:02+00:00\n",
      "2022-10-19 19:35:31,535 [line 278] mth5.timeseries.run_ts.RunTS.validate_metadata - WARNING: start time of dataset 2009-07-31T20:47:27+00:00 does not match metadata start 2009-07-03T22:38:13+00:00 updating metatdata value to 2009-07-31T20:47:27+00:00\n",
      "2022-10-19 19:35:31,541 [line 292] mth5.timeseries.run_ts.RunTS.validate_metadata - WARNING: end time of dataset 2009-08-13T00:00:01+00:00 does not match metadata end 2009-08-13T17:15:39+00:00 updating metatdata value to 2009-08-13T00:00:01+00:00\n",
      "2022-10-19 19:35:38,897 [line 753] mth5.mth5.MTH5.close_mth5 - INFO: Flushing and closing C:\\Users\\jpeacock\\OneDrive - DOI\\Documents\\GitHub\\iris-mt-course-2022\\notebooks\\mth5\\EM_WYYS2_MTF20.h5\n"
     ]
    },
    {
     "name": "stdout",
     "output_type": "stream",
     "text": [
      "Created C:\\Users\\jpeacock\\OneDrive - DOI\\Documents\\GitHub\\iris-mt-course-2022\\notebooks\\mth5\\EM_WYYS2_MTF20.h5\n",
      "Wall time: 3min 18s\n"
     ]
    }
   ],
   "source": [
    "%%time\n",
    "\n",
    "mth5_object = make_mth5_object.make_mth5_from_fdsnclient(request_df, interact=False)\n",
    "\n",
    "print(f\"Created {mth5_object}\")"
   ]
  },
  {
   "cell_type": "code",
   "execution_count": 33,
   "metadata": {},
   "outputs": [],
   "source": [
    "mth5_path = mth5_object"
   ]
  },
  {
   "cell_type": "markdown",
   "metadata": {},
   "source": [
    "#### If you are rerunning processing"
   ]
  },
  {
   "cell_type": "code",
   "execution_count": 2,
   "metadata": {},
   "outputs": [],
   "source": [
    "mth5_path = Path(\"EM_WYYS2_MTF20.h5\")"
   ]
  },
  {
   "cell_type": "markdown",
   "metadata": {},
   "source": [
    "## 2. Estimate Transfer Function\n",
    "\n",
    "Now that an MTH5 has been created we can estimate a transfer function using Aurora.  "
   ]
  },
  {
   "cell_type": "code",
   "execution_count": 3,
   "metadata": {},
   "outputs": [],
   "source": [
    "import warnings\n",
    "\n",
    "from aurora.config.config_creator import ConfigCreator\n",
    "from aurora.pipelines.run_summary import RunSummary\n",
    "from aurora.transfer_function.kernel_dataset import KernelDataset\n",
    "from aurora.pipelines.process_mth5 import process_mth5\n",
    "\n",
    "warnings.filterwarnings('ignore')"
   ]
  },
  {
   "cell_type": "markdown",
   "metadata": {
    "tags": []
   },
   "source": [
    "### Get a Run Summary\n",
    "Get a run summary from the create mth5. We are going to provide the path to `RunSummary`.     "
   ]
  },
  {
   "cell_type": "code",
   "execution_count": 4,
   "metadata": {},
   "outputs": [
    {
     "name": "stderr",
     "output_type": "stream",
     "text": [
      "2022-10-19 20:49:50,422 [line 755] mth5.mth5.MTH5.close_mth5 - INFO: Flushing and closing EM_WYYS2_MTF20.h5\n"
     ]
    },
    {
     "data": {
      "text/html": [
       "<div>\n",
       "<style scoped>\n",
       "    .dataframe tbody tr th:only-of-type {\n",
       "        vertical-align: middle;\n",
       "    }\n",
       "\n",
       "    .dataframe tbody tr th {\n",
       "        vertical-align: top;\n",
       "    }\n",
       "\n",
       "    .dataframe thead th {\n",
       "        text-align: right;\n",
       "    }\n",
       "</style>\n",
       "<table border=\"1\" class=\"dataframe\">\n",
       "  <thead>\n",
       "    <tr style=\"text-align: right;\">\n",
       "      <th></th>\n",
       "      <th>survey</th>\n",
       "      <th>station_id</th>\n",
       "      <th>run_id</th>\n",
       "      <th>start</th>\n",
       "      <th>end</th>\n",
       "    </tr>\n",
       "  </thead>\n",
       "  <tbody>\n",
       "    <tr>\n",
       "      <th>0</th>\n",
       "      <td>Kansas 2017 Long Period</td>\n",
       "      <td>MTF20</td>\n",
       "      <td>001</td>\n",
       "      <td>2009-07-03 22:38:13+00:00</td>\n",
       "      <td>2009-07-04 00:43:53+00:00</td>\n",
       "    </tr>\n",
       "    <tr>\n",
       "      <th>1</th>\n",
       "      <td>Kansas 2017 Long Period</td>\n",
       "      <td>MTF20</td>\n",
       "      <td>002</td>\n",
       "      <td>2009-07-04 00:48:01+00:00</td>\n",
       "      <td>2009-07-31 19:39:02+00:00</td>\n",
       "    </tr>\n",
       "    <tr>\n",
       "      <th>2</th>\n",
       "      <td>Kansas 2017 Long Period</td>\n",
       "      <td>MTF20</td>\n",
       "      <td>003</td>\n",
       "      <td>2009-07-31 20:47:27+00:00</td>\n",
       "      <td>2009-08-13 00:00:01+00:00</td>\n",
       "    </tr>\n",
       "    <tr>\n",
       "      <th>3</th>\n",
       "      <td>Kansas 2017 Long Period</td>\n",
       "      <td>WYYS2</td>\n",
       "      <td>001</td>\n",
       "      <td>2009-07-15 22:43:28+00:00</td>\n",
       "      <td>2009-07-15 23:30:42+00:00</td>\n",
       "    </tr>\n",
       "    <tr>\n",
       "      <th>4</th>\n",
       "      <td>Kansas 2017 Long Period</td>\n",
       "      <td>WYYS2</td>\n",
       "      <td>002</td>\n",
       "      <td>2009-07-15 23:39:07+00:00</td>\n",
       "      <td>2009-08-05 19:09:40+00:00</td>\n",
       "    </tr>\n",
       "    <tr>\n",
       "      <th>5</th>\n",
       "      <td>Kansas 2017 Long Period</td>\n",
       "      <td>WYYS2</td>\n",
       "      <td>003</td>\n",
       "      <td>2009-08-05 19:49:51+00:00</td>\n",
       "      <td>2009-08-20 00:17:07+00:00</td>\n",
       "    </tr>\n",
       "  </tbody>\n",
       "</table>\n",
       "</div>"
      ],
      "text/plain": [
       "                    survey station_id run_id                     start  \\\n",
       "0  Kansas 2017 Long Period      MTF20    001 2009-07-03 22:38:13+00:00   \n",
       "1  Kansas 2017 Long Period      MTF20    002 2009-07-04 00:48:01+00:00   \n",
       "2  Kansas 2017 Long Period      MTF20    003 2009-07-31 20:47:27+00:00   \n",
       "3  Kansas 2017 Long Period      WYYS2    001 2009-07-15 22:43:28+00:00   \n",
       "4  Kansas 2017 Long Period      WYYS2    002 2009-07-15 23:39:07+00:00   \n",
       "5  Kansas 2017 Long Period      WYYS2    003 2009-08-05 19:49:51+00:00   \n",
       "\n",
       "                        end  \n",
       "0 2009-07-04 00:43:53+00:00  \n",
       "1 2009-07-31 19:39:02+00:00  \n",
       "2 2009-08-13 00:00:01+00:00  \n",
       "3 2009-07-15 23:30:42+00:00  \n",
       "4 2009-08-05 19:09:40+00:00  \n",
       "5 2009-08-20 00:17:07+00:00  "
      ]
     },
     "execution_count": 4,
     "metadata": {},
     "output_type": "execute_result"
    }
   ],
   "source": [
    "mth5_run_summary = RunSummary()\n",
    "mth5_run_summary.from_mth5s([mth5_path,])\n",
    "mth5_run_summary.mini_summary"
   ]
  },
  {
   "cell_type": "markdown",
   "metadata": {},
   "source": [
    "### Define a Kernel Dataset\n",
    "\n",
    "Make a `KernelDataset` to feed into Aurora.  Here we are going to only use runs longer than 5000 seconds (80 minutes) to be sure we get good estimates at long periods.\n",
    "\n",
    "**Here you need to change the local station that you are going to process and the remote reference.**"
   ]
  },
  {
   "cell_type": "code",
   "execution_count": 5,
   "metadata": {},
   "outputs": [
    {
     "data": {
      "text/html": [
       "<div>\n",
       "<style scoped>\n",
       "    .dataframe tbody tr th:only-of-type {\n",
       "        vertical-align: middle;\n",
       "    }\n",
       "\n",
       "    .dataframe tbody tr th {\n",
       "        vertical-align: top;\n",
       "    }\n",
       "\n",
       "    .dataframe thead th {\n",
       "        text-align: right;\n",
       "    }\n",
       "</style>\n",
       "<table border=\"1\" class=\"dataframe\">\n",
       "  <thead>\n",
       "    <tr style=\"text-align: right;\">\n",
       "      <th></th>\n",
       "      <th>survey</th>\n",
       "      <th>station_id</th>\n",
       "      <th>run_id</th>\n",
       "      <th>start</th>\n",
       "      <th>end</th>\n",
       "      <th>duration</th>\n",
       "    </tr>\n",
       "  </thead>\n",
       "  <tbody>\n",
       "    <tr>\n",
       "      <th>0</th>\n",
       "      <td>Kansas 2017 Long Period</td>\n",
       "      <td>WYYS2</td>\n",
       "      <td>002</td>\n",
       "      <td>2009-07-15 23:39:07+00:00</td>\n",
       "      <td>2009-07-31 19:39:02+00:00</td>\n",
       "      <td>1367995.0</td>\n",
       "    </tr>\n",
       "    <tr>\n",
       "      <th>1</th>\n",
       "      <td>Kansas 2017 Long Period</td>\n",
       "      <td>MTF20</td>\n",
       "      <td>002</td>\n",
       "      <td>2009-07-15 23:39:07+00:00</td>\n",
       "      <td>2009-07-31 19:39:02+00:00</td>\n",
       "      <td>1367995.0</td>\n",
       "    </tr>\n",
       "    <tr>\n",
       "      <th>2</th>\n",
       "      <td>Kansas 2017 Long Period</td>\n",
       "      <td>WYYS2</td>\n",
       "      <td>002</td>\n",
       "      <td>2009-07-31 20:47:27+00:00</td>\n",
       "      <td>2009-08-05 19:09:40+00:00</td>\n",
       "      <td>426133.0</td>\n",
       "    </tr>\n",
       "    <tr>\n",
       "      <th>3</th>\n",
       "      <td>Kansas 2017 Long Period</td>\n",
       "      <td>MTF20</td>\n",
       "      <td>003</td>\n",
       "      <td>2009-07-31 20:47:27+00:00</td>\n",
       "      <td>2009-08-05 19:09:40+00:00</td>\n",
       "      <td>426133.0</td>\n",
       "    </tr>\n",
       "    <tr>\n",
       "      <th>4</th>\n",
       "      <td>Kansas 2017 Long Period</td>\n",
       "      <td>WYYS2</td>\n",
       "      <td>003</td>\n",
       "      <td>2009-08-05 19:49:51+00:00</td>\n",
       "      <td>2009-08-13 00:00:01+00:00</td>\n",
       "      <td>619810.0</td>\n",
       "    </tr>\n",
       "    <tr>\n",
       "      <th>5</th>\n",
       "      <td>Kansas 2017 Long Period</td>\n",
       "      <td>MTF20</td>\n",
       "      <td>003</td>\n",
       "      <td>2009-08-05 19:49:51+00:00</td>\n",
       "      <td>2009-08-13 00:00:01+00:00</td>\n",
       "      <td>619810.0</td>\n",
       "    </tr>\n",
       "  </tbody>\n",
       "</table>\n",
       "</div>"
      ],
      "text/plain": [
       "                    survey station_id run_id                     start  \\\n",
       "0  Kansas 2017 Long Period      WYYS2    002 2009-07-15 23:39:07+00:00   \n",
       "1  Kansas 2017 Long Period      MTF20    002 2009-07-15 23:39:07+00:00   \n",
       "2  Kansas 2017 Long Period      WYYS2    002 2009-07-31 20:47:27+00:00   \n",
       "3  Kansas 2017 Long Period      MTF20    003 2009-07-31 20:47:27+00:00   \n",
       "4  Kansas 2017 Long Period      WYYS2    003 2009-08-05 19:49:51+00:00   \n",
       "5  Kansas 2017 Long Period      MTF20    003 2009-08-05 19:49:51+00:00   \n",
       "\n",
       "                        end   duration  \n",
       "0 2009-07-31 19:39:02+00:00  1367995.0  \n",
       "1 2009-07-31 19:39:02+00:00  1367995.0  \n",
       "2 2009-08-05 19:09:40+00:00   426133.0  \n",
       "3 2009-08-05 19:09:40+00:00   426133.0  \n",
       "4 2009-08-13 00:00:01+00:00   619810.0  \n",
       "5 2009-08-13 00:00:01+00:00   619810.0  "
      ]
     },
     "execution_count": 5,
     "metadata": {},
     "output_type": "execute_result"
    }
   ],
   "source": [
    "kernel_dataset = KernelDataset()\n",
    "### kernel_dataset.from_run_summary(run_summary, \"local_station\", \"remote_station\")\n",
    "kernel_dataset.from_run_summary(mth5_run_summary, \"WYYS2\", \"MTF20\")\n",
    "kernel_dataset.drop_runs_shorter_than(5000)\n",
    "kernel_dataset.mini_summary"
   ]
  },
  {
   "cell_type": "markdown",
   "metadata": {},
   "source": [
    "### Now define the processing Configuration\n",
    "\n",
    "The only things we need to provide are our band processing scheme, and the data sample rate to generate a default processing configuration. The config is then told about the stations via the kernel dataset. Here we are passing it a band file so that we process longer periods.  \n",
    "\n",
    "**Note:** When doing only single station processing you need to specify RME processing (rather than remote reference processing which expects extra time series from another station)"
   ]
  },
  {
   "cell_type": "code",
   "execution_count": 6,
   "metadata": {},
   "outputs": [
    {
     "name": "stdout",
     "output_type": "stream",
     "text": [
      "..\\aurora\\bs_256_29.cfg\n",
      "OK\n"
     ]
    }
   ],
   "source": [
    "cc = ConfigCreator()\n",
    "config = cc.create_from_kernel_dataset(\n",
    "    kernel_dataset,\n",
    "    emtf_band_file=Path(\"../aurora/bs_256_29.cfg\")\n",
    ")\n",
    "for decimation in config.decimations:\n",
    "    decimation.window.type = \"hamming\""
   ]
  },
  {
   "cell_type": "markdown",
   "metadata": {},
   "source": [
    "### Call process_mth5"
   ]
  },
  {
   "cell_type": "code",
   "execution_count": 7,
   "metadata": {},
   "outputs": [
    {
     "name": "stdout",
     "output_type": "stream",
     "text": [
      "DATASET DF POPULATED\n",
      "Processing config indicates 4 decimation levels \n",
      "DATASET DF UPDATED\n",
      "Processing band 25.728968s\n",
      "Processing band 19.929573s\n",
      "Processing band 15.164131s\n",
      "Processing band 11.746086s\n",
      "Processing band 9.195791s\n",
      "Processing band 7.362526s\n",
      "Processing band 5.856115s\n",
      "Processing band 4.682492s\n",
      "Processing band 3.784813s\n",
      "Processing band 3.025193s\n",
      "Processing band 2.519631s\n"
     ]
    },
    {
     "data": {
      "image/png": "[encoded data removed]",
      "text/plain": [
       "<Figure size 432x288 with 2 Axes>"
      ]
     },
     "metadata": {
      "needs_background": "light"
     },
     "output_type": "display_data"
    },
    {
     "name": "stdout",
     "output_type": "stream",
     "text": [
      "DECIMATION LEVEL 1\n",
      "DATASET DF UPDATED\n",
      "Processing band 102.915872s\n",
      "Processing band 85.631182s\n",
      "Processing band 68.881694s\n",
      "Processing band 54.195827s\n",
      "Processing band 43.003958s\n",
      "Processing band 33.310722s\n"
     ]
    },
    {
     "data": {
      "image/png": "[encoded data removed]",
      "text/plain": [
       "<Figure size 432x288 with 2 Axes>"
      ]
     },
     "metadata": {
      "needs_background": "light"
     },
     "output_type": "display_data"
    },
    {
     "name": "stdout",
     "output_type": "stream",
     "text": [
      "DECIMATION LEVEL 2\n",
      "DATASET DF UPDATED\n",
      "Processing band 411.663489s\n",
      "Processing band 342.524727s\n",
      "Processing band 275.526776s\n",
      "Processing band 216.783308s\n",
      "Processing band 172.015831s\n",
      "Processing band 133.242890s\n"
     ]
    },
    {
     "data": {
      "image/png": "[encoded data removed]",
      "text/plain": [
       "<Figure size 432x288 with 2 Axes>"
      ]
     },
     "metadata": {
      "needs_background": "light"
     },
     "output_type": "display_data"
    },
    {
     "name": "stdout",
     "output_type": "stream",
     "text": [
      "DECIMATION LEVEL 3\n",
      "DATASET DF UPDATED\n",
      "Processing band 2064.189975s\n",
      "Processing band 1514.701336s\n",
      "Processing band 1042.488956s\n",
      "Processing band 723.371271s\n",
      "Processing band 532.971560s\n",
      "Processing band 412.837995s\n"
     ]
    },
    {
     "data": {
      "image/png": "[encoded data removed]",
      "text/plain": [
       "<Figure size 432x288 with 2 Axes>"
      ]
     },
     "metadata": {
      "needs_background": "light"
     },
     "output_type": "display_data"
    },
    {
     "name": "stderr",
     "output_type": "stream",
     "text": [
      "2022-10-19 20:52:12,776 [line 755] mth5.mth5.MTH5.close_mth5 - INFO: Flushing and closing EM_WYYS2_MTF20.h5\n",
      "2022-10-19 20:52:12,776 [line 755] mth5.mth5.MTH5.close_mth5 - INFO: Flushing and closing EM_WYYS2_MTF20.h5\n"
     ]
    }
   ],
   "source": [
    "%%time\n",
    "tf_cls = process_mth5(config,\n",
    "                    kernel_dataset,\n",
    "                    units=\"MT\",\n",
    "                    show_plot=True,\n",
    "                    z_file_path=None,\n",
    "                )"
   ]
  },
  {
   "cell_type": "markdown",
   "metadata": {},
   "source": [
    "### Write Transfer Function to a File\n",
    "\n",
    "Here we will write to an EMTF XML format"
   ]
  },
  {
   "cell_type": "code",
   "execution_count": 8,
   "metadata": {},
   "outputs": [
    {
     "name": "stderr",
     "output_type": "stream",
     "text": [
      "2022-10-19 20:52:33,259 [line 205] mt_metadata.transfer_functions.io.readwrite.write_file - INFO: Wrote example_tf.xml\n"
     ]
    }
   ],
   "source": [
    "xml_file_base = f\"example_tf.xml\"\n",
    "emtf_obj = tf_cls.write_tf_file(fn=xml_file_base, file_type=\"emtfxml\")"
   ]
  },
  {
   "cell_type": "markdown",
   "metadata": {},
   "source": [
    "## Add Transfer Function to MTH5"
   ]
  },
  {
   "cell_type": "code",
   "execution_count": 9,
   "metadata": {},
   "outputs": [
    {
     "name": "stderr",
     "output_type": "stream",
     "text": [
      "2022-10-19 20:52:37,978 [line 113] matplotlib.get_mtpy_logger - INFO: Logging file can be found C:\\Users\\jpeacock\\OneDrive - DOI\\Documents\\GitHub\\mtpy\\logs\\matplotlib_warn.log\n"
     ]
    }
   ],
   "source": [
    "from mtpy import MTCollection, MT"
   ]
  },
  {
   "cell_type": "code",
   "execution_count": 10,
   "metadata": {},
   "outputs": [],
   "source": [
    "mc = MTCollection()\n",
    "mc.open_collection(mth5_path)"
   ]
  },
  {
   "cell_type": "code",
   "execution_count": 11,
   "metadata": {},
   "outputs": [],
   "source": [
    "mc.add_tf(Path(\"example_tf.xml\"))"
   ]
  },
  {
   "cell_type": "markdown",
   "metadata": {},
   "source": [
    "### Plot Apparent Resistivity and Phase"
   ]
  },
  {
   "cell_type": "code",
   "execution_count": 12,
   "metadata": {},
   "outputs": [
    {
     "name": "stderr",
     "output_type": "stream",
     "text": [
      "2022-10-19 20:53:54,019 [line 275] mtpy.core.mt_collection.MTCollection.get_tf - WARNING: Found multiple transfer functions with ID WYYS2. Suggest setting survey, otherwise returning the TF from survey Kansas_and_Nebraska_USA.\n"
     ]
    },
    {
     "data": {
      "image/png": "[encoded data removed]",
      "text/plain": [
       "<Figure size 900x600 with 7 Axes>"
      ]
     },
     "metadata": {
      "needs_background": "light"
     },
     "output_type": "display_data"
    }
   ],
   "source": [
    "plot_res_phase = mc.plot_mt_response(\"WYYS2\", plot_num=2)"
   ]
  },
  {
   "cell_type": "markdown",
   "metadata": {},
   "source": [
    "### Plot Phase Tensor"
   ]
  },
  {
   "cell_type": "code",
   "execution_count": 17,
   "metadata": {},
   "outputs": [
    {
     "name": "stderr",
     "output_type": "stream",
     "text": [
      "2022-10-19 20:55:49,527 [line 275] mtpy.core.mt_collection.MTCollection.get_tf - WARNING: Found multiple transfer functions with ID WYYS2. Suggest setting survey, otherwise returning the TF from survey Kansas_and_Nebraska_USA.\n"
     ]
    }
   ],
   "source": [
    "plot_pt = mc.plot_phase_tensor(\"WYYS2\", fig_num=6)\n",
    "plot_pt.redraw_plot()"
   ]
  },
  {
   "cell_type": "code",
   "execution_count": 18,
   "metadata": {},
   "outputs": [],
   "source": [
    "plot_pt.redraw_plot()"
   ]
  },
  {
   "cell_type": "markdown",
   "metadata": {},
   "source": [
    "## Close MTH5\n",
    "\n",
    "We have now loaded in all the data we need for long period data.  We can now process these data using **Aurora** and have a look at the transfer functions using **MTpy**."
   ]
  },
  {
   "cell_type": "code",
   "execution_count": 19,
   "metadata": {},
   "outputs": [
    {
     "name": "stderr",
     "output_type": "stream",
     "text": [
      "2022-10-19 20:57:01,043 [line 755] mth5.mth5.MTH5.close_mth5 - INFO: Flushing and closing EM_WYYS2_MTF20.h5\n"
     ]
    }
   ],
   "source": [
    "mc.close_collection()"
   ]
  },
  {
   "cell_type": "code",
   "execution_count": null,
   "metadata": {},
   "outputs": [],
   "source": []
  }
 ],
 "metadata": {
  "kernelspec": {
   "display_name": "Python 3 (ipykernel)",
   "language": "python",
   "name": "python3"
  },
  "language_info": {
   "codemirror_mode": {
    "name": "ipython",
    "version": 3
   },
   "file_extension": ".py",
   "mimetype": "text/x-python",
   "name": "python",
   "nbconvert_exporter": "python",
   "pygments_lexer": "ipython3",
   "version": "3.8.13"
  },
  "toc-autonumbering": true,
  "toc-showmarkdowntxt": false
 },
 "nbformat": 4,
 "nbformat_minor": 4
}
