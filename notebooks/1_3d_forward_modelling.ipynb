{
 "cells": [
  {
   "cell_type": "markdown",
   "id": "5639d9e1",
   "metadata": {},
   "source": [
    "# 3D MT forward modelling\n",
    "\n",
    "## Learning goals\n",
    "\n",
    "- Understand **spatial features** of six different components of the transfer function measured: Zxx, Zxy, Zyy, Zyx, Tzx, Tzy. \n",
    "- Identify general structure of SimPEG forward modelling."
   ]
  },
  {
   "cell_type": "code",
   "execution_count": 1,
   "id": "d9af9252",
   "metadata": {},
   "outputs": [
    {
     "name": "stdout",
     "output_type": "stream",
     "text": [
      ">> Use cython version\n"
     ]
    }
   ],
   "source": [
    "import discretize\n",
    "from SimPEG.electromagnetics import natural_source as NSEM\n",
    "from SimPEG import utils\n",
    "import numpy as np\n",
    "import matplotlib.pyplot as plt\n",
    "from pymatsolver import Pardiso as Solver\n",
    "from matplotlib.colors import LogNorm\n",
    "import matplotlib\n",
    "matplotlib.rcParams['font.size'] = 16"
   ]
  },
  {
   "cell_type": "code",
   "execution_count": 2,
   "id": "4c82148a",
   "metadata": {},
   "outputs": [],
   "source": [
    "from SimPEG.electromagnetics import natural_source as NSEM"
   ]
  },
  {
   "cell_type": "markdown",
   "id": "2366ddd7",
   "metadata": {},
   "source": [
    "## Step 1: Discretize the domain using a 3D `Tensor` Mesh"
   ]
  },
  {
   "cell_type": "code",
   "execution_count": 3,
   "id": "07a46729",
   "metadata": {},
   "outputs": [],
   "source": [
    "# Make a mesh\n",
    "hx = [(100, 9, -1.5), (100.0, 13), (100, 9, 1.5)]\n",
    "hy = [(100, 9, -1.5), (100.0, 13), (100, 9, 1.5)]\n",
    "hz = [(50, 10, -1.6), (50.0, 10), (50, 6, 2)]\n",
    "hz = discretize.utils.mesh_utils.meshTensor(hz)\n",
    "mesh = discretize.TensorMesh(\n",
    "    [hx, hy, hz],\n",
    "    x0=[\"C\", \"C\", -hz[:20].sum()],\n",
    ")\n",
    "# Setup the model\n",
    "sig_block = 1\n",
    "sig_background = 1e-2\n",
    "conds = [sig_block, sig_background]\n",
    "sig = utils.model_builder.defineBlock(\n",
    "    mesh.gridCC, [-100, -300, -350], [100, 300, -150], conds\n",
    ")\n",
    "sig[mesh.gridCC[:, 2] > 0] = 1e-8\n",
    "sig[mesh.gridCC[:, 2] < -1000] = 1e-1\n",
    "sigBG = np.ones(mesh.nC) * sig_background\n",
    "sigBG[mesh.gridCC[:, 2] > 0] = 1e-8\n",
    "block_x = np.r_[-100, 100, 100, -100, -100]\n",
    "block_y = np.r_[-300, -300, 300, 300, -300]"
   ]
  },
  {
   "cell_type": "code",
   "execution_count": 4,
   "id": "a3390e7a",
   "metadata": {},
   "outputs": [
    {
     "data": {
      "text/plain": [
       "Text(0.5, 1.0, '')"
      ]
     },
     "execution_count": 4,
     "metadata": {},
     "output_type": "execute_result"
    },
    {
     "data": {
      "image/png": "[encoded data removed]",
      "text/plain": [
       "<Figure size 432x288 with 2 Axes>"
      ]
     },
     "metadata": {
      "needs_background": "light"
     },
     "output_type": "display_data"
    }
   ],
   "source": [
    "collect_obj = mesh.plotSlice(sig, grid=True, normal=\"Y\", pcolor_opts={'norm': LogNorm(vmin=1e-3, vmax=1), 'cmap':'turbo'})[0]\n",
    "cb = plt.colorbar(collect_obj, fraction=0.02)\n",
    "cb.set_label(\"Conductivity (S/m)\")\n",
    "plt.xlim(-650, 650)\n",
    "plt.ylim(-500, 0)\n",
    "plt.gca().set_aspect(1)\n",
    "plt.xlabel(\"Easting (m)\")\n",
    "plt.ylabel(\"Elevation (m)\")\n",
    "plt.title(\"\")"
   ]
  },
  {
   "cell_type": "code",
   "execution_count": 5,
   "id": "17bd6299",
   "metadata": {},
   "outputs": [
    {
     "data": {
      "text/plain": [
       "Text(0.5, 1.0, '')"
      ]
     },
     "execution_count": 5,
     "metadata": {},
     "output_type": "execute_result"
    },
    {
     "data": {
      "image/png": "[encoded data removed]",
      "text/plain": [
       "<Figure size 432x288 with 2 Axes>"
      ]
     },
     "metadata": {
      "needs_background": "light"
     },
     "output_type": "display_data"
    }
   ],
   "source": [
    "collect_obj = mesh.plotSlice(sig, grid=True, normal=\"Z\", pcolor_opts={'norm': LogNorm(vmin=1e-3, vmax=1), 'cmap':'turbo'})[0]\n",
    "cb = plt.colorbar(collect_obj, fraction=0.02)\n",
    "plt.xlim(-650, 650)\n",
    "plt.ylim(-650, 650)\n",
    "plt.gca().set_aspect(1)\n",
    "plt.xlabel(\"Eorthing (m)\")\n",
    "plt.ylabel(\"Northing (m)\")\n",
    "cb.set_label(\"Conductivity (S/m)\")\n",
    "plt.title(\"\")"
   ]
  },
  {
   "cell_type": "markdown",
   "id": "e45d9067",
   "metadata": {},
   "source": [
    "## Step 2: Setup a `Survey` "
   ]
  },
  {
   "cell_type": "code",
   "execution_count": 6,
   "id": "ab038726",
   "metadata": {},
   "outputs": [],
   "source": [
    "# Setup the the survey object\n",
    "# Receiver locations\n",
    "rx_x, rx_y = np.meshgrid(np.arange(-600, 601, 100), np.arange(-600, 601, 100))\n",
    "rx_loc = np.hstack(\n",
    "    (utils.mkvc(rx_x, 2), utils.mkvc(rx_y, 2), np.zeros((np.prod(rx_x.shape), 1)))\n",
    ")\n",
    "\n",
    "# frequencies = np.logspace(4, -2, 13)\n",
    "frequencies = [1]\n",
    "\n",
    "# Make a receiver list\n",
    "rxList = []\n",
    "for rx_orientation in [\"xx\", \"xy\", \"yx\", \"yy\"]:\n",
    "    rxList.append(NSEM.Rx.PointNaturalSource(rx_loc, rx_orientation, \"real\"))\n",
    "    rxList.append(NSEM.Rx.PointNaturalSource(rx_loc, rx_orientation, \"imag\"))\n",
    "    \n",
    "for rx_orientation in [\"zx\", \"zy\"]:\n",
    "\n",
    "    # added ztem flag\n",
    "    rx_real = NSEM.Rx.Point3DTipper(rx_loc, rx_orientation, \"real\")\n",
    "    rx_imag = NSEM.Rx.Point3DTipper(rx_loc, rx_orientation, \"imag\")\n",
    "    rxList.append(rx_real)\n",
    "    rxList.append(rx_imag)\n",
    "\n",
    "# Source list\n",
    "srcList = [\n",
    "    NSEM.Src.Planewave_xy_1Dprimary(rxList, freq) for freq in frequencies\n",
    "]\n",
    "# Survey MT\n",
    "survey = NSEM.Survey(srcList)"
   ]
  },
  {
   "cell_type": "markdown",
   "id": "7ee17d60",
   "metadata": {},
   "source": [
    "## Step 3: Setup a 3D MT `Simulation` and run forward modelling"
   ]
  },
  {
   "cell_type": "code",
   "execution_count": 7,
   "id": "a1906445",
   "metadata": {},
   "outputs": [],
   "source": [
    "from SimPEG import maps"
   ]
  },
  {
   "cell_type": "code",
   "execution_count": 8,
   "id": "fe7964a9",
   "metadata": {},
   "outputs": [
    {
     "name": "stdout",
     "output_type": "stream",
     "text": [
      "Wall time: 7.26 s\n"
     ]
    }
   ],
   "source": [
    "%%time\n",
    "# Setup the simulation object\n",
    "simulation = NSEM.Simulation3DPrimarySecondary(\n",
    "    mesh, survey=survey, solver=Solver, sigma=sig, sigmaPrimary=sigBG\n",
    ")\n",
    "\n",
    "f = simulation.fields()\n",
    "dpred = simulation.dpred(f=f)"
   ]
  },
  {
   "cell_type": "markdown",
   "id": "21b2faf6",
   "metadata": {},
   "source": [
    "## Step 4: Explore transfer functions"
   ]
  },
  {
   "cell_type": "code",
   "execution_count": 9,
   "id": "51517499",
   "metadata": {},
   "outputs": [],
   "source": [
    "n_freq = len(frequencies)\n",
    "n_rx = rx_loc.shape[0]"
   ]
  },
  {
   "cell_type": "code",
   "execution_count": 10,
   "id": "4192f73e",
   "metadata": {},
   "outputs": [],
   "source": [
    "z_xx_r = dpred.reshape((n_freq, n_rx, len(rxList)), order='F')[:, :,0]\n",
    "z_xx_i = dpred.reshape((n_freq, n_rx, len(rxList)), order='F')[:, :,1]\n",
    "z_xy_r = dpred.reshape((n_freq, n_rx, len(rxList)), order='F')[:, :,2]\n",
    "z_xy_i = dpred.reshape((n_freq, n_rx, len(rxList)), order='F')[:, :,3]\n",
    "z_yx_r = dpred.reshape((n_freq, n_rx, len(rxList)), order='F')[:, :,4]\n",
    "z_yx_i = dpred.reshape((n_freq, n_rx, len(rxList)), order='F')[:, :,5]\n",
    "z_yy_r = dpred.reshape((n_freq, n_rx, len(rxList)), order='F')[:, :,6]\n",
    "z_yy_i = dpred.reshape((n_freq, n_rx, len(rxList)), order='F')[:, :,7]\n",
    "t_zx_r = dpred.reshape((n_freq, n_rx, len(rxList)), order='F')[:, :,8]\n",
    "t_zx_i = dpred.reshape((n_freq, n_rx, len(rxList)), order='F')[:, :,9]\n",
    "t_zy_r = dpred.reshape((n_freq, n_rx, len(rxList)), order='F')[:, :,10]\n",
    "t_zy_i = dpred.reshape((n_freq, n_rx, len(rxList)), order='F')[:, :,11]"
   ]
  },
  {
   "cell_type": "markdown",
   "id": "523ac2c2",
   "metadata": {},
   "source": [
    "- zxx --> zyy\n",
    "- zxy --> zyx\n",
    "- zyx --> zxy\n",
    "- zyy --> zyy\n",
    "- tzx --> -tzy\n",
    "- tzy --> -tzx"
   ]
  },
  {
   "cell_type": "code",
   "execution_count": 11,
   "id": "1016d2bf",
   "metadata": {},
   "outputs": [],
   "source": [
    "mt_data={\n",
    "    \"z_xy_r\": z_yx_r.copy(),\n",
    "    \"z_xy_i\": z_yx_i.copy(),\n",
    "    \"z_yx_r\": z_xy_r.copy(),\n",
    "    \"z_yx_i\": z_xy_i.copy(),\n",
    "    \"z_xx_r\": z_yy_r.copy(),\n",
    "    \"z_xx_i\": z_yy_i.copy(),\n",
    "    \"z_yy_r\": z_xx_r.copy(),\n",
    "    \"z_yy_i\": z_xx_i.copy(),\n",
    "    \"t_zx_r\": -t_zy_r.copy(),\n",
    "    \"t_zx_i\": -t_zy_i.copy(),\n",
    "    \"t_zy_r\": -t_zx_r.copy(),\n",
    "    \"t_zy_i\": -t_zx_i.copy(),\n",
    "}\n",
    "names_real = list(mt_data.keys())[::2]\n",
    "names_imag = list(mt_data.keys())[1::2]"
   ]
  },
  {
   "cell_type": "code",
   "execution_count": 12,
   "id": "facc463c",
   "metadata": {},
   "outputs": [],
   "source": [
    "from ipywidgets import widgets, interact\n",
    "def foo_transfer(name):\n",
    "    fig, ax = plt.subplots(1,1, figsize=(10, 10))\n",
    "    out = utils.plot2Ddata(rx_loc[:,:2], mt_data[name].flatten(), ax=ax, dataloc=True, ncontour=20, contourOpts={'cmap':'turbo'})\n",
    "    ax.plot(block_x, block_y, color='k', lw=4)\n",
    "    plt.colorbar(out[0], fraction=0.03)\n",
    "    ax.set_title(name)\n",
    "    ax.set_xlabel('Y (m)')\n",
    "    ax.set_ylabel('X (m)')"
   ]
  },
  {
   "cell_type": "code",
   "execution_count": 13,
   "id": "4b53ae13",
   "metadata": {},
   "outputs": [
    {
     "data": {
      "application/vnd.jupyter.widget-view+json": {
       "model_id": "9b87c08cf3cb4cf5b5bfea7e7346997c",
       "version_major": 2,
       "version_minor": 0
      },
      "text/plain": [
       "interactive(children=(Select(description='name', options=('z_xy_r', 'z_yx_r', 'z_xx_r', 'z_yy_r', 't_zx_r', 't…"
      ]
     },
     "metadata": {},
     "output_type": "display_data"
    }
   ],
   "source": [
    "Q = interact(foo_transfer, name=widgets.Select(options=names_real))"
   ]
  },
  {
   "cell_type": "markdown",
   "id": "e33f5963",
   "metadata": {},
   "source": [
    "## Step 5: Explore E and H fields"
   ]
  },
  {
   "cell_type": "code",
   "execution_count": 14,
   "id": "c5a1eaf5",
   "metadata": {},
   "outputs": [],
   "source": [
    "# Get e and h fields\n",
    "e = f[srcList[0], 'e']\n",
    "h = f[srcList[0], 'h']\n",
    "\n",
    "# Generate interpolation matricies\n",
    "Pex = mesh.get_interpolation_matrix(rx_loc, location_type='edges_x')\n",
    "Pey = mesh.get_interpolation_matrix(rx_loc, location_type='edges_y')\n",
    "Pfx = mesh.get_interpolation_matrix(rx_loc, location_type='faces_x')\n",
    "Pfy = mesh.get_interpolation_matrix(rx_loc, location_type='faces_y')\n",
    "Pfz = mesh.get_interpolation_matrix(rx_loc, location_type='faces_z')\n",
    "\n",
    "# Interpolate onto receiver locations\n",
    "ex = Pex * e\n",
    "ey = Pey * e\n",
    "hx = Pfx * h\n",
    "hy = Pfy * h\n",
    "hz = Pfz * h\n",
    "\n",
    "ex_tr = ey.copy()\n",
    "ey_tr = ex.copy()\n",
    "\n",
    "hx_tr = hy.copy()\n",
    "hy_tr = hx.copy()\n",
    "hz_tr = -hz.copy()\n",
    "\n",
    "mt_eh_data={\n",
    "    \"ex_jy\": ex_tr[:,0].copy(),\n",
    "    \"ex_jx\": ex_tr[:,1].copy(),\n",
    "    \"ey_jy\": ey_tr[:,0].copy(),\n",
    "    \"ey_jx\": ey_tr[:,1].copy(),\n",
    "    \"hx_jy\": hx_tr[:,0].copy(),\n",
    "    \"hx_jx\": hx_tr[:,1].copy(),\n",
    "    \"hy_jy\": hy_tr[:,0].copy(),\n",
    "    \"hy_jx\": hy_tr[:,1].copy(),\n",
    "    \"hz_jy\": hz_tr[:,0].copy(),\n",
    "    \"hz_jx\": hz_tr[:,1].copy(),\n",
    "}\n",
    "names_eh = list(mt_eh_data.keys())"
   ]
  },
  {
   "cell_type": "code",
   "execution_count": 15,
   "id": "953a95f5",
   "metadata": {},
   "outputs": [],
   "source": [
    "def foo_eh(name):\n",
    "    fig, ax = plt.subplots(1,1, figsize=(10, 10))\n",
    "    out = utils.plot2Ddata(rx_loc[:,:2], mt_eh_data[name].real.flatten(), ax=ax, dataloc=True, ncontour=20, contourOpts={'cmap':'turbo'})\n",
    "    ax.plot(block_x, block_y, color='k', lw=4)\n",
    "    plt.colorbar(out[0], fraction=0.03)\n",
    "    ax.set_title(name)\n",
    "    ax.set_xlabel('Y (m)')\n",
    "    ax.set_ylabel('X (m)')"
   ]
  },
  {
   "cell_type": "code",
   "execution_count": 16,
   "id": "147bb85f",
   "metadata": {},
   "outputs": [
    {
     "data": {
      "application/vnd.jupyter.widget-view+json": {
       "model_id": "883af1e518d1442291885c9d8d8f4035",
       "version_major": 2,
       "version_minor": 0
      },
      "text/plain": [
       "interactive(children=(Select(description='name', options=('ex_jy', 'ex_jx', 'ey_jy', 'ey_jx', 'hx_jy', 'hx_jx'…"
      ]
     },
     "metadata": {},
     "output_type": "display_data"
    }
   ],
   "source": [
    "Q = interact(foo_eh, name=widgets.Select(options=names_eh))"
   ]
  },
  {
   "cell_type": "code",
   "execution_count": null,
   "id": "0bf314c9",
   "metadata": {},
   "outputs": [],
   "source": []
  }
 ],
 "metadata": {
  "kernelspec": {
   "display_name": "Python 3",
   "language": "python",
   "name": "python3"
  },
  "language_info": {
   "codemirror_mode": {
    "name": "ipython",
    "version": 3
   },
   "file_extension": ".py",
   "mimetype": "text/x-python",
   "name": "python",
   "nbconvert_exporter": "python",
   "pygments_lexer": "ipython3",
   "version": "3.8.8"
  }
 },
 "nbformat": 4,
 "nbformat_minor": 5
}
