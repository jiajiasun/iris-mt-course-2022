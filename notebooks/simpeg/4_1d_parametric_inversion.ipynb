{
 "cells": [
  {
   "cell_type": "markdown",
   "id": "3a59c204",
   "metadata": {
    "iooxa": {
     "id": {
      "block": "i3BrtdWa0PsBtdvBNyEW",
      "project": "BZ9XlZu3TFKIem4fwsfm",
      "version": 1
     },
     "outputId": null
    }
   },
   "source": [
    "# 1D MT parametric inversion\n",
    "\n",
    "## Learning goals\n",
    "\n",
    "- Run 1D MT inversion for the same field data that you conducted a manual parametric fitting."
   ]
  },
  {
   "cell_type": "code",
   "execution_count": 1,
   "id": "f35b91e5",
   "metadata": {},
   "outputs": [
    {
     "name": "stdout",
     "output_type": "stream",
     "text": [
      ">> Use cython version\n"
     ]
    }
   ],
   "source": [
    "import numpy as np\n",
    "from SimPEG.electromagnetics import natural_source as nsem\n",
    "from SimPEG import maps\n",
    "import matplotlib.pyplot as plt\n",
    "import matplotlib\n",
    "from SimPEG.utils import plot_1d_layer_model\n",
    "from discretize import TensorMesh\n",
    "from SimPEG import (\n",
    "    maps,\n",
    "    data,\n",
    "    data_misfit,\n",
    "    regularization,\n",
    "    optimization,\n",
    "    inverse_problem,\n",
    "    inversion,\n",
    "    directives,\n",
    "    utils,\n",
    ")"
   ]
  },
  {
   "cell_type": "code",
   "execution_count": 2,
   "id": "560c7855",
   "metadata": {
    "iooxa": {
     "id": {
      "block": "e6BxtXkvJSgOMX6YVcXf",
      "project": "BZ9XlZu3TFKIem4fwsfm",
      "version": 1
     },
     "outputId": {
      "block": "4tPZDoTuoztSH3sJUve2",
      "project": "BZ9XlZu3TFKIem4fwsfm",
      "version": 1
     }
    }
   },
   "outputs": [
    {
     "name": "stderr",
     "output_type": "stream",
     "text": [
      "2022-10-14 12:21:15,251 [line 135] mtpy.get_mtpy_logger - INFO: Logging file can be found C:\\Users\\sgkan\\anaconda3\\lib\\site-packages\\mtpy-2.0.0-py3.8.egg\\logs\\mtpy_debug.log\n",
      "2022-10-14 12:21:15,256 [line 135] error.get_mtpy_logger - INFO: Logging file can be found C:\\Users\\sgkan\\anaconda3\\lib\\site-packages\\mtpy-2.0.0-py3.8.egg\\logs\\mtpy_error.log\n",
      "2022-10-14 12:21:15,258 [line 135] matplotlib.get_mtpy_logger - INFO: Logging file can be found C:\\Users\\sgkan\\anaconda3\\lib\\site-packages\\mtpy-2.0.0-py3.8.egg\\logs\\matplotlib_warn.log\n",
      "2022-10-14 12:21:17,957 [line 44] mtpy.utils.gis_tools.<module> - INFO: INFO: GDAL version 3 detected\n",
      "C:\\Users\\sgkan\\anaconda3\\lib\\_collections_abc.py:720: MatplotlibDeprecationWarning: The global colormaps dictionary is no longer considered public API.\n",
      "  yield from self._mapping\n",
      "C:\\Users\\sgkan\\anaconda3\\lib\\site-packages\\mtpy-2.0.0-py3.8.egg\\mtpy\\imaging\\mtcolors.py:284: MatplotlibDeprecationWarning: The global colormaps dictionary is no longer considered public API.\n",
      "  cmapdict.update(cm.cmap_d)\n",
      "2022-10-14 12:21:18,440 [line 135] mth5.setup_logger - INFO: Logging file can be found C:\\Users\\sgkan\\anaconda3\\lib\\site-packages\\mth5-0.3.0-py3.8.egg\\logs\\mth5_debug.log\n",
      "2022-10-14 12:21:18,479 [line 135] mtpy.core.mt_collection.MTCollection.get_mtpy_logger - INFO: Logging file can be found C:\\Users\\sgkan\\anaconda3\\lib\\site-packages\\mtpy-2.0.0-py3.8.egg\\logs\\mt_collection.log\n"
     ]
    }
   ],
   "source": [
    "from mtpy import MTCollection\n",
    "mc = MTCollection()\n",
    "mc.open_collection(r\"../data/yellowstone_mt_collection.h5\")\n",
    "\n",
    "from ipywidgets import widgets, interact\n",
    "station_names = mc.dataframe.station.values\n",
    "def foo(name):\n",
    "    tf = mc.get_tf(name)\n",
    "    tf.plot_mt_response()"
   ]
  },
  {
   "cell_type": "code",
   "execution_count": 3,
   "id": "99bc4a3f",
   "metadata": {
    "iooxa": {
     "id": {
      "block": "wt5bWojweG4UR441OuA0",
      "project": "BZ9XlZu3TFKIem4fwsfm",
      "version": 1
     },
     "outputId": {
      "block": "BGTF23OImrAlVotwKOLw",
      "project": "BZ9XlZu3TFKIem4fwsfm",
      "version": 1
     }
    }
   },
   "outputs": [
    {
     "data": {
      "application/vnd.jupyter.widget-view+json": {
       "model_id": "f410d97999b04b4b899b994939da48da",
       "version_major": 2,
       "version_minor": 0
      },
      "text/plain": [
       "interactive(children=(Select(description='name', index=144, options=('IDD11', 'IDD12', 'IDE11', 'IDE12', 'IDF1…"
      ]
     },
     "metadata": {},
     "output_type": "display_data"
    }
   ],
   "source": [
    "Q = interact(foo, name=widgets.Select(options=station_names, value='YNP05S'))"
   ]
  },
  {
   "cell_type": "code",
   "execution_count": 4,
   "id": "f926f5b1",
   "metadata": {
    "iooxa": {
     "id": {
      "block": "Sqg7hAjZkzwLVZocbx5j",
      "project": "BZ9XlZu3TFKIem4fwsfm",
      "version": 1
     },
     "outputId": {
      "block": "5VCnoxT9xVMxYJHXi10O",
      "project": "BZ9XlZu3TFKIem4fwsfm",
      "version": 1
     }
    }
   },
   "outputs": [
    {
     "name": "stderr",
     "output_type": "stream",
     "text": [
      "2022-10-14 12:21:20,734 [line 275] mtpy.core.mt_collection.MTCollection.get_tf - WARNING: Found multiple transfer functions with ID YNP05S. Suggest setting survey, otherwise returning the TF from survey YSBB.\n"
     ]
    },
    {
     "data": {
      "text/plain": [
       "Text(0.5, 1.0, 'YNP05S')"
      ]
     },
     "execution_count": 4,
     "metadata": {},
     "output_type": "execute_result"
    },
    {
     "data": {
      "image/png": "[encoded data removed]",
      "text/plain": [
       "<Figure size 360x360 with 1 Axes>"
      ]
     },
     "metadata": {
      "needs_background": "light"
     },
     "output_type": "display_data"
    }
   ],
   "source": [
    "name = Q.widget.kwargs['name']\n",
    "tf = mc.get_tf(name)\n",
    "fig, ax = plt.subplots(1,1, figsize=(5,5))\n",
    "mc.dataframe.plot(x='longitude', y='latitude', marker='.', linestyle='None', ax=ax)\n",
    "ax.plot(tf.longitude, tf.latitude, 'ro')\n",
    "ax.set_title(name)"
   ]
  },
  {
   "cell_type": "code",
   "execution_count": 5,
   "id": "bd7437c8",
   "metadata": {
    "iooxa": {
     "id": {
      "block": "hiOWMHQ3Ox6QUlX4aQ2e",
      "project": "BZ9XlZu3TFKIem4fwsfm",
      "version": 1
     },
     "outputId": null
    }
   },
   "outputs": [],
   "source": [
    "frequencies = 1./tf.period\n",
    "n_layer = 5\n",
    "wire_map = maps.Wires((\"sigma\", n_layer), (\"t\", n_layer - 1))\n",
    "sigma_map = maps.ExpMap(nP=n_layer) * wire_map.sigma\n",
    "layer_map = maps.ExpMap(nP=n_layer - 1) * wire_map.t\n",
    "\n",
    "\n",
    "model_mapping = maps.IdentityMap(nP=n_layer)\n",
    "\n",
    "receivers_list = [\n",
    "    nsem.receivers.PointNaturalSource(component=\"app_res\"),\n",
    "    nsem.receivers.PointNaturalSource(component=\"phase\"),\n",
    "]\n",
    "\n",
    "source_list = []\n",
    "for freq in frequencies:\n",
    "    source_list.append(nsem.sources.Planewave(receivers_list, freq))\n",
    "\n",
    "survey = nsem.survey.Survey(source_list)\n",
    "\n",
    "simulation = nsem.simulation_1d.Simulation1DRecursive(\n",
    "    survey=survey, \n",
    "    sigmaMap=sigma_map,\n",
    "    thicknessesMap=layer_map,\n",
    ")"
   ]
  },
  {
   "cell_type": "code",
   "execution_count": 6,
   "id": "04cc12fa",
   "metadata": {
    "iooxa": {
     "id": {
      "block": "GEGMuvaauhiIJsAQjU7T",
      "project": "BZ9XlZu3TFKIem4fwsfm",
      "version": 1
     },
     "outputId": {
      "block": "lpwZpg6JtZPnbdhhG5sc",
      "project": "BZ9XlZu3TFKIem4fwsfm",
      "version": 1
     }
    }
   },
   "outputs": [
    {
     "ename": "AttributeError",
     "evalue": "'DataArray' object has no attribute 'to_numpy'",
     "output_type": "error",
     "traceback": [
      "\u001b[1;31m---------------------------------------------------------------------------\u001b[0m",
      "\u001b[1;31mAttributeError\u001b[0m                            Traceback (most recent call last)",
      "\u001b[1;32m<ipython-input-6-ae8724d69e05>\u001b[0m in \u001b[0;36m<module>\u001b[1;34m\u001b[0m\n\u001b[0;32m      2\u001b[0m \u001b[0mfig\u001b[0m\u001b[1;33m,\u001b[0m \u001b[0maxs\u001b[0m \u001b[1;33m=\u001b[0m \u001b[0mplt\u001b[0m\u001b[1;33m.\u001b[0m\u001b[0msubplots\u001b[0m\u001b[1;33m(\u001b[0m\u001b[1;36m2\u001b[0m\u001b[1;33m,\u001b[0m\u001b[1;36m1\u001b[0m\u001b[1;33m)\u001b[0m\u001b[1;33m\u001b[0m\u001b[1;33m\u001b[0m\u001b[0m\n\u001b[0;32m      3\u001b[0m \u001b[0max1\u001b[0m\u001b[1;33m,\u001b[0m \u001b[0max2\u001b[0m \u001b[1;33m=\u001b[0m \u001b[0maxs\u001b[0m\u001b[1;33m\u001b[0m\u001b[1;33m\u001b[0m\u001b[0m\n\u001b[1;32m----> 4\u001b[1;33m \u001b[0max1\u001b[0m\u001b[1;33m.\u001b[0m\u001b[0mhist\u001b[0m\u001b[1;33m(\u001b[0m\u001b[0mtf\u001b[0m\u001b[1;33m.\u001b[0m\u001b[0mZ\u001b[0m\u001b[1;33m.\u001b[0m\u001b[0mres_err_det\u001b[0m\u001b[1;33m/\u001b[0m\u001b[0mtf\u001b[0m\u001b[1;33m.\u001b[0m\u001b[0mZ\u001b[0m\u001b[1;33m.\u001b[0m\u001b[0mres_det\u001b[0m\u001b[1;33m)\u001b[0m\u001b[1;33m\u001b[0m\u001b[1;33m\u001b[0m\u001b[0m\n\u001b[0m\u001b[0;32m      5\u001b[0m \u001b[0max2\u001b[0m\u001b[1;33m.\u001b[0m\u001b[0mhist\u001b[0m\u001b[1;33m(\u001b[0m\u001b[0mtf\u001b[0m\u001b[1;33m.\u001b[0m\u001b[0mZ\u001b[0m\u001b[1;33m.\u001b[0m\u001b[0mphase_err_det\u001b[0m\u001b[1;33m)\u001b[0m\u001b[1;33m\u001b[0m\u001b[1;33m\u001b[0m\u001b[0m\n",
      "\u001b[1;32m~\\anaconda3\\lib\\site-packages\\mtpy-2.0.0-py3.8.egg\\mtpy\\core\\mt.py\u001b[0m in \u001b[0;36mZ\u001b[1;34m(self)\u001b[0m\n\u001b[0;32m    140\u001b[0m         \u001b[1;32mif\u001b[0m \u001b[0mself\u001b[0m\u001b[1;33m.\u001b[0m\u001b[0mhas_impedance\u001b[0m\u001b[1;33m(\u001b[0m\u001b[1;33m)\u001b[0m\u001b[1;33m:\u001b[0m\u001b[1;33m\u001b[0m\u001b[1;33m\u001b[0m\u001b[0m\n\u001b[0;32m    141\u001b[0m             return Z(\n\u001b[1;32m--> 142\u001b[1;33m                 \u001b[0mz_array\u001b[0m\u001b[1;33m=\u001b[0m\u001b[0mself\u001b[0m\u001b[1;33m.\u001b[0m\u001b[0mimpedance\u001b[0m\u001b[1;33m.\u001b[0m\u001b[0mto_numpy\u001b[0m\u001b[1;33m(\u001b[0m\u001b[1;33m)\u001b[0m\u001b[1;33m,\u001b[0m\u001b[1;33m\u001b[0m\u001b[1;33m\u001b[0m\u001b[0m\n\u001b[0m\u001b[0;32m    143\u001b[0m                 \u001b[0mz_err_array\u001b[0m\u001b[1;33m=\u001b[0m\u001b[0mself\u001b[0m\u001b[1;33m.\u001b[0m\u001b[0mimpedance_error\u001b[0m\u001b[1;33m.\u001b[0m\u001b[0mto_numpy\u001b[0m\u001b[1;33m(\u001b[0m\u001b[1;33m)\u001b[0m\u001b[1;33m,\u001b[0m\u001b[1;33m\u001b[0m\u001b[1;33m\u001b[0m\u001b[0m\n\u001b[0;32m    144\u001b[0m                 \u001b[0mfreq\u001b[0m\u001b[1;33m=\u001b[0m\u001b[0mself\u001b[0m\u001b[1;33m.\u001b[0m\u001b[0mfrequency\u001b[0m\u001b[1;33m,\u001b[0m\u001b[1;33m\u001b[0m\u001b[1;33m\u001b[0m\u001b[0m\n",
      "\u001b[1;32m~\\anaconda3\\lib\\site-packages\\xarray\\core\\common.py\u001b[0m in \u001b[0;36m__getattr__\u001b[1;34m(self, name)\u001b[0m\n\u001b[0;32m    237\u001b[0m                 \u001b[1;32mwith\u001b[0m \u001b[0msuppress\u001b[0m\u001b[1;33m(\u001b[0m\u001b[0mKeyError\u001b[0m\u001b[1;33m)\u001b[0m\u001b[1;33m:\u001b[0m\u001b[1;33m\u001b[0m\u001b[1;33m\u001b[0m\u001b[0m\n\u001b[0;32m    238\u001b[0m                     \u001b[1;32mreturn\u001b[0m \u001b[0msource\u001b[0m\u001b[1;33m[\u001b[0m\u001b[0mname\u001b[0m\u001b[1;33m]\u001b[0m\u001b[1;33m\u001b[0m\u001b[1;33m\u001b[0m\u001b[0m\n\u001b[1;32m--> 239\u001b[1;33m         raise AttributeError(\n\u001b[0m\u001b[0;32m    240\u001b[0m             \u001b[1;34m\"{!r} object has no attribute {!r}\"\u001b[0m\u001b[1;33m.\u001b[0m\u001b[0mformat\u001b[0m\u001b[1;33m(\u001b[0m\u001b[0mtype\u001b[0m\u001b[1;33m(\u001b[0m\u001b[0mself\u001b[0m\u001b[1;33m)\u001b[0m\u001b[1;33m.\u001b[0m\u001b[0m__name__\u001b[0m\u001b[1;33m,\u001b[0m \u001b[0mname\u001b[0m\u001b[1;33m)\u001b[0m\u001b[1;33m\u001b[0m\u001b[1;33m\u001b[0m\u001b[0m\n\u001b[0;32m    241\u001b[0m         )\n",
      "\u001b[1;31mAttributeError\u001b[0m: 'DataArray' object has no attribute 'to_numpy'"
     ]
    },
    {
     "data": {
      "image/png": "[encoded data removed]",
      "text/plain": [
       "<Figure size 432x288 with 2 Axes>"
      ]
     },
     "metadata": {
      "needs_background": "light"
     },
     "output_type": "display_data"
    }
   ],
   "source": [
    "matplotlib.rcParams['font.size'] = 14\n",
    "fig, axs = plt.subplots(2,1)\n",
    "ax1, ax2 = axs\n",
    "ax1.hist(tf.Z.res_err_det/tf.Z.res_det)\n",
    "ax2.hist(tf.Z.phase_err_det)"
   ]
  },
  {
   "cell_type": "code",
   "execution_count": null,
   "id": "19815a79",
   "metadata": {
    "iooxa": {
     "id": {
      "block": "Tdf3fMYwqBzoZecGq5Wg",
      "project": "BZ9XlZu3TFKIem4fwsfm",
      "version": 1
     },
     "outputId": null
    }
   },
   "outputs": [],
   "source": [
    "app_rho = tf.Z.res_det.copy()\n",
    "phase = tf.Z.phase_det.copy()\n",
    "std = np.c_[abs(app_rho)*0.03, np.ones(len(phase))*2].flatten()\n",
    "noise = np.c_[np.random.randn(app_rho.size)*0.03*abs(app_rho), np.random.randn(app_rho.size)*2].flatten()\n",
    "dobs = np.c_[app_rho, phase].flatten()\n",
    "data_object = data.Data(survey, dobs=dobs, standard_deviation=std)"
   ]
  },
  {
   "cell_type": "code",
   "execution_count": null,
   "id": "cf77db06",
   "metadata": {
    "iooxa": {
     "id": {
      "block": "Guu2TKxiXo6mnfZxC4ld",
      "project": "BZ9XlZu3TFKIem4fwsfm",
      "version": 1
     },
     "outputId": null
    }
   },
   "outputs": [],
   "source": [
    "starting_model = np.log(np.r_[np.ones(n_layer)*1./100, np.ones(n_layer-1)*1000])"
   ]
  },
  {
   "cell_type": "code",
   "execution_count": null,
   "id": "f207a537",
   "metadata": {
    "iooxa": {
     "id": {
      "block": "5gfiGJA42Sc4sUtH7hXG",
      "project": "BZ9XlZu3TFKIem4fwsfm",
      "version": 1
     },
     "outputId": {
      "block": "KUpbuEl7y5TecgMF7zHZ",
      "project": "BZ9XlZu3TFKIem4fwsfm",
      "version": 1
     }
    },
    "scrolled": false
   },
   "outputs": [],
   "source": [
    "# Define the data misfit. Here the data misfit is the L2 norm of the weighted\n",
    "# residual between the observed data and the data predicted for a given model.\n",
    "# Within the data misfit, the residual between predicted and observed data are\n",
    "# normalized by the data's standard deviation.\n",
    "dmis = data_misfit.L2DataMisfit(simulation=simulation, data=data_object)\n",
    "mesh = TensorMesh([n_layer])\n",
    "# Define the regularization on the parameters related to resistivity\n",
    "mesh_sigma = TensorMesh([mesh.hx.size])\n",
    "reg_sigma = regularization.Simple(mesh_sigma, alpha_s=0.01, alpha_x=0, mapping=wire_map.sigma)\n",
    "\n",
    "# Define the regularization on the parameters related to layer thickness\n",
    "mesh_t = TensorMesh([mesh.hx.size - 1])\n",
    "reg_t = regularization.Simple(mesh_t, alpha_s=0.01, alpha_x=0, mapping=wire_map.t)\n",
    "\n",
    "# Combine to make regularization for the inversion problem\n",
    "reg = reg_sigma + reg_t\n",
    "\n",
    "# Define how the optimization problem is solved. Here we will use an inexact\n",
    "# Gauss-Newton approach that employs the conjugate gradient solver.\n",
    "opt = optimization.InexactGaussNewton(maxIter=30, maxIterCG=50)\n",
    "\n",
    "# Define the inverse problem\n",
    "inv_prob = inverse_problem.BaseInvProblem(dmis, reg, opt)\n",
    "\n",
    "#######################################################################\n",
    "# Define Inversion Directives\n",
    "# ---------------------------\n",
    "#\n",
    "# Here we define any directives that are carried out during the inversion. This\n",
    "# includes the cooling schedule for the trade-off parameter (beta), stopping\n",
    "# criteria for the inversion and saving inversion results at each iteration.\n",
    "#\n",
    "\n",
    "# Apply and update sensitivity weighting as the model updates\n",
    "update_sensitivity_weights = directives.UpdateSensitivityWeights()\n",
    "\n",
    "# Defining a starting value for the trade-off parameter (beta) between the data\n",
    "# misfit and the regularization.\n",
    "starting_beta = directives.BetaEstimate_ByEig(beta0_ratio=1e0)\n",
    "\n",
    "# Set the rate of reduction in trade-off parameter (beta) each time the\n",
    "# the inverse problem is solved. And set the number of Gauss-Newton iterations\n",
    "# for each trade-off paramter value.\n",
    "beta_schedule = directives.BetaSchedule(coolingFactor=5.0, coolingRate=3)\n",
    "\n",
    "# Options for outputting recovered models and predicted data for each beta.\n",
    "save_iteration = directives.SaveOutputEveryIteration(save_txt=False)\n",
    "\n",
    "# Setting a stopping criteria for the inversion.\n",
    "target_misfit = directives.TargetMisfit(chifact=1)\n",
    "\n",
    "# The directives are defined in a list\n",
    "directives_list = [\n",
    "    update_sensitivity_weights,\n",
    "    starting_beta,\n",
    "    beta_schedule,\n",
    "    target_misfit,\n",
    "]\n",
    "\n",
    "#####################################################################\n",
    "# Running the Inversion\n",
    "# ---------------------\n",
    "#\n",
    "# To define the inversion object, we need to define the inversion problem and\n",
    "# the set of directives. We can then run the inversion.\n",
    "#\n",
    "\n",
    "# Here we combine the inverse problem and the set of directives\n",
    "inv = inversion.BaseInversion(inv_prob, directiveList=directives_list)\n",
    "\n",
    "# Run the inversion\n",
    "recovered_model = inv.run(starting_model)"
   ]
  },
  {
   "cell_type": "code",
   "execution_count": null,
   "id": "c771cd6a",
   "metadata": {
    "iooxa": {
     "id": {
      "block": "nvNTp4j1almASa2IanlK",
      "project": "BZ9XlZu3TFKIem4fwsfm",
      "version": 1
     },
     "outputId": {
      "block": "QDcgcHg52Fjfq7KyF4fs",
      "project": "BZ9XlZu3TFKIem4fwsfm",
      "version": 1
     }
    }
   },
   "outputs": [],
   "source": [
    "import matplotlib.gridspec as gridspec\n",
    "matplotlib.rcParams['font.size'] = 10\n",
    "fig = plt.figure(figsize=(16*0.5, 5*0.5))\n",
    "gs = gridspec.GridSpec(1, 5, figure=fig)\n",
    "\n",
    "ax0 = fig.add_subplot(gs[0, 0])\n",
    "x_min = 1\n",
    "x_max = 1000\n",
    "\n",
    "plot_1d_layer_model(\n",
    "    (layer_map * recovered_model)[::-1],\n",
    "    (1./(sigma_map * recovered_model))[::-1],\n",
    "    ax=ax0,\n",
    "    color=\"k\"\n",
    ")\n",
    "ax0.set_xlabel(\"Resistivity ($\\Omega$m)\")\n",
    "ax0.set_xlim(1, 1e4)\n",
    "\n",
    "ax = fig.add_subplot(gs[0, 2:])\n",
    "ax.loglog(1./frequencies, dobs.reshape((len(frequencies), 2))[:,0], 'x', color='C0', label='Obs.-Amp.')\n",
    "ax.loglog(1./frequencies, inv_prob.dpred.reshape((len(frequencies), 2))[:,0], color='C0', label='Pred.-Amp.')\n",
    "ax_1 = ax.twinx()\n",
    "ax_1.plot(1./frequencies, dobs.reshape((len(frequencies), 2))[:,1], 'x', color='C1', label='Obs.-Pha.')\n",
    "ax_1.plot(1./frequencies, inv_prob.dpred.reshape((len(frequencies), 2))[:,1], color='C1', label='Pred.-Pha.')\n",
    "ax.set_xlabel(\"Period (s)\")\n",
    "ax.grid(True, which='both', alpha=0.5)\n",
    "ax.set_ylabel(\"Apparent resistivity ($\\Omega$m)\")\n",
    "ax_1.set_ylabel(\"Phase ($\\degree$)\")\n",
    "ax.legend(bbox_to_anchor=(1.1,1))\n",
    "ax.legend(loc=3)\n",
    "ax_1.legend(loc=4)\n",
    "ax.set_ylim(1, 10000)\n",
    "ax_1.set_ylim(0, 90)    \n",
    "ax0.set_xlim(1, 10000)\n",
    "plt.show()"
   ]
  }
 ],
 "metadata": {
  "iooxa": {
   "id": {
    "block": "acy8saOLepRubi2yfw17",
    "project": "BZ9XlZu3TFKIem4fwsfm",
    "version": 1
   }
  },
  "kernelspec": {
   "display_name": "Python 3",
   "language": "python",
   "name": "python3"
  },
  "language_info": {
   "codemirror_mode": {
    "name": "ipython",
    "version": 3
   },
   "file_extension": ".py",
   "mimetype": "text/x-python",
   "name": "python",
   "nbconvert_exporter": "python",
   "pygments_lexer": "ipython3",
   "version": "3.8.8"
  }
 },
 "nbformat": 4,
 "nbformat_minor": 5
}
